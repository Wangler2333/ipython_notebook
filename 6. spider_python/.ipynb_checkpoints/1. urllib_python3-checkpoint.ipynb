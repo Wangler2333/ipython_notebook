{
 "cells": [
  {
   "cell_type": "markdown",
   "metadata": {},
   "source": [
    "# urllib模块在python3中使用"
   ]
  },
  {
   "cell_type": "markdown",
   "metadata": {},
   "source": [
    "## GET请求"
   ]
  },
  {
   "cell_type": "markdown",
   "metadata": {},
   "source": [
    "### 1) 发送GET请求给网站，来获取静态网页"
   ]
  },
  {
   "cell_type": "code",
   "execution_count": 16,
   "metadata": {},
   "outputs": [
    {
     "name": "stdout",
     "output_type": "stream",
     "text": [
      "写入完成\n"
     ]
    }
   ],
   "source": [
    "import urllib.request as url_lib\n",
    "import ssl\n",
    "\n",
    "ssl._create_default_https_context = ssl._create_unverified_context # 取消python3中urllib模块的ssl证书验证\n",
    "\n",
    "req = url_lib.Request(\"http://www.python.org\") # 发送请求\n",
    "res = url_lib.urlopen(req) # 收到回答\n",
    "html_url = res.read() # 读取回答\n",
    "# print(html_url)\n",
    "f = open(\"html_urllib_01.html\",\"wb\") # 打开或创建文件\n",
    "f.write(html_url) # 将回答的内容写入文件\n",
    "f.close() # 关闭文件\n",
    "print(\"写入完成\")"
   ]
  },
  {
   "cell_type": "markdown",
   "metadata": {},
   "source": [
    "### 2) 发送带有header的请求，获取网页\n",
    "#### python中urllit模块默认发送的header：\n",
    "| 类型 | 内容 |\n",
    "| --- | --- |\n",
    "| Accept-Encoding | identity |\n",
    "|User-Agent | Python-urllit/3.6 |"
   ]
  },
  {
   "cell_type": "code",
   "execution_count": 15,
   "metadata": {},
   "outputs": [
    {
     "name": "stdout",
     "output_type": "stream",
     "text": [
      "写入完成\n"
     ]
    }
   ],
   "source": [
    "import urllib.request as url_lib\n",
    "# import urllib.parse\n",
    "import ssl\n",
    "\n",
    "ssl._create_default_https_context = ssl._create_unverified_context # 取消python3中urllib模块的ssl证书验证\n",
    "\n",
    "# 下\n",
    "# values = { \"act\" : \"login\" , \"login[email]\" : \"abc@abc.com\" , \"login[password]\" : \"123456\" }\n",
    "# data = urllib.parse.urlencode(values)\n",
    "\n",
    "user_agent = \"Mozilla/5.0 (Macintosh; Intel Mac OS X 10_13_2) AppleWebKit/537.36 (KHTML, like Gecko) Chrome/63.0.3239.84 Safari/537.36\"\n",
    "headers = { \"User-Agent\" : user_agent }\n",
    "\n",
    "req = url_lib.Request(\"http://www.python.org\", data = None , headers = headers) # 发送请求\n",
    "\n",
    "res = url_lib.urlopen(req) # 收到回答\n",
    "html_url = res.read() # 读取回答\n",
    "# print(html_url)\n",
    "f = open(\"html_urllib_02.html\",\"wb\") # 打开或创建文件\n",
    "f.write(html_url) # 将回答的内容写入文件\n",
    "f.close() # 关闭文件\n",
    "print(\"写入完成\")"
   ]
  },
  {
   "cell_type": "code",
   "execution_count": null,
   "metadata": {
    "collapsed": true
   },
   "outputs": [],
   "source": []
  }
 ],
 "metadata": {
  "kernelspec": {
   "display_name": "Python 3",
   "language": "python",
   "name": "python3"
  },
  "language_info": {
   "codemirror_mode": {
    "name": "ipython",
    "version": 3
   },
   "file_extension": ".py",
   "mimetype": "text/x-python",
   "name": "python",
   "nbconvert_exporter": "python",
   "pygments_lexer": "ipython3",
   "version": "3.6.3"
  }
 },
 "nbformat": 4,
 "nbformat_minor": 2
}
