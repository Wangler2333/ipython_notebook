{
 "cells": [
  {
   "cell_type": "markdown",
   "metadata": {
    "collapsed": true
   },
   "source": [
    "# 栈（stack）"
   ]
  },
  {
   "cell_type": "markdown",
   "metadata": {},
   "source": [
    "### 栈：先进后出，后进先出的一种线性表"
   ]
  },
  {
   "cell_type": "markdown",
   "metadata": {},
   "source": [
    "### 特性：同线性表\n",
    "- 元素具有相同的类型\n",
    "- 相邻元素具有前驱和后继的关系"
   ]
  },
  {
   "cell_type": "markdown",
   "metadata": {},
   "source": [
    "### 基本操作：\n",
    "- 1.初始化，建立一个空栈\n",
    "- 2.销毁栈\n",
    "- 3.清空栈\n",
    "- 4.判断栈是否为空，并返回True或False\n",
    "- 5.若栈存在且非空，返回栈的顶元素\n",
    "- 6.若栈存在，插入新元素成为栈顶元素\n",
    "- 7.删除栈中顶元素，并返回其值\n",
    "- 8.返回栈的元素个数"
   ]
  },
  {
   "cell_type": "code",
   "execution_count": 1,
   "metadata": {},
   "outputs": [
    {
     "name": "stdout",
     "output_type": "stream",
     "text": [
      "01 2\n",
      "02 a\n",
      "03 a\n",
      "04 h\n",
      "05 1\n",
      "06 h\n",
      "07 <bound method Stack.size of <__main__.Stack object at 0x10ef78dd8>>\n",
      "08 True\n",
      "end\n"
     ]
    }
   ],
   "source": [
    "class Stack(object):\n",
    "    # 初始化栈为空列表\n",
    "    def __init__(self):\n",
    "        self.items = []\n",
    "\n",
    "    # 判断栈是否为空，返回布尔值\n",
    "    def is_empty(self):\n",
    "        return self.items == []\n",
    "\n",
    "    # 返回栈顶元素\n",
    "    def peek(self):\n",
    "        return self.items[- 1]\n",
    "\n",
    "    # 返回栈的大小\n",
    "    def size(self):\n",
    "        return len(self.items)\n",
    "\n",
    "    # 把新的元素堆进栈里面（程序员喜欢把这个过程叫做压栈，入栈，进栈……）\n",
    "    def push(self, item):\n",
    "        self.items.append(item)\n",
    "\n",
    "    # 把栈顶元素丢出去（程序员喜欢把这个过程叫做出栈……）\n",
    "    def pop(self):\n",
    "        return self.items.pop()\n",
    "\n",
    "\n",
    "if __name__ == \"__main__\":\n",
    "    # 初始化一个栈对象\n",
    "    my_stack = Stack()\n",
    "    # 把'h'丢进栈里\n",
    "    my_stack.push('h')\n",
    "    # 把'a'丢进栈里\n",
    "    my_stack.push('a')\n",
    "    # 看一下栈的大小（有几个元素）\n",
    "    print(\"01 %s\" % my_stack.size())\n",
    "    # 打印栈顶元素\n",
    "    print(\"02 %s\" % my_stack.peek())\n",
    "    # 把栈顶元素丢出去，并打印出来\n",
    "    print(\"03 %s\" % my_stack.pop())\n",
    "    # 再看一下栈顶元素是谁\n",
    "    print(\"04 %s\" % my_stack.peek())\n",
    "    # 这个时候栈的大小是多少？\n",
    "    print(\"05 %s\" % my_stack.size())\n",
    "    # 再丢一个栈顶元素\n",
    "    print(\"06 %s\" % my_stack.pop())\n",
    "    # 看一下栈的大小\n",
    "    print(\"07 %s\" % my_stack.size)\n",
    "    # 栈是不是空了？\n",
    "    print(\"08 %s\" % my_stack.is_empty())\n",
    "    # 哦哦哦哦哦\n",
    "    print('end')"
   ]
  },
  {
   "cell_type": "code",
   "execution_count": null,
   "metadata": {
    "collapsed": true
   },
   "outputs": [],
   "source": []
  }
 ],
 "metadata": {
  "kernelspec": {
   "display_name": "Python 3",
   "language": "python",
   "name": "python3"
  },
  "language_info": {
   "codemirror_mode": {
    "name": "ipython",
    "version": 3
   },
   "file_extension": ".py",
   "mimetype": "text/x-python",
   "name": "python",
   "nbconvert_exporter": "python",
   "pygments_lexer": "ipython3",
   "version": "3.6.3"
  }
 },
 "nbformat": 4,
 "nbformat_minor": 2
}
