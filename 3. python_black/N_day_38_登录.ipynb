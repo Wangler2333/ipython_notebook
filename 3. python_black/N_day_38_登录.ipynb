{
 "cells": [
  {
   "cell_type": "markdown",
   "metadata": {},
   "source": [
    "# all()方法\n",
    "\n",
    "```python\n",
    "# all()方法，当a，b，c全为真，all()返回真\n",
    "all([a,b,c])\n",
    "```\n",
    "\n",
    "- 接收数据\n",
    "- 校验数据完整性\n",
    "- 校验数据格式\n",
    "- 与数据库比对\n",
    "- 发送邮件\n",
    "- 返回数据"
   ]
  },
  {
   "cell_type": "markdown",
   "metadata": {},
   "source": [
    "# Django认证系统\n",
    "- 添加用户：\n",
    "\n",
    "```\n",
    "user = User.object.create_user(username, email, password)\n",
    "user.is_active = 0\n",
    "user.save()\n",
    "```"
   ]
  },
  {
   "cell_type": "markdown",
   "metadata": {},
   "source": [
    "# 类视图\n",
    "- 对请求方式分类处理，使用类视图\n",
    "- 变量:类名，指定类型\n",
    "```python\n",
    "# 导入django.view.generic.View\n",
    "class RegisterView(View):\n",
    "    def get(self, request:HttpRequest):\n",
    "        pass\n",
    "    def post(self, request):\n",
    "        pass\n",
    "# url指向RegisterView.as_View()会对请求方式进行分发，未定义的请求方式返回方法未找到\n",
    "```"
   ]
  },
  {
   "cell_type": "markdown",
   "metadata": {},
   "source": [
    "# itsdangerous模块加密\n",
    "```python\n",
    "from itsdangerous import TimedJSONWebSignatureSerializer as Se\n",
    "\n",
    "se = Se('key',3600)  # 设置key和过期时间（秒）\n",
    "info = {'liduo':1}\n",
    "res = se.dumps(info)  # 加密\n",
    "ans = res.load(res)  # 解密\n",
    "```"
   ]
  },
  {
   "cell_type": "markdown",
   "metadata": {},
   "source": [
    "# 发送邮件\n",
    "- 获取SMTP服务器\n",
    "\n",
    "```python\n",
    "# settings.py文件\n",
    "\n",
    "# 发送邮件配置\n",
    "EMAIL_BACKEND = 'django.core.mail.backends.smtp.EmailBackend'\n",
    "# smpt服务地址\n",
    "EMAIL_HOST = 'smtp.163.com'\n",
    "EMAIL_PORT = 25\n",
    "# 发送邮件的邮箱\n",
    "EMAIL_HOST_USER = 'smartli_it@163.com'\n",
    "# 在邮箱中设置的客户端授权密码\n",
    "EMAIL_HOST_PASSWORD = 'smartli123'\n",
    "# 收件人看到的发件人\n",
    "EMAIL_FROM = 'Python<smartli_it@163.com>'\n",
    "```\n",
    "\n",
    "- from django.core.mail import send_mail\n",
    "- send_mail(subject, message, from_email, recive_list,html_message=...)：标题，正文，发件人，收件人列表\n",
    "- message：字符串\n",
    "- html_message：发送HTML标签"
   ]
  },
  {
   "cell_type": "markdown",
   "metadata": {},
   "source": [
    "# celery异步发送邮件\n",
    "- 任务发出者-->任务队列（中间人broker）-->任务处理者（worker）\n",
    "- 中间人：RabbitMQ或Redis\n",
    "- 发出者：项目代码，加入队列\n",
    "- 处理者：监听队列，执行代码\n",
    "- 1.安装包：celery\n",
    "- 2.新建文件celery_tasks/tasks.py保存任务\n",
    "- 3.tasks.py写代码\n",
    "\n",
    "```python\n",
    "# 使用celery\n",
    "from django.core.mail import send_mail\n",
    "from django.conf import settings\n",
    "from celery import Celery\n",
    "import time\n",
    "\n",
    "# 在任务处理者一端加这几句\n",
    "# import os\n",
    "# import django\n",
    "# os.environ.setdefault(\"DJANGO_SETTINGS_MODULE\", \"dailyfresh.settings\")\n",
    "# django.setup()\n",
    "\n",
    "# 创建一个Celery类的实例对象\n",
    "app = Celery('celery_task.task', broker='redis://ip:port/数据库')\n",
    "\n",
    "# app = Celery('celery_tasks.tasks', broker='redis://172.16.179.130:6379/8')\n",
    "\n",
    "\n",
    "# 定义任务函数\n",
    "@app.task\n",
    "def send_register_active_email(to_email, username, token):\n",
    "    '''发送激活邮件'''\n",
    "    # 组织邮件信息\n",
    "    subject = '欢迎信息'\n",
    "    message = ''\n",
    "    sender = settings.EMAIL_FROM\n",
    "    receiver = [to_email]\n",
    "    html_message = '<h1>%s, 欢迎您成为注册会员</h1>请点击下面链接激活您的账户<br/><a href=\"http://127.0.0.1:8000/user/active/%s\">http://127.0.0.1:8000/user/active/%s</a>' % (username, token, token)\n",
    "\n",
    "    send_mail(subject, message, sender, receiver, html_message=html_message)\n",
    "    time.sleep(5)\n",
    "```\n",
    "\n",
    "- 4.发布任务\n",
    "\n",
    "```python\n",
    "send_register_active_email.delay(email, username, token)\n",
    "```\n",
    "\n",
    "- 5.启动worker\n",
    "\n",
    "```shell\n",
    "cd /.../django项目\n",
    "celery -A celery_tasks.tasks worker -l info\n",
    "```"
   ]
  },
  {
   "cell_type": "code",
   "execution_count": null,
   "metadata": {},
   "outputs": [],
   "source": []
  }
 ],
 "metadata": {
  "kernelspec": {
   "display_name": "Python 3",
   "language": "python",
   "name": "python3"
  },
  "language_info": {
   "codemirror_mode": {
    "name": "ipython",
    "version": 3
   },
   "file_extension": ".py",
   "mimetype": "text/x-python",
   "name": "python",
   "nbconvert_exporter": "python",
   "pygments_lexer": "ipython3",
   "version": "3.6.5"
  }
 },
 "nbformat": 4,
 "nbformat_minor": 2
}
