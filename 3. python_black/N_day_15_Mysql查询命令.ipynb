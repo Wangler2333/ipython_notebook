{
 "cells": [
  {
   "cell_type": "markdown",
   "metadata": {},
   "source": [
    "# Mysql查询"
   ]
  },
  {
   "cell_type": "markdown",
   "metadata": {},
   "source": [
    "### 查询：\n",
    "\n",
    "```mysql\n",
    "-- 查询所有：\n",
    "select * from students;\n",
    "-- ---------------------------------------\n",
    "-- 查询指定：\n",
    "select id,name from classes;\n",
    "-- ---------------------------------------\n",
    "-- 起别名：\n",
    "select name as 名字,age as 年龄 from classes;\n",
    "select students.name,students.age from students;\n",
    "select s.name,s.age from students as s;\n",
    "-- ---------------------------------------\n",
    "-- 消除重复行：\n",
    "select distinct gender from students;\n",
    "```"
   ]
  },
  {
   "cell_type": "markdown",
   "metadata": {},
   "source": [
    "### 条件查询\n",
    "\n",
    "```mysql\n",
    "-- 比较运算符（>,<,>=,<=,=,!=,<>）：\n",
    "select * from students where age>18;\n",
    "select name from students where age=18;\n",
    "-- ---------------------------------------\n",
    "-- 逻辑运算符（and，or，not）：\n",
    "select * from students where age>18 and age<28;\n",
    "select * from students where age>18 or heigh>=170;\n",
    "select * from students where not (age>18 and gender=2);\n",
    "select * from students where (not age>18) and gebder=2;\n",
    "-- ---------------------------------------\n",
    "-- 模糊查询：\n",
    "-- like:\n",
    "-- %替换0个或多个\n",
    "-- _替换1个\n",
    "select * from students where name like \"小%\";\n",
    "select name from students where name like \"__\";\n",
    "\n",
    "-- relike正则:\n",
    "select name from students where name relike \"^周.*\";\n",
    "select name from students where name relike \"^周.*伦\";\n",
    "-- ---------------------------------------\n",
    "-- 范围查询（in，not in，between...and...，not between...and...）：\n",
    "select name,age from students age in (18,20,25);\n",
    "select name,age from students age not in (18,20,25);\n",
    "select name,age from students age between 18 and 30;\n",
    "select name,age from students age not between 18 and 30;\n",
    "-- ---------------------------------------\n",
    "-- 空判断：\n",
    "select name,height from students height is null;\n",
    "select name,height from students height is not null;\n",
    "```"
   ]
  },
  {
   "cell_type": "markdown",
   "metadata": {},
   "source": [
    "### 排序\n",
    "```mysql\n",
    "-- 生序，从小到大（asc）：\n",
    "select * from students where (age between 18 and 34) and gender=2 order by age asc;\n",
    "-- 降序，从大到小（desc）：\n",
    "select * from students where (age between 18 and 34) and gender=2 order by age desc;\n",
    "-- ---------------------------------------\n",
    "-- order by 多字段（第一个相同，按第二个...）：\n",
    "select * from students where (age between 18 and 34) and gender=2 order by age desc,id desc,height asc;\n",
    "select * from students order by age asc,height desc;\n",
    "```"
   ]
  },
  {
   "cell_type": "markdown",
   "metadata": {},
   "source": [
    "### 聚合函数\n",
    "```mysql\n",
    "-- 总数count：\n",
    "select count(*) from students where gender=1;\n",
    "select count(*) as 男性人数 from students where gender=1;\n",
    "-- ---------------------------------------\n",
    "-- 最大值max：\n",
    "select max(age) from students;\n",
    "select max(age) from students where gender=1;\n",
    "-- ---------------------------------------\n",
    "-- 最小值min：\n",
    "select min(age) from students;\n",
    "-- ---------------------------------------\n",
    "-- 求和sum：\n",
    "select sum(age) from students;\n",
    "-- ---------------------------------------\n",
    "-- 平均值avg：\n",
    "select avg(age) from students;\n",
    "select sum(age)/count(*) from students;\n",
    "-- ---------------------------------------\n",
    "-- 四舍五入round(123.456,1)：123.456保留1位小数，四舍五入\n",
    "select round(avg(age),2) from students;\n",
    "```"
   ]
  },
  {
   "cell_type": "markdown",
   "metadata": {},
   "source": [
    "### 分组\n",
    "```mysql\n",
    "-- group by：\n",
    "-- 按性别分组：\n",
    "select gender from students group by gender;\n",
    "-- 对分组结果计算数目：\n",
    "select gender,count(*) from students group by gender;\n",
    "-- 对分组前的数据进行过滤（where）：\n",
    "select gender,count(*) from students where gender=1 group by gender;\n",
    "-- ---------------------------------------\n",
    "-- group_concat():\n",
    "-- 按gender分组后，各组name成员有谁：\n",
    "select gender,group_concat(name) from students group by gender;\n",
    "-- 组合显示name,age,id：\n",
    "select gender,group_concat(name,age,id) from students group by gender;\n",
    "-- 组合显示name,\"_\",age, ,id：\n",
    "select gender,group_concat(name,\"_\",age, ,id) from students group by gender;\n",
    "-- ---------------------------------------\n",
    "-- having对分组后的各组按条件过滤：\n",
    "select gender,group_concat(name),avg(age) from students group by gender having avg(age)>30;\n",
    "```"
   ]
  },
  {
   "cell_type": "markdown",
   "metadata": {},
   "source": [
    "### 分页\n",
    "```mysql\n",
    "-- limit:\n",
    "-- 查询前五个数据：\n",
    "select * from students limit 5;\n",
    "-- 查询从第1个开始共5数据（计数从0开始）：\n",
    "select * from students limit 0,5;\n",
    "-- 复杂代码limit位置在最后：\n",
    "select * from students where (age between 18 and 34) and gender=2 order by age desc,id desc,height asc limit 0,5;\n",
    "\n",
    "-- 使用limit分页（每页显示5个）：\n",
    "-- 第一页：\n",
    "select * from students limit 0,5;\n",
    "-- 第二页：\n",
    "select * from students limit 5,5;\n",
    "-- 第三页：\n",
    "select * from students limit 10,5;\n",
    "-- 第四页：\n",
    "select * from students limit 15,5;\n",
    "-- 第五页：\n",
    "select * from students limit 20,5;\n",
    "-- 第六页：\n",
    "select * from students limit 25,5;\n",
    "```"
   ]
  },
  {
   "cell_type": "markdown",
   "metadata": {},
   "source": [
    "### 连接查询\n",
    "#### 内连接（只保留两表交集部分）\n",
    "```mysql\n",
    "-- 内连接inner join ... on：\n",
    "-- select ... from 表A inner join 表B\n",
    "-- 将两个表连接在一起：\n",
    "select * from students inner join classes\n",
    "-- 加入条件students.cls_id=classes.id过滤：\n",
    "select * from students inner join classes on students.cls_id=classes.id;\n",
    "-- 对上述结果优化，不显示clesses.id\n",
    "select students.*,clesses.name from students inner join classes on students.cls_id=classes.id;\n",
    "-- 只显示学生名字，班级名字：\n",
    "select students.name,clesses.name from students inner join classes on students.cls_id=classes.id;\n",
    "-- 起名字：\n",
    "select s.name,c.name from students as s inner join classes as c on students.cls_id=classes.id;\n",
    "\n",
    "-- 结果排序：\n",
    "select s.name,c.name from students as s inner join classes as c on students.cls_id=classes.id order by c.name;\n",
    "```\n",
    "#### 外连接（以偏向表为基础连接，无数据部分为null）\n",
    "```mysql\n",
    "-- 左连接left join ... on：以students为基准\n",
    "select * from students left join classes on students.cls_id=classes.id;\n",
    "-- 右连接right join ... on：以classes为基准\n",
    "select * from students right join classes on students.cls_id=classes.id;\n",
    "```\n",
    "#### 自连接（一张表的值关联的也是自己的表）\n",
    "```mysql\n",
    "-- 省级联动\n",
    "-- 表结构：三个列为aid，atitle，pid；pid与aid关联\n",
    "-- 自关联查询：\n",
    "select * from areas as province inner join areas as city on province.aid=city.pid having province.atitle=\"河北省\"\n",
    "```"
   ]
  },
  {
   "cell_type": "markdown",
   "metadata": {},
   "source": [
    "### 子查询\n",
    "```mysql\n",
    "select max(height) from students\n",
    "select * from students where height=188\n",
    "-- 等价于：\n",
    "select * from students where (select max(height) from students)\n",
    "```"
   ]
  },
  {
   "cell_type": "markdown",
   "metadata": {},
   "source": [
    "# 数据表设计"
   ]
  },
  {
   "cell_type": "markdown",
   "metadata": {},
   "source": [
    "> **三范式**\n",
    "- 1.数据不可拆分\n",
    "- 2.必须有主键（主键可以由多个字段组成），其他字段必须依赖于主键，而非依赖于主键的一部分或不依赖\n",
    "- 3.在2基础上，其他字段必须直接依赖于主键，而非间接依赖"
   ]
  },
  {
   "cell_type": "markdown",
   "metadata": {},
   "source": [
    "> **E-R模型：E-empty实体**\n",
    "- 一对一：外键随意添加\n",
    "- 多对一：在多添加外键\n",
    "- 多对多：新建表（两列）记录关系"
   ]
  }
 ],
 "metadata": {
  "kernelspec": {
   "display_name": "Python 3",
   "language": "python",
   "name": "python3"
  },
  "language_info": {
   "codemirror_mode": {
    "name": "ipython",
    "version": 3
   },
   "file_extension": ".py",
   "mimetype": "text/x-python",
   "name": "python",
   "nbconvert_exporter": "python",
   "pygments_lexer": "ipython3",
   "version": "3.6.5"
  }
 },
 "nbformat": 4,
 "nbformat_minor": 2
}
