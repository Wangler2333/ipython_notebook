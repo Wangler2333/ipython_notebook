{
 "cells": [
  {
   "cell_type": "markdown",
   "metadata": {},
   "source": [
    "# 前端"
   ]
  },
  {
   "cell_type": "markdown",
   "metadata": {},
   "source": [
    "## HTML\n",
    "\n",
    "- 类型声明`<!DOCTYPE html>`\n",
    "- 标签`<html>文字</html>`"
   ]
  },
  {
   "cell_type": "raw",
   "metadata": {},
   "source": [
    "<1DOCTYPE html>\n",
    "<html>\n",
    "    <head>\n",
    "        <meta charset=\"utf-8\">\n",
    "        <title>Hello World</title>\n",
    "    </head>\n",
    "\n",
    "    <body>\n",
    "    \n",
    "    </body>\n",
    "\n",
    "</html>"
   ]
  },
  {
   "cell_type": "markdown",
   "metadata": {},
   "source": [
    "### 字符实体\n",
    "- &lt;----小于号<\n",
    "- &gt;----大于号>\n",
    "- &nbsp;--一个空格\n",
    "- &amp;---&的字符实体"
   ]
  },
  {
   "cell_type": "markdown",
   "metadata": {},
   "source": [
    "## css\n",
    "- 行内式\n",
    "- 嵌入式\n",
    "- 外链式\n",
    "-----------\n",
    "- 标签选择器`p{}`\n",
    "- 类选择器`<p class=\"p1\"> 有个点.p1{}`\n",
    "- 层级选择器`div p{}`或者`.p p{}`,div下的p标签"
   ]
  },
  {
   "cell_type": "markdown",
   "metadata": {},
   "source": []
  }
 ],
 "metadata": {
  "kernelspec": {
   "display_name": "Python 3",
   "language": "python",
   "name": "python3"
  },
  "language_info": {
   "codemirror_mode": {
    "name": "ipython",
    "version": 3
   },
   "file_extension": ".py",
   "mimetype": "text/x-python",
   "name": "python",
   "nbconvert_exporter": "python",
   "pygments_lexer": "ipython3",
   "version": "3.6.4"
  }
 },
 "nbformat": 4,
 "nbformat_minor": 2
}
