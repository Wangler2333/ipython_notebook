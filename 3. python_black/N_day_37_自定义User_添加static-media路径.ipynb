{
 "cells": [
  {
   "cell_type": "markdown",
   "metadata": {},
   "source": [
    "# 抽象模型类\n",
    "\n",
    "```python\n",
    "from django.db import models\n",
    "\n",
    "\n",
    "class BaseModel(models.Model):\n",
    "    \"\"\"\n",
    "    定义抽象模型类\n",
    "    \"\"\"\n",
    "    create_time = models.DateTimeField(auto_now_add=True, verbose_name='创建时间')\n",
    "    update_time = models.DateTimeField(auto_now=True, verbose_name='修改时间')\n",
    "    is_delete = models.BooleanField(default=False, verbose_name='删除标记')\n",
    "\n",
    "    class Meta:\n",
    "        abstract = True  # 是否为抽象模型类\n",
    "```"
   ]
  },
  {
   "cell_type": "markdown",
   "metadata": {},
   "source": [
    "# 自定义User模型类\n",
    "\n",
    "```python\n",
    "# settings.py\n",
    "\n",
    "# 继承重写User模型类时，指定自定义的模型类，'app名字.类名'\n",
    "AUTH_USER_MODEL = 'blog_sign.User'\n",
    "```\n",
    "\n",
    "---\n",
    "\n",
    "```python\n",
    "# models.py\n",
    "\n",
    "from db_model.base_model import BaseModel\n",
    "from django.contrib.auth.models import AbstractUser\n",
    "\n",
    "\n",
    "class User(AbstractUser, BaseModel):\n",
    "    def __str__(self):\n",
    "        return self.username\n",
    "\n",
    "    class Meta:\n",
    "        db_table = 'blog_user'\n",
    "        verbose_name = '用户列表'\n",
    "        verbose_name_plural = verbose_name\n",
    "```"
   ]
  },
  {
   "cell_type": "markdown",
   "metadata": {},
   "source": [
    "# 添加static文件夹和media文件夹的路径\n",
    "\n",
    "```python\n",
    "# 在urls.py添加url\n",
    "\n",
    "urlpatterns = [\n",
    "    url(r'^static/(?P<path>.*)$', 'django.views.static.serve', {'document_root': settings.STATIC_ROOT}),\n",
    "    url(r'^media/(?P<path>.*)$', 'django.views.static.serve', {'document_root': settings.MEDIA_ROOT}),\n",
    "    ]\n",
    "```"
   ]
  },
  {
   "cell_type": "code",
   "execution_count": null,
   "metadata": {},
   "outputs": [],
   "source": []
  }
 ],
 "metadata": {
  "kernelspec": {
   "display_name": "Python 3",
   "language": "python",
   "name": "python3"
  },
  "language_info": {
   "codemirror_mode": {
    "name": "ipython",
    "version": 3
   },
   "file_extension": ".py",
   "mimetype": "text/x-python",
   "name": "python",
   "nbconvert_exporter": "python",
   "pygments_lexer": "ipython3",
   "version": "3.6.5"
  }
 },
 "nbformat": 4,
 "nbformat_minor": 2
}
