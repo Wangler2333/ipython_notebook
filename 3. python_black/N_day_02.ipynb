{
 "cells": [
  {
   "cell_type": "markdown",
   "metadata": {},
   "source": [
    "day-02\n",
    "## 重定向\n",
    "```\n",
    "ls > file_names.txt #将ls显示的东西写入file_names.txt\n",
    "ls >> file_names.txt #不覆盖写入\n",
    "```"
   ]
  },
  {
   "cell_type": "markdown",
   "metadata": {},
   "source": [
    "## 查看文件\n",
    "```\n",
    "cat：显示全部\n",
    "more：f/b/space翻页，q退出\n",
    "```"
   ]
  },
  {
   "cell_type": "markdown",
   "metadata": {},
   "source": [
    "## 管道\n",
    "```\n",
    "tree /home | more：|符号为管道，传输数据到more\n",
    "```"
   ]
  },
  {
   "cell_type": "markdown",
   "metadata": {},
   "source": [
    "## 软连接\n",
    "```\n",
    "ln -s file_name.txt file_link.txt\n",
    "创建file_link.txt连接到file_name.txt\n",
    "软连接指向文件名\n",
    "```"
   ]
  },
  {
   "cell_type": "markdown",
   "metadata": {},
   "source": [
    "## 硬连接\n",
    "```\n",
    "ln -h file_name.txt file_link.txt\n",
    "创建file_link.txt连接到file_name.txt\n",
    "硬连接指向数据\n",
    "```"
   ]
  },
  {
   "cell_type": "markdown",
   "metadata": {},
   "source": [
    "## 搜索\n",
    "```\n",
    "grep：搜索文本，支持正则表达式 #grep \"h\" 1.txt\n",
    " -n：显示行号\n",
    " -i：忽略大小写\n",
    " -v：求反\n",
    "find：搜索文件，支持正则表达式 #find 路径 参数 关键字\n",
    "```"
   ]
  },
  {
   "cell_type": "markdown",
   "metadata": {},
   "source": [
    "### 通配符\n",
    "```\n",
    "*：表示0个及以上任意字符\n",
    "？：表示任意1个字符\n",
    "```"
   ]
  },
  {
   "cell_type": "markdown",
   "metadata": {},
   "source": [
    "## 打包，压缩\n",
    "\n",
    "```\n",
    "压缩\n",
    "tar -cvf xxx.tar *.txt\n",
    "gzip xxx.tar\n",
    "等于：\n",
    "tar -zcvf xxx.tar.gz *.txt\n",
    "\n",
    "解压\n",
    "gzip -d xxx.tar.gz\n",
    "tar -xvf xxx.tar\n",
    "等于：\n",
    "tar -zxvf xxx.tar.gz\n",
    "\n",
    "-C 路径：指定路径\n",
    "```"
   ]
  },
  {
   "cell_type": "markdown",
   "metadata": {},
   "source": [
    "## 修改文件权限\n",
    "```\n",
    "chmod u+x 1.txt\n",
    "chmod u-w 1.txt\n",
    "chmod u=rwx 1.txt\n",
    "chmod u=,g=,o= 1.txt\n",
    "chmod 666 1.txt   #666:u=rw,g=rw,o=rw\n",
    "chmod 751 1.txt   #751:u=rwx,g=rx,o=x\n",
    "chmod 000 1.txt\n",
    "chmod 777 a -R.   #更改文件夹及子文件夹权限\n",
    " r->4:read,w->2:write,x->1:执行\n",
    " u:user\n",
    " g:group\n",
    " o:other\n",
    " a:all"
   ]
  }
 ],
 "metadata": {
  "kernelspec": {
   "display_name": "Python 3",
   "language": "python",
   "name": "python3"
  },
  "language_info": {
   "codemirror_mode": {
    "name": "ipython",
    "version": 3
   },
   "file_extension": ".py",
   "mimetype": "text/x-python",
   "name": "python",
   "nbconvert_exporter": "python",
   "pygments_lexer": "ipython3",
   "version": "3.6.4"
  }
 },
 "nbformat": 4,
 "nbformat_minor": 2
}
