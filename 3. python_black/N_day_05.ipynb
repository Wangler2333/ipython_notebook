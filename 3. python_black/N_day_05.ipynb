{
 "cells": [
  {
   "cell_type": "markdown",
   "metadata": {},
   "source": [
    "## 多线程(时间片轮转)"
   ]
  },
  {
   "cell_type": "code",
   "execution_count": 7,
   "metadata": {},
   "outputs": [
    {
     "name": "stdout",
     "output_type": "stream",
     "text": [
      "dancing\n",
      "dancing\n",
      "dancing\n",
      "dancing\n",
      "dancing\n",
      "singing\n",
      "singing\n",
      "singing\n",
      "singing\n",
      "singing\n"
     ]
    }
   ],
   "source": [
    "import threading\n",
    "import time\n",
    "\n",
    "def dance():\n",
    "    for i in range(5):\n",
    "        print(\"dancing\")\n",
    "        time.sleep(1)\n",
    "\n",
    "def sing():\n",
    "    for i in range(5):\n",
    "        print(\"singing\")\n",
    "        time.sleep(1)\n",
    "    \n",
    "def main():\n",
    "    dance()\n",
    "    sing()\n",
    "    \n",
    "if __name__ == \"__main__\":\n",
    "    main()"
   ]
  },
  {
   "cell_type": "code",
   "execution_count": 13,
   "metadata": {},
   "outputs": [
    {
     "name": "stdout",
     "output_type": "stream",
     "text": [
      "dancing\n",
      "singing\n",
      "dancingsinging\n",
      "\n",
      "singingdancing\n",
      "\n",
      "dancingsinging\n",
      "\n",
      "dancing\n",
      "singing\n"
     ]
    }
   ],
   "source": [
    "# 并发随机分配执行\n",
    "import threading\n",
    "import time\n",
    "\n",
    "def dance():\n",
    "    for i in range(5):\n",
    "        print(\"dancing\")\n",
    "        time.sleep(1)\n",
    "\n",
    "def sing():\n",
    "    for i in range(5):\n",
    "        print(\"singing\")\n",
    "        time.sleep(1)\n",
    "    \n",
    "def main():\n",
    "    t1 = threading.Thread(target=dance, args=())\n",
    "    t2 = threading.Thread(target=sing, args=())\n",
    "    t1.start()\n",
    "    t2.start()\n",
    "    \n",
    "if __name__ == \"__main__\":\n",
    "    main()"
   ]
  },
  {
   "cell_type": "markdown",
   "metadata": {},
   "source": [
    "```\n",
    "并行：真的多任务\n",
    "并发：假的多任务\n",
    "```"
   ]
  },
  {
   "cell_type": "code",
   "execution_count": 15,
   "metadata": {},
   "outputs": [
    {
     "name": "stdout",
     "output_type": "stream",
     "text": [
      "0 aa\n",
      "1 bb\n",
      "2 cc\n"
     ]
    }
   ],
   "source": [
    "a = [\"aa\", \"bb\", \"cc\"]\n",
    "for num, value in enumerate(a):\n",
    "    print(num, value)"
   ]
  },
  {
   "cell_type": "code",
   "execution_count": 23,
   "metadata": {},
   "outputs": [
    {
     "name": "stdout",
     "output_type": "stream",
     "text": [
      "[<_MainThread(MainThread, started 4320768832)>, <Thread(Thread-2, started daemon 123145477660672)>, <Heartbeat(Thread-3, started daemon 123145482915840)>, <HistorySavingThread(IPythonHistorySavingThread, started 123145489244160)>, <ParentPollerUnix(Thread-1, started daemon 123145494499328)>]\n",
      "------------------------------\n",
      "当前运行线程数：5\n"
     ]
    }
   ],
   "source": [
    "# 查看当前运行线程\n",
    "# threading.enumerate()函数查看当前运行线程，返回列表\n",
    "x = threading.enumerate()\n",
    "print(x)\n",
    "print(\"-\"*30)\n",
    "print(\"当前运行线程数：%d\" % len(x))"
   ]
  },
  {
   "cell_type": "code",
   "execution_count": null,
   "metadata": {},
   "outputs": [],
   "source": []
  }
 ],
 "metadata": {
  "kernelspec": {
   "display_name": "Python 3",
   "language": "python",
   "name": "python3"
  },
  "language_info": {
   "codemirror_mode": {
    "name": "ipython",
    "version": 3
   },
   "file_extension": ".py",
   "mimetype": "text/x-python",
   "name": "python",
   "nbconvert_exporter": "python",
   "pygments_lexer": "ipython3",
   "version": "3.6.4"
  }
 },
 "nbformat": 4,
 "nbformat_minor": 2
}
