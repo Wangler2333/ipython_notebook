{
 "cells": [
  {
   "cell_type": "markdown",
   "metadata": {},
   "source": [
    "## 多线程(时间片轮转)"
   ]
  },
  {
   "cell_type": "code",
   "execution_count": 7,
   "metadata": {},
   "outputs": [
    {
     "name": "stdout",
     "output_type": "stream",
     "text": [
      "dancing\n",
      "dancing\n",
      "dancing\n",
      "dancing\n",
      "dancing\n",
      "singing\n",
      "singing\n",
      "singing\n",
      "singing\n",
      "singing\n"
     ]
    }
   ],
   "source": [
    "import threading\n",
    "import time\n",
    "\n",
    "def dance():\n",
    "    for i in range(5):\n",
    "        print(\"dancing\")\n",
    "        time.sleep(1)\n",
    "\n",
    "def sing():\n",
    "    for i in range(5):\n",
    "        print(\"singing\")\n",
    "        time.sleep(1)\n",
    "    \n",
    "def main():\n",
    "    dance()\n",
    "    sing()\n",
    "    \n",
    "if __name__ == \"__main__\":\n",
    "    main()"
   ]
  },
  {
   "cell_type": "code",
   "execution_count": 13,
   "metadata": {},
   "outputs": [
    {
     "name": "stdout",
     "output_type": "stream",
     "text": [
      "dancing\n",
      "singing\n",
      "dancingsinging\n",
      "\n",
      "singingdancing\n",
      "\n",
      "dancingsinging\n",
      "\n",
      "dancing\n",
      "singing\n"
     ]
    }
   ],
   "source": [
    "# 并发随机分配执行\n",
    "import threading\n",
    "import time\n",
    "\n",
    "def dance():\n",
    "    for i in range(5):\n",
    "        print(\"dancing\")\n",
    "        time.sleep(1)\n",
    "\n",
    "def sing():\n",
    "    for i in range(5):\n",
    "        print(\"singing\")\n",
    "        time.sleep(1)\n",
    "    \n",
    "def main():\n",
    "    t1 = threading.Thread(target=dance, args=())\n",
    "    t2 = threading.Thread(target=sing, args=())\n",
    "    t1.start()\n",
    "    t2.start()\n",
    "    \n",
    "if __name__ == \"__main__\":\n",
    "    main()"
   ]
  },
  {
   "cell_type": "markdown",
   "metadata": {},
   "source": [
    "```\n",
    "并行：真的多任务\n",
    "并发：假的多任务\n",
    "```"
   ]
  },
  {
   "cell_type": "code",
   "execution_count": 15,
   "metadata": {},
   "outputs": [
    {
     "name": "stdout",
     "output_type": "stream",
     "text": [
      "0 aa\n",
      "1 bb\n",
      "2 cc\n"
     ]
    }
   ],
   "source": [
    "a = [\"aa\", \"bb\", \"cc\"]\n",
    "for num, value in enumerate(a):\n",
    "    print(num, value)"
   ]
  },
  {
   "cell_type": "code",
   "execution_count": 23,
   "metadata": {},
   "outputs": [
    {
     "name": "stdout",
     "output_type": "stream",
     "text": [
      "[<_MainThread(MainThread, started 4320768832)>, <Thread(Thread-2, started daemon 123145477660672)>, <Heartbeat(Thread-3, started daemon 123145482915840)>, <HistorySavingThread(IPythonHistorySavingThread, started 123145489244160)>, <ParentPollerUnix(Thread-1, started daemon 123145494499328)>]\n",
      "------------------------------\n",
      "当前运行线程数：5\n"
     ]
    }
   ],
   "source": [
    "# 查看当前运行线程\n",
    "# threading.enumerate()函数查看当前运行线程，返回列表\n",
    "x = threading.enumerate()\n",
    "print(x)\n",
    "print(\"-\"*30)\n",
    "print(\"当前运行线程数：%d\" % len(x))"
   ]
  },
  {
   "cell_type": "markdown",
   "metadata": {},
   "source": [
    "### 使用类重写创建线程"
   ]
  },
  {
   "cell_type": "code",
   "execution_count": 27,
   "metadata": {},
   "outputs": [
    {
     "name": "stdout",
     "output_type": "stream",
     "text": [
      "6\n",
      "6\n",
      "6\n",
      "6\n",
      "6\n"
     ]
    }
   ],
   "source": [
    "import threading\n",
    "import time\n",
    "\n",
    "class MyThread(threading.Thread):\n",
    "    def run(self):\n",
    "        self.num()\n",
    "    def num(self):\n",
    "        for i in range(5):\n",
    "            time.sleep(1)\n",
    "            print(len(threading.enumerate()))\n",
    "            \n",
    "if __name__ == \"__main__\":\n",
    "    t = MyThread()\n",
    "    t.start()"
   ]
  },
  {
   "cell_type": "markdown",
   "metadata": {},
   "source": [
    "### 函数修改全局变量\n",
    "- 修改引用需要添加global\n",
    "- 修改引用的数据不需要添加"
   ]
  },
  {
   "cell_type": "code",
   "execution_count": 35,
   "metadata": {},
   "outputs": [
    {
     "name": "stdout",
     "output_type": "stream",
     "text": [
      "10\n",
      "20\n",
      "[1, 2]\n",
      "[1, 2, 3]\n"
     ]
    }
   ],
   "source": [
    "# 修改全局变量实例\n",
    "a = 10\n",
    "b = [1,2]\n",
    "def cha():\n",
    "    global a\n",
    "    a += 10\n",
    "    print(a)\n",
    "\n",
    "def chb():\n",
    "    b.append(3)\n",
    "    print(b)\n",
    "\n",
    "print(a)\n",
    "cha()\n",
    "print(b)\n",
    "chb()"
   ]
  },
  {
   "cell_type": "code",
   "execution_count": 38,
   "metadata": {},
   "outputs": [
    {
     "name": "stdout",
     "output_type": "stream",
     "text": [
      "4440680904\n",
      "4444792712\n",
      "4444792712\n"
     ]
    }
   ],
   "source": [
    "# 列表中 += 相当于 extend()\n",
    "# 正常情况 += 就是 =。。+。。\n",
    "a = [1]\n",
    "print(id(a))\n",
    "a = a + [1]\n",
    "print(id(a))\n",
    "a += [1]\n",
    "print(id(a))"
   ]
  },
  {
   "cell_type": "code",
   "execution_count": 39,
   "metadata": {},
   "outputs": [
    {
     "name": "stdout",
     "output_type": "stream",
     "text": [
      "2 1\n"
     ]
    }
   ],
   "source": [
    "a = b = 1\n",
    "a += 1\n",
    "print(a,b)"
   ]
  },
  {
   "cell_type": "markdown",
   "metadata": {},
   "source": [
    "### 互斥锁\n",
    "- 锁只能上锁一次，其他程序上锁会阻塞\n",
    "- 互斥锁保证线程的程序执行完才会切换\n",
    "- 尽量把上锁代码量减少"
   ]
  },
  {
   "cell_type": "code",
   "execution_count": 40,
   "metadata": {},
   "outputs": [],
   "source": [
    "# 创建锁\n",
    "mutex = threading.Lock()\n",
    "# 上锁\n",
    "mutex.acquire()\n",
    "# 解锁\n",
    "mutex.release()"
   ]
  },
  {
   "cell_type": "code",
   "execution_count": 47,
   "metadata": {},
   "outputs": [
    {
     "name": "stdout",
     "output_type": "stream",
     "text": [
      "b:13287703\n",
      "a:13412191\n",
      "main:13412191\n"
     ]
    }
   ],
   "source": [
    "import threading\n",
    "import time\n",
    "\n",
    "num = 0\n",
    "\n",
    "def a():\n",
    "    global num\n",
    "    for i in range(10000000):\n",
    "        num += 1\n",
    "    print(\"a:%d\" % num)\n",
    "    \n",
    "def b():\n",
    "    global num\n",
    "    for i in range(10000000):\n",
    "        num += 1\n",
    "    print(\"b:%d\" % num)\n",
    "    \n",
    "def main():\n",
    "    t1 = threading.Thread(target=a)\n",
    "    t2 = threading.Thread(target=b)\n",
    "    t1.start()\n",
    "    t2.start()\n",
    "    time.sleep(5)\n",
    "    print(\"main:%d\" % num)\n",
    "    \n",
    "if __name__ == \"__main__\":\n",
    "    main()"
   ]
  },
  {
   "cell_type": "code",
   "execution_count": 51,
   "metadata": {},
   "outputs": [
    {
     "name": "stdout",
     "output_type": "stream",
     "text": [
      "a:10000000\n",
      "b:20000000\n",
      "main:20000000\n"
     ]
    }
   ],
   "source": [
    "# 循坏外上锁可以节省时间，但阻塞时间增加\n",
    "import threading\n",
    "import time\n",
    "\n",
    "num = 0\n",
    "m = threading.Lock()\n",
    "\n",
    "def a():\n",
    "    global num\n",
    "    m.acquire()\n",
    "    for i in range(10000000):\n",
    "        num += 1\n",
    "    m.release()\n",
    "    print(\"a:%d\" % num)\n",
    "    \n",
    "def b():\n",
    "    global num\n",
    "    m.acquire()\n",
    "    for i in range(10000000):\n",
    "        num += 1\n",
    "    m.release()\n",
    "    print(\"b:%d\" % num)\n",
    "    \n",
    "def main():\n",
    "    t1 = threading.Thread(target=a)\n",
    "    t2 = threading.Thread(target=b)\n",
    "    t1.start()\n",
    "    t2.start()\n",
    "    time.sleep(5)\n",
    "    print(\"main:%d\" % num)\n",
    "    \n",
    "if __name__ == \"__main__\":\n",
    "    main()"
   ]
  },
  {
   "cell_type": "code",
   "execution_count": 52,
   "metadata": {},
   "outputs": [
    {
     "name": "stdout",
     "output_type": "stream",
     "text": [
      "main:12747294\n",
      "a:19344496\n",
      "b:20000000\n"
     ]
    }
   ],
   "source": [
    "#循环内上锁的话，上锁解锁次数多运行时间较长，但阻塞时间较短\n",
    "import threading\n",
    "import time\n",
    "\n",
    "num = 0\n",
    "m = threading.Lock()\n",
    "\n",
    "def a():\n",
    "    global num\n",
    "    for i in range(10000000):\n",
    "        m.acquire()\n",
    "        num += 1\n",
    "        m.release()\n",
    "    print(\"a:%d\" % num)\n",
    "    \n",
    "def b():\n",
    "    global num\n",
    "    for i in range(10000000):\n",
    "        m.acquire()\n",
    "        num += 1\n",
    "        m.release()\n",
    "    print(\"b:%d\" % num)\n",
    "    \n",
    "def main():\n",
    "    t1 = threading.Thread(target=a)\n",
    "    t2 = threading.Thread(target=b)\n",
    "    t1.start()\n",
    "    t2.start()\n",
    "    time.sleep(5)\n",
    "    print(\"main:%d\" % num)\n",
    "    \n",
    "if __name__ == \"__main__\":\n",
    "    main()"
   ]
  },
  {
   "cell_type": "code",
   "execution_count": null,
   "metadata": {},
   "outputs": [],
   "source": []
  }
 ],
 "metadata": {
  "kernelspec": {
   "display_name": "Python 3",
   "language": "python",
   "name": "python3"
  },
  "language_info": {
   "codemirror_mode": {
    "name": "ipython",
    "version": 3
   },
   "file_extension": ".py",
   "mimetype": "text/x-python",
   "name": "python",
   "nbconvert_exporter": "python",
   "pygments_lexer": "ipython3",
   "version": "3.6.4"
  }
 },
 "nbformat": 4,
 "nbformat_minor": 2
}
