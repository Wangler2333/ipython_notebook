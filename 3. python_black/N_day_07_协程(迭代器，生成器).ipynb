{
 "cells": [
  {
   "cell_type": "markdown",
   "metadata": {},
   "source": [
    "# 协程"
   ]
  },
  {
   "cell_type": "markdown",
   "metadata": {},
   "source": [
    "### 迭代器（原有基础上得到新东西）"
   ]
  },
  {
   "cell_type": "markdown",
   "metadata": {},
   "source": [
    "- 迭代是访问集合的一种方式\n",
    "- 从集合第一个元素开始访问\n",
    "- 只向前不后退\n",
    "- -----\n",
    "- 迭代器可以节省储存列表的空间，即用即生"
   ]
  },
  {
   "cell_type": "code",
   "execution_count": 2,
   "metadata": {},
   "outputs": [
    {
     "data": {
      "text/plain": [
       "True"
      ]
     },
     "execution_count": 2,
     "metadata": {},
     "output_type": "execute_result"
    }
   ],
   "source": [
    "from collections import Iterable\n",
    "\n",
    "# 判断是否可迭代\n",
    "isinstance([11,22],Iterable)\n",
    "# isinstance（a，A）\n",
    "# isinstance用来判断a是否是A的子集"
   ]
  },
  {
   "cell_type": "markdown",
   "metadata": {},
   "source": [
    "```\n",
    "for循环步骤\n",
    "1.判断是否可迭代：\n",
    "    __iter__使其可迭代\n",
    "2.每次循环调用实例对象的__next__方法：\n",
    "    __next__用于循环调用\n",
    "```"
   ]
  },
  {
   "cell_type": "code",
   "execution_count": 3,
   "metadata": {},
   "outputs": [
    {
     "name": "stdout",
     "output_type": "stream",
     "text": [
      "True\n",
      "False\n",
      "1\n",
      "1\n",
      "2\n",
      "3\n"
     ]
    }
   ],
   "source": [
    "# 迭代器原理\n",
    "\n",
    "from collections import Iterable\n",
    "from collections import Iterator\n",
    "\n",
    "class Classmate(object):\n",
    "    def __init__(self):\n",
    "        self.names = list()\n",
    "        \n",
    "    def add(self, name):\n",
    "        self.names.append(name)\n",
    "    \n",
    "    # 加入__iter__使其可迭代\n",
    "    # return具有__iter__,__next__方法的引用\n",
    "    # return的引用就是迭代器\n",
    "    def __iter__(self):\n",
    "        \n",
    "        # 下方self把自己的实例引用传给ClassIterator()的obj\n",
    "        return ClassIterator(self)\n",
    "\n",
    "class ClassIterator(object):\n",
    "    def __init__(self, obj):\n",
    "        self.obj = obj\n",
    "        self.num = 0\n",
    "    \n",
    "    def __iter__(self):\n",
    "        pass\n",
    "    \n",
    "    def __next__(self):\n",
    "        if self.num < len(self.obj.names):\n",
    "            name = self.obj.names[self.num]\n",
    "            self.num += 1\n",
    "            return name\n",
    "        else:\n",
    "            \n",
    "            # 停止迭代\n",
    "            raise StopIteration\n",
    "    \n",
    "classmate = Classmate()\n",
    "classmate.add(\"1\")\n",
    "classmate.add(\"2\")\n",
    "classmate.add(\"3\")\n",
    "\n",
    "# isinstance( ,Iterable)判断是否可迭代\n",
    "print(isinstance(classmate, Iterable))\n",
    "\n",
    "# iter()得到__iter__方法返回值，即一个迭代器\n",
    "iterabor_c = iter(classmate)\n",
    "\n",
    "# isinstance( ,Iterator)判断是否是迭代器\n",
    "print(isinstance(classmate, Iterator))\n",
    "\n",
    "# 调用迭代器的__next__函数\n",
    "print(next(iterabor_c))\n",
    "\n",
    "# for循环中，每次循环都调用一次迭代器的__next__函数\n",
    "for i in classmate:\n",
    "    print(i)"
   ]
  },
  {
   "cell_type": "code",
   "execution_count": 5,
   "metadata": {},
   "outputs": [
    {
     "name": "stdout",
     "output_type": "stream",
     "text": [
      "1\n",
      "2\n",
      "3\n"
     ]
    }
   ],
   "source": [
    "# 迭代器简化\n",
    "\n",
    "from collections import Iterable\n",
    "from collections import Iterator\n",
    "\n",
    "class Classmate(object):\n",
    "    def __init__(self):\n",
    "        self.names = list()\n",
    "        self.num = 0\n",
    "        \n",
    "    def add(self, name):\n",
    "        self.names.append(name)\n",
    "    \n",
    "    def __iter__(self):\n",
    "        return self\n",
    "    \n",
    "    def __next__(self):\n",
    "        if self.num < len(self.names):\n",
    "            name = self.names[self.num]\n",
    "            self.num += 1\n",
    "            return name\n",
    "        else:\n",
    "            raise StopIteration\n",
    "    \n",
    "classmate = Classmate()\n",
    "classmate.add(\"1\")\n",
    "classmate.add(\"2\")\n",
    "classmate.add(\"3\")\n",
    "\n",
    "# for循环中，每次循环都调用一次迭代器的__next__函数\n",
    "for i in classmate:\n",
    "    print(i)"
   ]
  },
  {
   "cell_type": "markdown",
   "metadata": {},
   "source": [
    "```\n",
    "下述即为迭代器结构：\n",
    "\n",
    "    def __iter__(self):\n",
    "        return self\n",
    "    \n",
    "    def __next__(self):\n",
    "        if self.num < len(self.names):\n",
    "            name = self.names[self.num]\n",
    "            self.num += 1\n",
    "            return name\n",
    "        else:\n",
    "            raise StopIteration\n",
    "```"
   ]
  },
  {
   "cell_type": "code",
   "execution_count": 17,
   "metadata": {},
   "outputs": [
    {
     "name": "stdout",
     "output_type": "stream",
     "text": [
      "0\n",
      "1\n",
      "1\n",
      "2\n",
      "3\n",
      "5\n",
      "8\n",
      "13\n",
      "21\n",
      "34\n"
     ]
    }
   ],
   "source": [
    "# 斐波纳吉数列\n",
    "\n",
    "class Fblq(object):\n",
    "    def __init__(self, n):\n",
    "        self.l = list()\n",
    "        self.num = 0\n",
    "        self.n = n\n",
    "        self.a = 0\n",
    "        self.b = 1\n",
    "        self.f()\n",
    "        \n",
    "    def __iter__(self):\n",
    "        return self\n",
    "        \n",
    "    def __next__(self):\n",
    "        if self.num < self.n:\n",
    "            ret = self.l[self.num]\n",
    "            self.num += 1\n",
    "            return ret\n",
    "        else:\n",
    "            raise StopIteration\n",
    "        \n",
    "    def f(self):\n",
    "        for i in range(self.n):\n",
    "            self.l.append(self.a)\n",
    "            self.a, self.b = self.b, self.a+self.b\n",
    "            \n",
    "fbnq = Fblq(10)\n",
    "\n",
    "for q in fbnq:\n",
    "    print(q)\n",
    "            "
   ]
  },
  {
   "cell_type": "markdown",
   "metadata": {},
   "source": [
    "### 生成器\n",
    "- 生成器是一种特殊的迭代器\n",
    "- 边生成边输出，并具有可迭代性"
   ]
  },
  {
   "cell_type": "code",
   "execution_count": 4,
   "metadata": {},
   "outputs": [
    {
     "name": "stdout",
     "output_type": "stream",
     "text": [
      "[0, 2, 4, 6, 8, 10, 12, 14, 16, 18]\n"
     ]
    }
   ],
   "source": [
    "num = [x*2 for x in range(10)]\n",
    "print(num)"
   ]
  },
  {
   "cell_type": "code",
   "execution_count": 7,
   "metadata": {},
   "outputs": [
    {
     "name": "stdout",
     "output_type": "stream",
     "text": [
      "<generator object <genexpr> at 0x10886fe60>\n",
      "0\n",
      "2\n",
      "4\n",
      "6\n",
      "8\n",
      "10\n",
      "12\n",
      "14\n",
      "16\n",
      "18\n"
     ]
    }
   ],
   "source": [
    "# 这是生成器(不常用)，返回一个可迭代对象\n",
    "nums = (x*2 for x in range(10))\n",
    "print(nums)\n",
    "for i in nums:\n",
    "    print(i)"
   ]
  },
  {
   "cell_type": "code",
   "execution_count": 25,
   "metadata": {},
   "outputs": [
    {
     "name": "stdout",
     "output_type": "stream",
     "text": [
      "<generator object create_num at 0x108c627d8>\n",
      "0\n",
      "1\n",
      "1\n",
      "2\n",
      "3\n",
      "5\n",
      "8\n",
      "13\n",
      "21\n",
      "34\n",
      "------------------------------\n",
      "0\n",
      "1\n",
      "1\n",
      "2\n",
      "3\n",
      "5\n",
      "8\n",
      "13\n",
      "21\n",
      "34\n",
      "55\n",
      "89\n",
      "144\n",
      "233\n",
      "377\n",
      "610\n",
      "987\n",
      "1597\n",
      "2584\n",
      "4181\n",
      "None\n",
      "------------------------------\n"
     ]
    }
   ],
   "source": [
    "# 生成器\n",
    "\n",
    "def create_num(numb):\n",
    "    a, b = 0, 1\n",
    "    n = 0\n",
    "    while n < numb:\n",
    "        # print(a)\n",
    "        \n",
    "        # 加入yield使函数成为生成器模版\n",
    "        # yield返回函数运行到此时a的值\n",
    "        # yield可以理解为每次迭代输出时，暂停并返回yield\n",
    "        yield a\n",
    "        a, b = b, a + b\n",
    "        n += 1\n",
    "\n",
    "# 创建可迭代对象\n",
    "obj = create_num(10)\n",
    "obj2 = create_num(20)\n",
    "print(obj)\n",
    "\n",
    "# next()可以使可迭代对象逐步执行\n",
    "for i in range(10):\n",
    "    print(next(obj))\n",
    "\n",
    "print(\"-\"*30)\n",
    "\n",
    "while True:\n",
    "    try:\n",
    "        r = next(obj2)\n",
    "        print(r)\n",
    "    except Exception as ret:\n",
    "        print(ret.value)\n",
    "        break\n",
    "\n",
    "print(\"-\"*30)\n",
    "\n",
    "# 对obj迭代输出\n",
    "# next()函数已经对obj迭代输出完毕，所以下述for没有了输出\n",
    "for c in obj:\n",
    "    print(c)"
   ]
  },
  {
   "cell_type": "markdown",
   "metadata": {},
   "source": [
    "- 生成器创建的对象互不干涉，不影响next()输出"
   ]
  },
  {
   "cell_type": "markdown",
   "metadata": {},
   "source": [
    "### send激活\n",
    "- 除next()可以激活外，send也可以激活"
   ]
  },
  {
   "cell_type": "code",
   "execution_count": 32,
   "metadata": {},
   "outputs": [
    {
     "name": "stdout",
     "output_type": "stream",
     "text": [
      "0\n",
      ">>>>>> liduo\n",
      "1\n"
     ]
    }
   ],
   "source": [
    "def create_nums(numb):\n",
    "    a, b = 0, 1\n",
    "    n = 0\n",
    "    while n < numb:\n",
    "        r = yield a  # 激活时“暂停”\n",
    "        print(\">>>>>>\",r)\n",
    "        a, b = b, a + b\n",
    "        n += 1\n",
    "        \n",
    "o = create_nums(10)\n",
    "\n",
    "# send无法放在生成器开始时\n",
    "# 生成器开始时因为还没有“暂停”，所以无法替换\n",
    "ret = next(o)\n",
    "# 下述方法在生成器开始时使用也可以\n",
    "# ret = o.send(None)\n",
    "\n",
    "print(ret)\n",
    "\n",
    "# next()后生成器暂停，此时可以使用send()发送给\"yield a\"\n",
    "# send()括号中的参数会传给生成器中的\"yield a\"，并替换\n",
    "ret = o.send(\"liduo\")\n",
    "print(ret)"
   ]
  },
  {
   "cell_type": "code",
   "execution_count": 37,
   "metadata": {},
   "outputs": [
    {
     "name": "stdout",
     "output_type": "stream",
     "text": [
      ">>>>>> liduo\n",
      "1\n",
      ">>>>>> liduo\n",
      "1\n",
      ">>>>>> liduo\n",
      "2\n",
      ">>>>>> liduo\n",
      "3\n",
      ">>>>>> liduo\n",
      "5\n",
      ">>>>>> liduo\n",
      "8\n",
      ">>>>>> liduo\n",
      "13\n",
      ">>>>>> liduo\n",
      "21\n",
      ">>>>>> liduo\n",
      "34\n",
      ">>>>>> liduo\n"
     ]
    }
   ],
   "source": [
    "o = create_nums(10)\n",
    "next(o)\n",
    "while True:\n",
    "    try:\n",
    "        r = o.send(\"liduo\")\n",
    "        print(r)\n",
    "    except Exception as ret:\n",
    "        break"
   ]
  },
  {
   "cell_type": "markdown",
   "metadata": {},
   "source": [
    "# 多任务(yield)"
   ]
  },
  {
   "cell_type": "code",
   "execution_count": 39,
   "metadata": {},
   "outputs": [
    {
     "name": "stdout",
     "output_type": "stream",
     "text": [
      "---1---\n",
      "---2---\n",
      "---1---\n",
      "---2---\n",
      "---1---\n",
      "---2---\n",
      "---1---\n",
      "---2---\n",
      "---1---\n",
      "---2---\n",
      "---1---\n",
      "---2---\n",
      "---1---\n",
      "---2---\n",
      "---1---\n",
      "---2---\n",
      "---1---\n",
      "---2---\n",
      "---1---\n",
      "---2---\n"
     ]
    }
   ],
   "source": [
    "import time\n",
    "\n",
    "def test1():\n",
    "    while True:\n",
    "        print(\"---1---\")\n",
    "        time.sleep(0.5)\n",
    "        yield   # 用于暂停\n",
    "        \n",
    "def test2():\n",
    "    while True:\n",
    "        print(\"---2---\")\n",
    "        time.sleep(0.5)\n",
    "        yield   # 用于暂停\n",
    "        \n",
    "def main():\n",
    "    t1 = test1()\n",
    "    t2 = test2()\n",
    "    i = 0\n",
    "    while i < 10:\n",
    "        next(t1) # 触发暂停\n",
    "        next(t2) # 触发暂停\n",
    "        i += 1\n",
    "        \n",
    "if __name__ == \"__main__\":\n",
    "    main()"
   ]
  },
  {
   "cell_type": "markdown",
   "metadata": {},
   "source": [
    "# 多任务(greenlet)"
   ]
  },
  {
   "cell_type": "code",
   "execution_count": 6,
   "metadata": {},
   "outputs": [
    {
     "name": "stdout",
     "output_type": "stream",
     "text": [
      "---1---\n",
      "---2---\n",
      "---1---\n",
      "---2---\n",
      "---1---\n",
      "---2---\n",
      "---1---\n",
      "---2---\n",
      "---1---\n",
      "---2---\n"
     ]
    }
   ],
   "source": [
    "from greenlet import greenlet \n",
    "import time\n",
    "\n",
    "def test_1():\n",
    "    for i in range(5):\n",
    "        print(\"---1---\")\n",
    "        g2.switch()\n",
    "        time.sleep(0.2)\n",
    "        \n",
    "def test_2():\n",
    "    for i in range(5):\n",
    "        print(\"---2---\")\n",
    "        g1.switch()\n",
    "        time.sleep(0.2)\n",
    "        \n",
    "g1 = greenlet(test_1)\n",
    "g2 = greenlet(test_2)\n",
    "\n",
    "g1.switch()"
   ]
  },
  {
   "cell_type": "markdown",
   "metadata": {},
   "source": [
    "# 多任务(gevent)\n",
    "- 有延时才切换"
   ]
  },
  {
   "cell_type": "code",
   "execution_count": 4,
   "metadata": {},
   "outputs": [
    {
     "name": "stdout",
     "output_type": "stream",
     "text": [
      "<Greenlet at 0x1091b1508: f(5)> 0\n",
      "<Greenlet at 0x1091b1508: f(5)> 1\n",
      "<Greenlet at 0x1091b1508: f(5)> 2\n",
      "<Greenlet at 0x1091b1508: f(5)> 3\n",
      "<Greenlet at 0x1091b1508: f(5)> 4\n",
      "<Greenlet at 0x1091b15a0: f(4)> 0\n",
      "<Greenlet at 0x1091b15a0: f(4)> 1\n",
      "<Greenlet at 0x1091b15a0: f(4)> 2\n",
      "<Greenlet at 0x1091b15a0: f(4)> 3\n",
      "<Greenlet at 0x1091b10e0: f(3)> 0\n",
      "<Greenlet at 0x1091b10e0: f(3)> 1\n",
      "<Greenlet at 0x1091b10e0: f(3)> 2\n"
     ]
    }
   ],
   "source": [
    "# 无延时，不切换任务\n",
    "import gevent\n",
    "\n",
    "def f(n):\n",
    "    for i in range(n):\n",
    "        print(gevent.getcurrent(),i)\n",
    "        \n",
    "g1 = gevent.spawn(f, 5)\n",
    "g2 = gevent.spawn(f, 4)\n",
    "g3 = gevent.spawn(f, 3)\n",
    "\n",
    "# 开始运行\n",
    "g1.join()\n",
    "g2.join()\n",
    "g3.join()"
   ]
  },
  {
   "cell_type": "code",
   "execution_count": 7,
   "metadata": {},
   "outputs": [
    {
     "name": "stdout",
     "output_type": "stream",
     "text": [
      "<Greenlet at 0x1091b1470: f(5)> 0\n",
      "<Greenlet at 0x1091b1178: f(4)> 0\n",
      "<Greenlet at 0x1091b12a8: f(3)> 0\n",
      "<Greenlet at 0x1091b1470: f(5)> 1\n",
      "<Greenlet at 0x1091b1178: f(4)> 1\n",
      "<Greenlet at 0x1091b12a8: f(3)> 1\n",
      "<Greenlet at 0x1091b1470: f(5)> 2\n",
      "<Greenlet at 0x1091b1178: f(4)> 2\n",
      "<Greenlet at 0x1091b12a8: f(3)> 2\n",
      "<Greenlet at 0x1091b1470: f(5)> 3\n",
      "<Greenlet at 0x1091b1178: f(4)> 3\n",
      "<Greenlet at 0x1091b1470: f(5)> 4\n"
     ]
    }
   ],
   "source": [
    "# 延时，切换任务\n",
    "import gevent\n",
    "\n",
    "def f(n):\n",
    "    for i in range(n):\n",
    "        print(gevent.getcurrent(),i)\n",
    "        # 遇到延时，切换执行\n",
    "        gevent.sleep(0.1)\n",
    "        \n",
    "g1 = gevent.spawn(f, 5)\n",
    "g2 = gevent.spawn(f, 4)\n",
    "g3 = gevent.spawn(f, 3)\n",
    "\n",
    "# 遇到阻塞，开始执行\n",
    "g1.join()\n",
    "g2.join()\n",
    "g3.join()"
   ]
  },
  {
   "cell_type": "code",
   "execution_count": 10,
   "metadata": {},
   "outputs": [
    {
     "name": "stdout",
     "output_type": "stream",
     "text": [
      "<Greenlet at 0x108d129c8: f(5)> 0\n",
      "<Greenlet at 0x108d12a60: f(4)> 0\n",
      "<Greenlet at 0x108d12af8: f(3)> 0\n",
      "<Greenlet at 0x108d129c8: f(5)> 1\n",
      "<Greenlet at 0x108d12a60: f(4)> 1\n",
      "<Greenlet at 0x108d12af8: f(3)> 1\n",
      "<Greenlet at 0x108d129c8: f(5)> 2\n",
      "<Greenlet at 0x108d12a60: f(4)> 2\n",
      "<Greenlet at 0x108d12af8: f(3)> 2\n",
      "<Greenlet at 0x108d129c8: f(5)> 3\n",
      "<Greenlet at 0x108d12a60: f(4)> 3\n",
      "<Greenlet at 0x108d129c8: f(5)> 4\n"
     ]
    }
   ],
   "source": [
    "# 延时操作使用原生\n",
    "import time\n",
    "import gevent\n",
    "# from gevent import monkey\n",
    "\n",
    "# 加入下述代码，实现使用原生延时操作\n",
    "gevent.monkey.patch_all()\n",
    "\n",
    "def f(n):\n",
    "    for i in range(n):\n",
    "        print(gevent.getcurrent(),i)\n",
    "        # 遇到延时，切换执行\n",
    "        time.sleep(0.1)\n",
    "        \n",
    "g1 = gevent.spawn(f, 5)\n",
    "g2 = gevent.spawn(f, 4)\n",
    "g3 = gevent.spawn(f, 3)\n",
    "\n",
    "# 遇到阻塞，开始执行\n",
    "g1.join()\n",
    "g2.join()\n",
    "g3.join()"
   ]
  },
  {
   "cell_type": "code",
   "execution_count": null,
   "metadata": {},
   "outputs": [
    {
     "name": "stdout",
     "output_type": "stream",
     "text": [
      "<Greenlet at 0x108964800: f(5)> 0\n",
      "<Greenlet at 0x108964930: f(4)> 0\n",
      "<Greenlet at 0x1089649c8: f(3)> 0\n",
      "<Greenlet at 0x108964800: f(5)> 1\n",
      "<Greenlet at 0x108964930: f(4)> 1\n",
      "<Greenlet at 0x1089649c8: f(3)> 1\n",
      "<Greenlet at 0x108964800: f(5)> 2\n",
      "<Greenlet at 0x108964930: f(4)> 2\n",
      "<Greenlet at 0x1089649c8: f(3)> 2\n",
      "<Greenlet at 0x108964800: f(5)> 3\n",
      "<Greenlet at 0x108964930: f(4)> 3\n",
      "<Greenlet at 0x108964800: f(5)> 4\n"
     ]
    }
   ],
   "source": [
    "# 使用joinall()减少代码量\n",
    "import time\n",
    "import gevent\n",
    "from gevent import monkey\n",
    "\n",
    "monkey.patch_all()\n",
    "\n",
    "def f(n):\n",
    "    for i in range(n):\n",
    "        print(gevent.getcurrent(),i)\n",
    "        # 遇到延时，切换执行\n",
    "        time.sleep(0.1)\n",
    "gevent.joinall([gevent.spawn(f, 5),\n",
    "                gevent.spawn(f, 4),\n",
    "                gevent.spawn(f, 3)])"
   ]
  },
  {
   "cell_type": "code",
   "execution_count": null,
   "metadata": {},
   "outputs": [],
   "source": []
  }
 ],
 "metadata": {
  "kernelspec": {
   "display_name": "Python 3",
   "language": "python",
   "name": "python3"
  },
  "language_info": {
   "codemirror_mode": {
    "name": "ipython",
    "version": 3
   },
   "file_extension": ".py",
   "mimetype": "text/x-python",
   "name": "python",
   "nbconvert_exporter": "python",
   "pygments_lexer": "ipython3",
   "version": "3.6.5"
  }
 },
 "nbformat": 4,
 "nbformat_minor": 2
}
