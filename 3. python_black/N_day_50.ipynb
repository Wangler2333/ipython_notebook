{
 "cells": [
  {
   "cell_type": "markdown",
   "metadata": {},
   "source": [
    "# Flask-WTF中的CSRFProtect\n",
    "\n",
    "- from flask_wtf.csrf import CSRFProtect\n",
    "- csrf = CSRFProtect(app)：初始化\n",
    "- 只进行验证\n",
    "- 不进行写入csrf_token"
   ]
  },
  {
   "cell_type": "markdown",
   "metadata": {},
   "source": [
    "# Flask-Session\n",
    "\n",
    "- 将flask中的session机制引入redis\n",
    "\n",
    "```python\n",
    "import redis\n",
    "\n",
    "SESSION_TYPE = \"redis\"\n",
    "# 使用加密签名处理\n",
    "SESSION_USE_SIGNER = True\n",
    "# redis连接\n",
    "SESSION_REDIS = redis.StrictRedis(host=REDIS_HOST,port=REDIS_PORT)\n",
    "# session有效期\n",
    "PERMANENT_SESSION_LIFETIME = 86400\n",
    "```\n",
    "\n",
    "```python\n",
    "# 配置信息\n",
    "config = app.config.copy()\n",
    "        config.setdefault('SESSION_TYPE', 'null')\n",
    "        config.setdefault('SESSION_PERMANENT', True)\n",
    "        config.setdefault('SESSION_USE_SIGNER', False)\n",
    "        config.setdefault('SESSION_KEY_PREFIX', 'session:')\n",
    "        config.setdefault('SESSION_REDIS', None)\n",
    "        config.setdefault('SESSION_MEMCACHED', None)\n",
    "        config.setdefault('SESSION_FILE_DIR',\n",
    "                          os.path.join(os.getcwd(), 'flask_session'))\n",
    "        config.setdefault('SESSION_FILE_THRESHOLD', 500)\n",
    "        config.setdefault('SESSION_FILE_MODE', 384)\n",
    "        config.setdefault('SESSION_MONGODB', None)\n",
    "        config.setdefault('SESSION_MONGODB_DB', 'flask_session')\n",
    "        config.setdefault('SESSION_MONGODB_COLLECT', 'sessions')\n",
    "        config.setdefault('SESSION_SQLALCHEMY', None)\n",
    "        config.setdefault('SESSION_SQLALCHEMY_TABLE', 'sessions')\n",
    "\n",
    "        if config['SESSION_TYPE'] == 'redis':\n",
    "            session_interface = RedisSessionInterface(\n",
    "                config['SESSION_REDIS'], config['SESSION_KEY_PREFIX'],\n",
    "                config['SESSION_USE_SIGNER'], config['SESSION_PERMANENT'])\n",
    "        elif config['SESSION_TYPE'] == 'memcached':\n",
    "            session_interface = MemcachedSessionInterface(\n",
    "                config['SESSION_MEMCACHED'], config['SESSION_KEY_PREFIX'],\n",
    "                config['SESSION_USE_SIGNER'], config['SESSION_PERMANENT'])\n",
    "        elif config['SESSION_TYPE'] == 'filesystem':\n",
    "            session_interface = FileSystemSessionInterface(\n",
    "                config['SESSION_FILE_DIR'], config['SESSION_FILE_THRESHOLD'],\n",
    "                config['SESSION_FILE_MODE'], config['SESSION_KEY_PREFIX'],\n",
    "                config['SESSION_USE_SIGNER'], config['SESSION_PERMANENT'])\n",
    "        elif config['SESSION_TYPE'] == 'mongodb':\n",
    "            session_interface = MongoDBSessionInterface(\n",
    "                config['SESSION_MONGODB'], config['SESSION_MONGODB_DB'],\n",
    "                config['SESSION_MONGODB_COLLECT'],\n",
    "                config['SESSION_KEY_PREFIX'], config['SESSION_USE_SIGNER'],\n",
    "                config['SESSION_PERMANENT'])\n",
    "        elif config['SESSION_TYPE'] == 'sqlalchemy':\n",
    "            session_interface = SqlAlchemySessionInterface(\n",
    "                app, config['SESSION_SQLALCHEMY'],\n",
    "                config['SESSION_SQLALCHEMY_TABLE'],\n",
    "                config['SESSION_KEY_PREFIX'], config['SESSION_USE_SIGNER'],\n",
    "                config['SESSION_PERMANENT'])\n",
    "```"
   ]
  },
  {
   "cell_type": "markdown",
   "metadata": {},
   "source": [
    "# logging日志使用\n",
    "\n",
    "```python\n",
    "import os\n",
    "import logging\n",
    "\n",
    "# 设置日志的记录等级\n",
    "logging.basicConfig(level=logging.DEBUG)  # 调试debug级\n",
    "# 创建日志记录器，指明日志保存的路径、每个日志文件的最大大小、保存的日志文件个数上限\n",
    "file_log_handler = RotatingFileHandler(os.path.join(basedir, \"logs/log.log\"), maxBytes=1024 * 1024 * 100,\n",
    "                                       backupCount=10)\n",
    "# 创建日志记录的格式                 日志等级    输入日志信息的文件名 行数    日志信息\n",
    "formatter = logging.Formatter('%(asctime)s %(filename)s[line:%(lineno)d] %(levelname)s %(message)s',datefmt='%a, %d %b %Y %H:%M:%S')\n",
    "# 为刚创建的日志记录器设置日志记录格式\n",
    "file_log_handler.setFormatter(formatter)\n",
    "# 为全局的日志工具对象（flask app使用的）添加日记录器\n",
    "logging.getLogger().addHandler(file_log_handler)\n",
    "```"
   ]
  },
  {
   "cell_type": "markdown",
   "metadata": {},
   "source": []
  }
 ],
 "metadata": {
  "kernelspec": {
   "display_name": "Python 3",
   "language": "python",
   "name": "python3"
  },
  "language_info": {
   "codemirror_mode": {
    "name": "ipython",
    "version": 3
   },
   "file_extension": ".py",
   "mimetype": "text/x-python",
   "name": "python",
   "nbconvert_exporter": "python",
   "pygments_lexer": "ipython3",
   "version": "3.6.5"
  }
 },
 "nbformat": 4,
 "nbformat_minor": 2
}
