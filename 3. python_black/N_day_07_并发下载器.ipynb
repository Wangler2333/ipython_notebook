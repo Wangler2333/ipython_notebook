{
 "cells": [
  {
   "cell_type": "markdown",
   "metadata": {},
   "source": [
    "## 并发下载器"
   ]
  },
  {
   "cell_type": "code",
   "execution_count": 7,
   "metadata": {},
   "outputs": [],
   "source": [
    "import urllib.request\n",
    "import ssl\n",
    "\n",
    "ssl._create_default_https_context = ssl._create_unverified_context \n",
    "# 取消python3中urllib模块的ssl证书验证\n",
    "\n",
    "def main():\n",
    "    req = urllib.request.urlopen(\"http://www.baidu.com\")\n",
    "    html_b = req.read()\n",
    "    with open(\"baidu.html\",\"wb\") as f:\n",
    "        f.write(html_b)\n",
    "\n",
    "if __name__ == \"__main__\":\n",
    "    main()"
   ]
  },
  {
   "cell_type": "code",
   "execution_count": 8,
   "metadata": {},
   "outputs": [],
   "source": [
    "import urllib.request\n",
    "import gevent\n",
    "import ssl\n",
    "\n",
    "ssl._create_default_https_context = ssl._create_unverified_context \n",
    "# 取消python3中urllib模块的ssl证书验证\n",
    "\n",
    "def download(name,url):\n",
    "    req = urllib.request.urlopen(url)\n",
    "    html_b = req.read()\n",
    "    with open(name,\"wb\") as f:\n",
    "        f.write(html_b)\n",
    "    \n",
    "def main():\n",
    "    gevent.joinall([\n",
    "        gevent.spawn(download,\"1.html\",\"https://www.baidu.com\"),\n",
    "        gevent.spawn(download,\"2.html\",\"https://www.zhihu.com\")\n",
    "    ])\n",
    "\n",
    "if __name__ == \"__main__\":\n",
    "    main()"
   ]
  },
  {
   "cell_type": "code",
   "execution_count": null,
   "metadata": {},
   "outputs": [],
   "source": []
  }
 ],
 "metadata": {
  "kernelspec": {
   "display_name": "Python 3",
   "language": "python",
   "name": "python3"
  },
  "language_info": {
   "codemirror_mode": {
    "name": "ipython",
    "version": 3
   },
   "file_extension": ".py",
   "mimetype": "text/x-python",
   "name": "python",
   "nbconvert_exporter": "python",
   "pygments_lexer": "ipython3",
   "version": "3.6.5"
  }
 },
 "nbformat": 4,
 "nbformat_minor": 2
}
