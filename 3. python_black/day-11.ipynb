{
 "cells": [
  {
   "cell_type": "markdown",
   "metadata": {
    "collapsed": true
   },
   "source": [
    "### python网络编程\n",
    "- 协议深度：调用库 -> Http -> sockt ->tcp,udp,ip\n",
    "- 使用原则：尽量不要用复杂语句实现功能"
   ]
  },
  {
   "cell_type": "markdown",
   "metadata": {},
   "source": [
    "## 类\n",
    "- 类名（大驼峰命名法HelloWorld，无下划线）\n",
    "- 属性（特征）\n",
    "- 行为（行为）"
   ]
  },
  {
   "cell_type": "markdown",
   "metadata": {},
   "source": [
    "### dir内置函数\n",
    "- dir(对象):查看所有的属性和方法\n",
    "- __xxx__:内置属性及方法"
   ]
  },
  {
   "cell_type": "markdown",
   "metadata": {},
   "source": [
    "- __new__：创建时调用\n",
    "- __init__：初始化时调用\n",
    "- __del__：从内存销毁时调用\n",
    "- __str__：返回对象描述信息"
   ]
  },
  {
   "cell_type": "code",
   "execution_count": null,
   "metadata": {
    "collapsed": true
   },
   "outputs": [],
   "source": [
    "class 类名：\n",
    "    def 方法1(self,参数列表)：\n",
    "        pass\n",
    "    def 方法2(self，参数列表)：\n",
    "        pass"
   ]
  },
  {
   "cell_type": "code",
   "execution_count": null,
   "metadata": {
    "collapsed": true
   },
   "outputs": [],
   "source": [
    "# 创建对象\n",
    "对象变量 = 类名()"
   ]
  },
  {
   "cell_type": "code",
   "execution_count": 15,
   "metadata": {},
   "outputs": [
    {
     "name": "stdout",
     "output_type": "stream",
     "text": [
      "hahah\n"
     ]
    }
   ],
   "source": [
    "class Name:\n",
    "    def name_print(self):\n",
    "        \"\"\"打印输入的名字\"\"\"\n",
    "        print(\"hahah\")\n",
    "\n",
    "\n",
    "liduo = Name()\n",
    "liduo.name_print()"
   ]
  },
  {
   "cell_type": "code",
   "execution_count": 16,
   "metadata": {},
   "outputs": [
    {
     "name": "stdout",
     "output_type": "stream",
     "text": [
      "hahah\n"
     ]
    }
   ],
   "source": [
    "ld = Name()\n",
    "ld.name_print()"
   ]
  },
  {
   "cell_type": "code",
   "execution_count": 22,
   "metadata": {},
   "outputs": [
    {
     "name": "stdout",
     "output_type": "stream",
     "text": [
      "liduo\n"
     ]
    }
   ],
   "source": [
    "# 临时增加属性\n",
    "ld.ha = \"liduo\"\n",
    "print(ld.ha)"
   ]
  },
  {
   "cell_type": "code",
   "execution_count": null,
   "metadata": {
    "collapsed": true
   },
   "outputs": [],
   "source": []
  }
 ],
 "metadata": {
  "kernelspec": {
   "display_name": "Python 3",
   "language": "python",
   "name": "python3"
  },
  "language_info": {
   "codemirror_mode": {
    "name": "ipython",
    "version": 3
   },
   "file_extension": ".py",
   "mimetype": "text/x-python",
   "name": "python",
   "nbconvert_exporter": "python",
   "pygments_lexer": "ipython3",
   "version": "3.6.5"
  }
 },
 "nbformat": 4,
 "nbformat_minor": 2
}
