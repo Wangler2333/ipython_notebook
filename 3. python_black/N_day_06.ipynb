{
 "cells": [
  {
   "cell_type": "markdown",
   "metadata": {},
   "source": [
    "## 进程 "
   ]
  },
  {
   "cell_type": "code",
   "execution_count": 2,
   "metadata": {},
   "outputs": [
    {
     "name": "stdout",
     "output_type": "stream",
     "text": [
      "a\n",
      "b\n",
      "a\n",
      "b\n",
      "a\n",
      "b\n",
      "a\n",
      "b\n",
      "a\n",
      "b\n"
     ]
    }
   ],
   "source": [
    "# multiprocessing是多进程模块\n",
    "import multiprocessing\n",
    "import time\n",
    "\n",
    "def a():\n",
    "    for i in range(5):\n",
    "        print(\"a\")\n",
    "        time.sleep(1)\n",
    "        \n",
    "def b():\n",
    "    for i in range(5):\n",
    "        print(\"b\")\n",
    "        time.sleep(1)\n",
    "        \n",
    "def main():\n",
    "    p1 = multiprocessing.Process(target=a)\n",
    "    p2 = multiprocessing.Process(target=b)\n",
    "    p1.start()\n",
    "    p2.start()\n",
    "\n",
    "if __name__ == \"__main__\":\n",
    "    main()"
   ]
  },
  {
   "cell_type": "markdown",
   "metadata": {},
   "source": [
    "```\n",
    "ps -aux：查看系统进程\n",
    "top：查看系统资源\n",
    "htop：查看系统资源\n",
    "kill -9 PID：杀死指定进程\n",
    "```"
   ]
  },
  {
   "cell_type": "markdown",
   "metadata": {},
   "source": [
    "```\n",
    "import os\n",
    "os.getpid()：获取当前进程PID\n",
    "os.getppid()：获取当前进程的父进程的PID\n",
    "os.kill()：杀死进程\n",
    "help(multiprocessing.Process)：查看帮助\n",
    "```"
   ]
  },
  {
   "cell_type": "markdown",
   "metadata": {},
   "source": [
    "- 进程之间不共享全局变量"
   ]
  },
  {
   "cell_type": "code",
   "execution_count": null,
   "metadata": {},
   "outputs": [],
   "source": []
  }
 ],
 "metadata": {
  "kernelspec": {
   "display_name": "Python 3",
   "language": "python",
   "name": "python3"
  },
  "language_info": {
   "codemirror_mode": {
    "name": "ipython",
    "version": 3
   },
   "file_extension": ".py",
   "mimetype": "text/x-python",
   "name": "python",
   "nbconvert_exporter": "python",
   "pygments_lexer": "ipython3",
   "version": "3.6.4"
  }
 },
 "nbformat": 4,
 "nbformat_minor": 2
}
