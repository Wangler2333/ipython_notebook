{
 "cells": [
  {
   "cell_type": "markdown",
   "metadata": {},
   "source": [
    "# abort异常处理函数\n",
    "- from flask import abort\n",
    "- 使用abort函数时，可以立即终止视图函数，返回前端错误信息\n",
    "- abort(403)\n",
    "\n",
    "##### 自定义状态码信息\n",
    "\n",
    "- 自定义视图函数需要接收一个参数，及错误内容\n",
    "```python\n",
    "@app.errorhandler(404)\n",
    "def handler_404(e):\n",
    "    return \"你请求的页面不在啦！\"\n",
    "```"
   ]
  },
  {
   "cell_type": "markdown",
   "metadata": {},
   "source": [
    "# 自定义返回信息\n",
    "- 返回元祖(response,status,headers);响应体，状态码，响应头\n",
    "- 例如：return (\"hello\", 200)或return \"hello\", 200\n",
    "- 自定义状态码及其描述信息return \"hello\", \"666 python\"\n",
    "- 自定义响应头信息使用列表加元祖表示[(),()]或字典{}\n",
    "\n",
    "```python\n",
    "return \"hello\", \"666 python\", [(\"liduo\",\"python\"),(\"city\",\"wuhan\")]\n",
    "\n",
    "return \"hello\", \"666 python\", {\"liduo\":\"python\",\"city\":\"wuhan\"}]\n",
    "```\n",
    "\n",
    "# make_response自定义返回信息\n",
    "\n",
    "```python\n",
    "from flask import make_response\n",
    "res = make_response(\"hello\")\n",
    "res.status = \"666 python\"\n",
    "res.headers[\"liduo\"] = \"python\"\n",
    "res.headers[\"city\"] = \"wuhan\"\n",
    "return res\n",
    "```"
   ]
  },
  {
   "cell_type": "markdown",
   "metadata": {},
   "source": [
    "# 返回json数据\n",
    "\n",
    "```python\n",
    "import josn\n",
    "\n",
    "g={\"a\":\"b\"}\n",
    "s = json.dump(g)\n",
    "return s, 200, {\"Content-Type\":\"application/json\"}\n",
    "```\n",
    "\n",
    "---\n",
    "\n",
    "```python\n",
    "from flask import jsonify\n",
    "\n",
    "g={\"a\":\"b\"}\n",
    "return jsonify(g)\n",
    "```"
   ]
  },
  {
   "cell_type": "markdown",
   "metadata": {},
   "source": [
    "# redirect重定向函数\n",
    "\n",
    "```python\n",
    "from flask import redirect\n",
    "@app.route('/')\n",
    "def index()\n",
    "    return redirect('http://www.baidu.com')\n",
    "```"
   ]
  },
  {
   "cell_type": "markdown",
   "metadata": {},
   "source": [
    "# cookie操作\n",
    "\n",
    "```python\n",
    "from flask import make_response, request\n",
    "res = make_response(\"hello\")\n",
    "\n",
    "res.set_cookie(\"li\",\"python\", max_age=3600)  # 默认有效期0\n",
    "\n",
    "cookie = request.cookies.get(\"li\")  # 获取cookie\n",
    "\n",
    "\n",
    "res.delete_cookie(\"li\")  # 删除cookie\n",
    "return res\n",
    "```"
   ]
  },
  {
   "cell_type": "markdown",
   "metadata": {},
   "source": [
    "# session操作\n",
    "\n",
    "- 设置SECRET_KEY\n",
    "\n",
    "```python\n",
    "from flask import session\n",
    "app.config[\"SECRET_KEY\"] = \"akjfuwu2i3e2ijrbf2356\"\n",
    "\n",
    "session[\"name\"] = \"python\"  # 设置session\n",
    "session.get(\"name\")  # 获取session\n",
    "```"
   ]
  },
  {
   "cell_type": "markdown",
   "metadata": {},
   "source": [
    "# 上下文\n",
    "\n",
    "- 一行代码运行时，此次运行环境中的变量称为此代码的上下文\n",
    "- 请求上下文：request，session\n",
    "- 应用上下文：current_app，g"
   ]
  },
  {
   "cell_type": "markdown",
   "metadata": {},
   "source": [
    "# 钩子函数\n",
    "- before_first_request：第一次请求前\n",
    "- before_request：请求前\n",
    "- after_request：视图处理后，无异常时\n",
    "- teardown_request：视图处理后，任何时候\n",
    "\n",
    "```python\n",
    "@app.before_first_request\n",
    "def before():\n",
    "    pass\n",
    "\n",
    "@after_request\n",
    "def after(response):\n",
    "    return response\n",
    "\n",
    "@teardown_request\n",
    "def teardown(response):\n",
    "    return response\n",
    "```"
   ]
  },
  {
   "cell_type": "markdown",
   "metadata": {},
   "source": [
    "# Flask-Script\n",
    "\n",
    "- pip install Flask-Script\n",
    "\n",
    "```python\n",
    "from flask import Flask\n",
    "from flask_script import Manager\n",
    "\n",
    "app = Flask(__name__)\n",
    "\n",
    "manager = Manager(app)\n",
    "\n",
    "@app.route(\"/\")\n",
    "def index():\n",
    "    pass\n",
    "\n",
    "if __name__ == \"__main__\":\n",
    "    manager.run()\n",
    "```"
   ]
  },
  {
   "cell_type": "markdown",
   "metadata": {},
   "source": [
    "# 模板\n",
    "- return render_template(\"index.html\", name=\"liduo\", city=\"wuhan\")\n",
    "- {{ name }}{{ city }}\n",
    "\n",
    "```python\n",
    "context = {\"name\":\"liduo\",\"city\":\"wuhan\"}\n",
    "return render_template(\"index.html\", **context)\n",
    "```"
   ]
  },
  {
   "cell_type": "markdown",
   "metadata": {},
   "source": [
    "# 模板变量\n",
    "- {{ name }}\n",
    "- 取值：{{ dict[\"hello\"] }}{{ dict.hello }}{{ list[0] }}{{ list[a] }}{{ list.0 }}\n",
    "- 加法：{{ list[0] + list[1] }}\n",
    "- 拼接：{{ str1 + str2 }}"
   ]
  },
  {
   "cell_type": "markdown",
   "metadata": {},
   "source": [
    "# 自定义过滤器\n",
    "\n",
    "```python\n",
    "def func(ls):\n",
    "    return ls\n",
    "\n",
    "app.add_template_filter(func, \"haha\")\n",
    "```\n",
    "\n",
    "---\n",
    "\n",
    "```python\n",
    "@app.template_filter(\"haha\")\n",
    "def func(ls):\n",
    "    return ls\n",
    "```"
   ]
  },
  {
   "cell_type": "markdown",
   "metadata": {},
   "source": [
    "# Flask-WTF扩展\n",
    "- 将form表单抽象为一个类及属性\n",
    "- 在模板及视图中通过对象属性来使用\n",
    "- 提供csrf校验\n",
    "\n",
    "- 设置SECRET_KEY\n",
    "\n",
    "```python\n",
    "from flask_wtf import FlaskForm\n",
    "from wtforms import StringField, PasswordField, SubmitField\n",
    "from wtforms.validators import DataRequired, EqualTo\n",
    "\n",
    "class RegisterForm(FlaskForm):\n",
    "    user_name = StringField(label=u\"用户名\", validators=[DataRequired()])  # validators验证函数\n",
    "    password = PasswordField(label=u\"密码\", validators=[DataRequired()])\n",
    "    password2 = PasswordField(label=u\"确认密码\", validators=[DataRequired()， EqualTo(\"password\", u\"用户密码不一致\")])\n",
    "    submit = SubmitField(label=u\"提交\")\n",
    "    \n",
    "\n",
    "@app.route(\"/register\", methods=[\"GET\",\"POST\"])\n",
    "def register():\n",
    "    form = RegisterForm()\n",
    "    \n",
    "    # 判断验证结果，只验证post请求，其余为false\n",
    "    if form.validate_on_submit():\n",
    "        name = form.user_name\n",
    "        passwd = form.password\n",
    "        return \"success\"\n",
    "        \n",
    "    return render_template(\"register.html\", form=form)\n",
    "```\n",
    "\n",
    "---\n",
    "\n",
    "```html\n",
    "<form method=\"post\">\n",
    "    {{ form.csrf_token }}\n",
    "    {{ form.user_name.label }}\n",
    "    {{ form.user_name }}\n",
    "    {{ form.password.label }}\n",
    "    {{ form.password }}\n",
    "    {{ form.password2.label }}\n",
    "    {{ form.password2 }}\n",
    "    {{ form.submit }}\n",
    "</form>\n",
    "```"
   ]
  },
  {
   "cell_type": "markdown",
   "metadata": {},
   "source": [
    "## WTForms支持的HTML标准字段\n",
    "\n",
    "|字段对象|说明|\n",
    "|---|---|\n",
    "|StringField|文本字段|\n",
    "|TextAreaField|多行文本字段|\n",
    "|PasswordField|密码文本字段|\n",
    "|HiddenField|隐藏文本字段|\n",
    "|DateField|文本字段，值为datetime.date格式|\n",
    "|DateTimeField|文本字段，值为datetime.datetime格式|\n",
    "|IntegerField|文本字段，值为整数|\n",
    "|DecimalField|文本字段，值为decimal.Decimal|\n",
    "|FloatField|文本字段，值为浮点数|\n",
    "|BooleanField|复选框，值为True和False|\n",
    "|RadioField|一组单选框|\n",
    "|SelectField|下拉列表|\n",
    "|SelectMultipleField|下拉列表，可选择多个值|\n",
    "|FileField|文本上传字段|\n",
    "|SubmitField|表单提交按钮|\n",
    "|FormField|把表单作为字段嵌入另一个表单|\n",
    "|FieldList|一组指定类型的字段|"
   ]
  },
  {
   "cell_type": "markdown",
   "metadata": {},
   "source": [
    "## WTForms常用验证函数\n",
    "\n",
    "\n",
    "|验证函数|说明|\n",
    "|---|---|\n",
    "|DataRequired|确保字段中有数据|\n",
    "|EqualTo|比较两个字段的值，常用于比较两次密码输入|\n",
    "|Length|验证输入的字符串长度|\n",
    "|NumberRange|验证输入的值在数字范围内|\n",
    "|URL|验证URL|\n",
    "|AnyOf|验证输入值在可选列表中|\n",
    "|NoneOf|验证输入值不在可选列表中|"
   ]
  }
 ],
 "metadata": {
  "kernelspec": {
   "display_name": "Python 2",
   "language": "python",
   "name": "python2"
  },
  "language_info": {
   "codemirror_mode": {
    "name": "ipython",
    "version": 2
   },
   "file_extension": ".py",
   "mimetype": "text/x-python",
   "name": "python",
   "nbconvert_exporter": "python",
   "pygments_lexer": "ipython2",
   "version": "2.7.15"
  }
 },
 "nbformat": 4,
 "nbformat_minor": 2
}
