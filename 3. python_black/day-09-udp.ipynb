{
 "cells": [
  {
   "cell_type": "markdown",
   "metadata": {},
   "source": [
    "- 2018年1月15号 传智黑马\n",
    "- 阴天，还好～\n",
    "- 开始研究qt，及udp通信协议\n",
    "- GitHub地址：https://github.com/Wangler2333/ipython_notebook/tree/master/python_black\n",
    "- 浏览地址：https://nbviewer.jupyter.org/github/Wangler2333/ipython_notebook/blob/master/python_black/day-09-udp.ipynb"
   ]
  },
  {
   "cell_type": "markdown",
   "metadata": {},
   "source": [
    "### 接收端（局域网udp通信）"
   ]
  },
  {
   "cell_type": "code",
   "execution_count": null,
   "metadata": {},
   "outputs": [
    {
     "name": "stdout",
     "output_type": "stream",
     "text": [
      "Listening for broadcast at  ('0.0.0.0', 1060)\n"
     ]
    }
   ],
   "source": [
    "import socket\n",
    "\n",
    "s = socket.socket(socket.AF_INET, socket.SOCK_DGRAM)\n",
    "s.setsockopt(socket.SOL_SOCKET, socket.SO_BROADCAST, 1)\n",
    "\n",
    "PORT = 1060\n",
    "\n",
    "s.bind(('', PORT))\n",
    "print('Listening for broadcast at ', s.getsockname())\n",
    "\n",
    "while True:\n",
    "    data, address = s.recvfrom(65535)\n",
    "    print('Server received from {}:{}'.format(address, data.decode('utf-8')))"
   ]
  },
  {
   "cell_type": "markdown",
   "metadata": {},
   "source": [
    "### 发送端（udp通信）"
   ]
  },
  {
   "cell_type": "code",
   "execution_count": null,
   "metadata": {
    "collapsed": true
   },
   "outputs": [],
   "source": [
    "import socket\n",
    "\n",
    "s = socket.socket(socket.AF_INET, socket.SOCK_DGRAM)\n",
    "s.setsockopt(socket.SOL_SOCKET, socket.SO_BROADCAST, 1)\n",
    "\n",
    "PORT = 1060\n",
    "\n",
    "network = '<broadcast>'\n",
    "s.sendto('hahaha!'.encode('utf-8'), (network, PORT))"
   ]
  },
  {
   "cell_type": "markdown",
   "metadata": {},
   "source": [
    "### QtDesigner+PyQt开发"
   ]
  },
  {
   "cell_type": "markdown",
   "metadata": {},
   "source": [
    "- pyuic5 -o firstPyQt5.py firstPyQt5.ui\n",
    "- 转换ui文件为py文件\n",
    "- 把py文件作为模块用以下主文件调用"
   ]
  },
  {
   "cell_type": "code",
   "execution_count": null,
   "metadata": {
    "collapsed": true
   },
   "outputs": [],
   "source": [
    "# -*- coding: utf-8 -*-\n",
    "# __author__ = 'djstava@gmail.com'\n",
    "\n",
    "import sys\n",
    "\n",
    "from PyQt5.QtWidgets import QApplication , QMainWindow\n",
    "\n",
    "from firstPyQt5 import *\n",
    "\n",
    "if __name__ == '__main__':\n",
    "    '''\n",
    "    主函数\n",
    "    '''\n",
    "\n",
    "    app = QApplication(sys.argv)\n",
    "    mainWindow = QMainWindow()\n",
    "    ui = Ui_mainWindow()\n",
    "    ui.setupUi(mainWindow)\n",
    "    mainWindow.show()\n",
    "    sys.exit(app.exec_())\n"
   ]
  }
 ],
 "metadata": {
  "kernelspec": {
   "display_name": "Python 3",
   "language": "python",
   "name": "python3"
  },
  "language_info": {
   "codemirror_mode": {
    "name": "ipython",
    "version": 3
   },
   "file_extension": ".py",
   "mimetype": "text/x-python",
   "name": "python",
   "nbconvert_exporter": "python",
   "pygments_lexer": "ipython3",
   "version": "3.6.3"
  }
 },
 "nbformat": 4,
 "nbformat_minor": 2
}
