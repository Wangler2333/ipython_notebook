{
 "cells": [
  {
   "cell_type": "markdown",
   "metadata": {},
   "source": [
    "# 多继承\n",
    "```\n",
    "C3算法：\n",
    "Parent.__init__():在连续继承序列中连续调用\n",
    "\n",
    "super()__init__():在连续继承序列中super()根据当前类的__mro__属性顺序调用，不考虑继承结构\n",
    "\n",
    "super(xxx, self).__init__():调用当前类__mro__顺序中，xxx类的下一个类\n",
    "\n",
    "*args, **kwargs:\n",
    "def中是元组和字典\n",
    "函数调用时是拆包的作用\n",
    "```"
   ]
  },
  {
   "cell_type": "markdown",
   "metadata": {},
   "source": [
    "# property属性\n",
    "- 只传一个self\n",
    "- 必须return一个值\n",
    "- 调用时不用加括号"
   ]
  },
  {
   "cell_type": "code",
   "execution_count": 1,
   "metadata": {},
   "outputs": [
    {
     "data": {
      "text/plain": [
       "10"
      ]
     },
     "execution_count": 1,
     "metadata": {},
     "output_type": "execute_result"
    }
   ],
   "source": [
    "class A:\n",
    "    @property\n",
    "    def prop(self):\n",
    "        return 10\n",
    "\n",
    "a = A()\n",
    "a.prop"
   ]
  },
  {
   "cell_type": "markdown",
   "metadata": {},
   "source": [
    "```\n",
    "新式类中：\n",
    "class B:\n",
    "    @property\n",
    "    def a(self):\n",
    "        pass\n",
    "\n",
    "    @price.setter\n",
    "    def a(self, value):\n",
    "        pass\n",
    "\n",
    "    @price.deleter\n",
    "    def a(self):\n",
    "        pass\n",
    "    \n",
    "b = B()\n",
    "b.a\n",
    "b.a = 100\n",
    "del b.a\n",
    "```"
   ]
  }
 ],
 "metadata": {
  "kernelspec": {
   "display_name": "Python 3",
   "language": "python",
   "name": "python3"
  },
  "language_info": {
   "codemirror_mode": {
    "name": "ipython",
    "version": 3
   },
   "file_extension": ".py",
   "mimetype": "text/x-python",
   "name": "python",
   "nbconvert_exporter": "python",
   "pygments_lexer": "ipython3",
   "version": "3.6.4"
  }
 },
 "nbformat": 4,
 "nbformat_minor": 2
}
