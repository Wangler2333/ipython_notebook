{
 "cells": [
  {
   "cell_type": "markdown",
   "metadata": {},
   "source": [
    "# redis数据库\n",
    "- value最大长度512m\n",
    "- select index：切换不同的数据库"
   ]
  },
  {
   "cell_type": "markdown",
   "metadata": {},
   "source": [
    "## 数据类型\n",
    "- string：字符串\n",
    "- hash：哈希\n",
    "- list：列表\n",
    "- set：集合\n",
    "- zset：有序集合"
   ]
  },
  {
   "cell_type": "markdown",
   "metadata": {},
   "source": [
    "## string命令\n",
    "- key:value value--string\n",
    "### 添加\n",
    "- set key value：新增或修改KV\n",
    "- setex key seconds value：设置过期时间（针对string类型值）\n",
    "- mset key1 value1 key2 value2：设置多个\n",
    "- append key value：追加值\n",
    "### 获取\n",
    "- get key：获取值\n",
    "- mget key1 key2：获取多个值\n",
    "### 其他通用\n",
    "- keys pattern：查看键，支持通配符\n",
    "- exists key：判断键是否存在\n",
    "- type key：查看值的类型\n",
    "- del key1 key2：删除KV\n",
    "- expire key seconds：设置过期时间（适用所有类型数据，针对键设置）\n",
    "- ttl key：查看键的过期时间"
   ]
  },
  {
   "cell_type": "markdown",
   "metadata": {},
   "source": [
    "## hash命令\n",
    "- key:{key:value}  value--string\n",
    "### 添加\n",
    "- hset key field value：设置单个属性（键、属性、值）\n",
    "- hmset key field1 value1 field2 value2:设置多个属性\n",
    "### 获取\n",
    "- hkeys key：获取键的属性\n",
    "- hget key field：获取键里属性的值\n",
    "- hmget key field1 field2：获取多个属性的值\n",
    "- hvals key：获取所有属性的值\n",
    "### 删除\n",
    "- del key1 key2：删除键值对\n",
    "- hdel key field1 field2：删除属性"
   ]
  },
  {
   "cell_type": "markdown",
   "metadata": {},
   "source": [
    "## list命令\n",
    "- key:[value]  value--string\n",
    "### 添加\n",
    "- lpush key value1 value2：列表左侧插入数据\n",
    "- rpush key value1 value2：列表右侧插入数据\n",
    "- linsert key before或after value newvalue：在列表的value前或后插入newvalue\n",
    "- lset key index value：设置指定索引元素，支持负数索引\n",
    "### 获取\n",
    "- lrange key start stop：查看列表元素，左闭右闭，支持负数索引\n",
    "### 删除\n",
    "- lrem key count value：删除元素count次，count>0左到右；count<0右到左；count=0所有"
   ]
  },
  {
   "cell_type": "markdown",
   "metadata": {},
   "source": [
    "## set命令\n",
    "- key:{value}  value--string\n",
    "### 添加\n",
    "- sadd key member1 member2：添加元素\n",
    "### 获取\n",
    "- smembers key：获取所有元素\n",
    "### 删除\n",
    "- srem key member1 member2：删除元素"
   ]
  },
  {
   "cell_type": "markdown",
   "metadata": {},
   "source": [
    "## zset命令\n",
    "- key:{score:value}  score--double，value--string\n",
    "### 添加\n",
    "- 关联double类型的score，权重自小到大排列\n",
    "- zadd key score1 member1 score2 member：添加元素\n",
    "### 获取\n",
    "- zrange key start stop：获取元素，左闭右闭，支持负数索引\n",
    "- zrangebyscore key min max：获取权值在min到max之间的元素\n",
    "- zscore key member：获取元素权重值\n",
    "### 删除\n",
    "- zrem key member1 member2：删除元素\n",
    "- zremrangebyscore key min max：删除权值min到max之间的元素"
   ]
  },
  {
   "cell_type": "markdown",
   "metadata": {},
   "source": [
    "# redis_python\n",
    "- pip install redis\n",
    "- 创建StrictRedis对象：st=StrictRedis(host=\"localhost\",port=6379,db=0)\n",
    "- 通过对象的方法操作数据库，例如：st.set('li','duo')"
   ]
  },
  {
   "cell_type": "code",
   "execution_count": 3,
   "metadata": {},
   "outputs": [
    {
     "name": "stdout",
     "output_type": "stream",
     "text": [
      "hh\n"
     ]
    }
   ],
   "source": [
    "print('hh')"
   ]
  },
  {
   "cell_type": "code",
   "execution_count": null,
   "metadata": {},
   "outputs": [],
   "source": []
  }
 ],
 "metadata": {
  "kernelspec": {
   "display_name": "Python 3",
   "language": "python",
   "name": "python3"
  },
  "language_info": {
   "codemirror_mode": {
    "name": "ipython",
    "version": 3
   },
   "file_extension": ".py",
   "mimetype": "text/x-python",
   "name": "python",
   "nbconvert_exporter": "python",
   "pygments_lexer": "ipython3",
   "version": "3.6.5"
  }
 },
 "nbformat": 4,
 "nbformat_minor": 2
}
