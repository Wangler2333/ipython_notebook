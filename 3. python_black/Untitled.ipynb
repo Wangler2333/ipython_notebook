{
 "cells": [
  {
   "cell_type": "markdown",
   "metadata": {},
   "source": [
    "## 视图\n",
    "- 视图是执行select语句执行后返回的表\n",
    "- 视图是对若干个表的引用，一个虚表\n",
    "```mysql\n",
    "create view 视图名称 as select语句\n",
    "drop view 视图名称\n",
    "```"
   ]
  },
  {
   "cell_type": "markdown",
   "metadata": {},
   "source": [
    "## 事务\n",
    "- 事务是一个操作序列，这些操作要么都执行，要么都不执行，它是一个不可分割的工作单位\n",
    "- 四大特性ACID：原子性，一致性，隔离性，持久性\n",
    "- 任何一个步骤失败，必须回滚所有步骤\n",
    "----\n",
    "- 原子性：一个事务必须被视为一个不可分割的最小工作单元\n",
    "- 一致性：数据库总是从一个一致性状态转换到另一个一致性状态\n",
    "- 隔离性：一个事务在提交前对其他事务是不可见的\n",
    "- 持久性：一旦事务提交，其修改会永久保存在数据库中\n",
    "```mysql\n",
    "-- 开启事务（mysql客户端）\n",
    "start transaction;\n",
    "-- 或\n",
    "begin；\n",
    "-- 提交\n",
    "commit;\n",
    "-- 回滚\n",
    "rollback;\n",
    "```\n",
    "- pymysql默认开启事务"
   ]
  },
  {
   "cell_type": "markdown",
   "metadata": {},
   "source": [
    "## 索引\n",
    "- 索引是一种特殊的文件（innodb数据表上的索引是表空间的一部分），它们包含数据表里所有记录的引用指针\n",
    "- 索引相当于目录\n",
    "\n",
    "```mysql\n",
    "-- 开启时间检测\n",
    "set profiling=1;\n",
    "-- 执行一段命令。。。\n",
    "\n",
    "-- 查看执行时间\n",
    "show profiles;\n",
    "\n",
    "-- 建立索引\n",
    "create index 索引名称 on 表名(字段名(char的长度，数字不需要))\n",
    "create index title_index on test_index(title(10))\n",
    "```"
   ]
  },
  {
   "cell_type": "markdown",
   "metadata": {},
   "source": [
    "```mysql\n",
    "-- 给laowang创建一个只能从本地访问jing_dong数据库的只读权限的账户，密码是123456\n",
    "grant select on jing_dong.* to 'laowang'@'localhost' identified by '123456'\n",
    "\n",
    "grant all on jing_dong.* to 'laoli'@'%' identified by '123456'\n",
    "\n",
    "-- 刷新权限\n",
    "flush privileges\n",
    "```"
   ]
  },
  {
   "cell_type": "markdown",
   "metadata": {},
   "source": [
    "## 主从\n",
    "- slave从master读取，数据备份\n",
    "- 用户请求时，读写分离，主写，从读"
   ]
  },
  {
   "cell_type": "markdown",
   "metadata": {},
   "source": [
    "mysqldump -uroot -p 数据库名 > python.sql\n",
    "mysql -uroot -p 新数据库名 < python.sql\n"
   ]
  }
 ],
 "metadata": {
  "kernelspec": {
   "display_name": "Python 3",
   "language": "python",
   "name": "python3"
  },
  "language_info": {
   "codemirror_mode": {
    "name": "ipython",
    "version": 3
   },
   "file_extension": ".py",
   "mimetype": "text/x-python",
   "name": "python",
   "nbconvert_exporter": "python",
   "pygments_lexer": "ipython3",
   "version": "3.6.4"
  }
 },
 "nbformat": 4,
 "nbformat_minor": 2
}
