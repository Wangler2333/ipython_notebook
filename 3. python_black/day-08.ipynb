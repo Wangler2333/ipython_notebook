{
 "cells": [
  {
   "cell_type": "markdown",
   "metadata": {},
   "source": [
    "- 2018年1月13号 传智黑马\n",
    "- 阴天，还好～\n",
    "- 开始学列表，元组，字典了\n",
    "- GitHub地址：https://github.com/Wangler2333/ipython_notebook/tree/master/python_black\n",
    "- 浏览地址：https://nbviewer.jupyter.org/github/Wangler2333/ipython_notebook/blob/master/python_black/day-08.ipynb"
   ]
  },
  {
   "cell_type": "markdown",
   "metadata": {
    "collapsed": true
   },
   "source": [
    "### for循环"
   ]
  },
  {
   "cell_type": "code",
   "execution_count": 1,
   "metadata": {},
   "outputs": [
    {
     "name": "stdout",
     "output_type": "stream",
     "text": [
      "1\n",
      "3\n",
      "5\n",
      "7\n",
      "9\n"
     ]
    }
   ],
   "source": [
    "for a in range(1,10,2): # 第三个逗号后为步数\n",
    "    print(a)"
   ]
  },
  {
   "cell_type": "markdown",
   "metadata": {},
   "source": [
    "### 列表相关笔记见\n",
    "- 增删改查\n",
    "- GitHub地址：https://github.com/Wangler2333/ipython_notebook/tree/master/liduo_data_structure_notes"
   ]
  },
  {
   "cell_type": "markdown",
   "metadata": {},
   "source": [
    "### 元组\n",
    "- 与列表相似\n",
    "- 不可更改\n",
    "- 可以切片"
   ]
  },
  {
   "cell_type": "code",
   "execution_count": 2,
   "metadata": {},
   "outputs": [
    {
     "name": "stdout",
     "output_type": "stream",
     "text": [
      "(1.65,)\n"
     ]
    }
   ],
   "source": [
    "a_tuple = (\"liduo\", 1.65, 85)\n",
    "print(a_tuple[1:2])"
   ]
  },
  {
   "cell_type": "markdown",
   "metadata": {},
   "source": [
    "### 字典\n",
    "- 无序的\n",
    "- 键值对"
   ]
  },
  {
   "cell_type": "code",
   "execution_count": 3,
   "metadata": {},
   "outputs": [
    {
     "name": "stdout",
     "output_type": "stream",
     "text": [
      "[666, 555]\n"
     ]
    }
   ],
   "source": [
    "a_dict = {\"liduo\": [666, 555], \"haha\": [444, 333]}\n",
    "print(a_dict[\"liduo\"])"
   ]
  },
  {
   "cell_type": "code",
   "execution_count": 21,
   "metadata": {},
   "outputs": [
    {
     "name": "stdout",
     "output_type": "stream",
     "text": [
      "{'liduo': 900, 'haha': [444, 333], 'ccc': 123}\n"
     ]
    }
   ],
   "source": [
    "# 增删改查\n",
    "a_dict = {\"liduo\": [666, 555], \"haha\": [444, 333]}\n",
    "a_dict[\"ccc\"] = 123\n",
    "# a_dict.pop(\"liduo\")\n",
    "a_dict[\"liduo\"] = 900\n",
    "print(a_dict)"
   ]
  },
  {
   "cell_type": "code",
   "execution_count": 22,
   "metadata": {},
   "outputs": [
    {
     "name": "stdout",
     "output_type": "stream",
     "text": [
      "name - li\n",
      "age - 18\n",
      "phone - 666666\n"
     ]
    }
   ],
   "source": [
    "info_dict ={\"name\":\"li\",\n",
    "            \"age\":18,\n",
    "            \"phone\":666666}\n",
    "for k in info_dict:\n",
    "    print(\"%s - %s\" %(k,info_dict[k]))"
   ]
  },
  {
   "cell_type": "code",
   "execution_count": 23,
   "metadata": {},
   "outputs": [
    {
     "name": "stdout",
     "output_type": "stream",
     "text": [
      "{'name': 'li', 'age': 18, 'phone': 666666}\n",
      "{'name': 'duo', 'age': 20, 'phone': 555555}\n"
     ]
    }
   ],
   "source": [
    "info = [\n",
    "    {\"name\":\"li\",\n",
    "    \"age\":18,\n",
    "    \"phone\":666666},\n",
    "    {\"name\":\"duo\",\n",
    "    \"age\":20,\n",
    "    \"phone\":555555}\n",
    "]\n",
    "for k in info:\n",
    "    print(k)"
   ]
  }
 ],
 "metadata": {
  "kernelspec": {
   "display_name": "Python 3",
   "language": "python",
   "name": "python3"
  },
  "language_info": {
   "codemirror_mode": {
    "name": "ipython",
    "version": 3
   },
   "file_extension": ".py",
   "mimetype": "text/x-python",
   "name": "python",
   "nbconvert_exporter": "python",
   "pygments_lexer": "ipython3",
   "version": "3.6.3"
  }
 },
 "nbformat": 4,
 "nbformat_minor": 2
}
