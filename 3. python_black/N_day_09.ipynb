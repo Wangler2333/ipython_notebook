{
 "cells": [
  {
   "cell_type": "markdown",
   "metadata": {},
   "source": [
    "# http协议"
   ]
  },
  {
   "cell_type": "markdown",
   "metadata": {},
   "source": [
    "- 客户端-->request-->服务器\n",
    "- 服务器-->response-->客户端"
   ]
  },
  {
   "cell_type": "markdown",
   "metadata": {},
   "source": [
    "## TCP三次握手，四次挥手\n",
    "```\n",
    "             C|-----syn 1------>|S\n",
    "              |<--ack 2/syn 10--|\n",
    "              |-----ack 11----->|\n",
    "              |                 |\n",
    "              |                 |\n",
    "socket.close()|---------------->|rev.close\n",
    "    send.close|<----ack---------|\n",
    "              |                 |\n",
    "     rev.close|<----------------|socket_client.close()\n",
    "              |-----ack-------->|send.close\n",
    "              \n",
    "S(rev.close):\n",
    "rev_data = socket_client.rev()\n",
    "if rev_data:\n",
    "    ...\n",
    "else:\n",
    "    socket_client.close()\n",
    "             \n",
    "```\n",
    "- 挥手时：先发出close()一方在rev.close时会延时2msl（约2-5分钟）\n",
    "- 挥手时：后发出close()一方在close()时会延时接收ack"
   ]
  },
  {
   "cell_type": "code",
   "execution_count": null,
   "metadata": {},
   "outputs": [],
   "source": []
  }
 ],
 "metadata": {
  "kernelspec": {
   "display_name": "Python 3",
   "language": "python",
   "name": "python3"
  },
  "language_info": {
   "codemirror_mode": {
    "name": "ipython",
    "version": 3
   },
   "file_extension": ".py",
   "mimetype": "text/x-python",
   "name": "python",
   "nbconvert_exporter": "python",
   "pygments_lexer": "ipython3",
   "version": "3.6.4"
  }
 },
 "nbformat": 4,
 "nbformat_minor": 2
}
