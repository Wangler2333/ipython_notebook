{
 "cells": [
  {
   "cell_type": "markdown",
   "metadata": {},
   "source": [
    "# 装饰器分类装饰"
   ]
  },
  {
   "cell_type": "markdown",
   "metadata": {},
   "source": [
    "- @set_level(1)装饰器传入的参数当做实参传入闭包\n",
    "- 根据传入的参数选择相应的装饰器返回"
   ]
  },
  {
   "cell_type": "code",
   "execution_count": 6,
   "metadata": {},
   "outputs": [
    {
     "name": "stdout",
     "output_type": "stream",
     "text": [
      "这是附加功能1\n",
      "1\n",
      "(2, 3)\n",
      "{'li': 1}\n",
      "这是附加功能2\n",
      "1\n",
      "(2, 3)\n",
      "{'li': 1}\n"
     ]
    }
   ],
   "source": [
    "def set_level(level):\n",
    "    def set_func1(func):\n",
    "        def call_func(*args, **kwargs):\n",
    "            print(\"这是附加功能1\")\n",
    "            return func(*args, **kwargs)\n",
    "        return call_func\n",
    "    def set_func2(func):\n",
    "        def call_func(*args, **kwargs):\n",
    "            print(\"这是附加功能2\")\n",
    "            return func(*args, **kwargs)\n",
    "        return call_func\n",
    "#     if level == 1:\n",
    "#         return set_func1\n",
    "#     if level == 2:\n",
    "#         return set_func2\n",
    "    return eval(\"set_func%d\" % level)\n",
    "\n",
    "@set_level(1)  # @set_level(1)会返回set_func1的引用\n",
    "def test1(a, *args, **kwargs):\n",
    "    print(a)\n",
    "    print(args)\n",
    "    print(kwargs)\n",
    "@set_level(2)  # @set_func(2)相当于@set_func2\n",
    "def test2(a, *args, **kwargs):\n",
    "    print(a)\n",
    "    print(args)\n",
    "    print(kwargs)\n",
    "    \n",
    "test1(1, 2, 3, li=1)\n",
    "test2(1, 2, 3, li=1)"
   ]
  },
  {
   "cell_type": "code",
   "execution_count": 10,
   "metadata": {},
   "outputs": [
    {
     "name": "stdout",
     "output_type": "stream",
     "text": [
      "这是函数\n"
     ]
    }
   ],
   "source": [
    "def var():\n",
    "    print(\"这是函数\")\n",
    "name = \"var\"\n",
    "locals()[name]()"
   ]
  },
  {
   "cell_type": "markdown",
   "metadata": {},
   "source": [
    "# 将装饰器应用于web框架"
   ]
  },
  {
   "cell_type": "code",
   "execution_count": 11,
   "metadata": {},
   "outputs": [],
   "source": [
    "import re\n",
    "\n",
    "\n",
    "def index():\n",
    "    with open(\"./templates/index.html\") as f:\n",
    "        content = f.read()\n",
    "\n",
    "    my_stock_info = \"哈哈哈哈 这是你的本月名称.....\"\n",
    "\n",
    "    content = re.sub(r\"\\{%content%\\}\", my_stock_info, content)\n",
    "\n",
    "    return content\n",
    "     \n",
    "\n",
    "def center():\n",
    "    with open(\"./templates/center.html\") as f:\n",
    "        content = f.read()\n",
    "\n",
    "    my_stock_info = \"这里是从mysql查询出来的数据。。。\"\n",
    "\n",
    "    content = re.sub(r\"\\{%content%\\}\", my_stock_info, content)\n",
    "\n",
    "    return content\n",
    "     \n",
    "\n",
    "def application(env, start_response):\n",
    "    start_response('200 OK', [('Content-Type', 'text/html;charset=utf-8')])\n",
    "    \n",
    "    file_name = env['PATH_INFO']\n",
    "    # file_name = \"/index.py\"\n",
    "\n",
    "    if file_name == \"/index.py\":\n",
    "        return index()\n",
    "    elif file_name == \"/center.py\":\n",
    "        return center()\n",
    "    else:\n",
    "        return 'Hello World! 我爱你中国....'\n"
   ]
  },
  {
   "cell_type": "code",
   "execution_count": 13,
   "metadata": {},
   "outputs": [],
   "source": [
    "import re\n",
    "\n",
    "URL_NAME = dict()\n",
    "\n",
    "def route(url):\n",
    "    def set_func(func):\n",
    "        URL_NAME[url] = func\n",
    "        def call_func():\n",
    "            return func()\n",
    "        return call_func\n",
    "    return set_func\n",
    "\n",
    "@route(\"/index.py\")\n",
    "def index():\n",
    "    with open(\"./templates/index.html\") as f:\n",
    "        content = f.read()\n",
    "\n",
    "    my_stock_info = \"哈哈哈哈 这是你的本月名称.....\"\n",
    "\n",
    "    content = re.sub(r\"\\{%content%\\}\", my_stock_info, content)\n",
    "\n",
    "    return content\n",
    "     \n",
    "\n",
    "@route(\"/center.py\")\n",
    "def center():\n",
    "    with open(\"./templates/center.html\") as f:\n",
    "        content = f.read()\n",
    "\n",
    "    my_stock_info = \"这里是从mysql查询出来的数据。。。\"\n",
    "\n",
    "    content = re.sub(r\"\\{%content%\\}\", my_stock_info, content)\n",
    "\n",
    "    return content\n",
    "     \n",
    "\n",
    "def application(env, start_response):\n",
    "    start_response('200 OK', [('Content-Type', 'text/html;charset=utf-8')])\n",
    "    \n",
    "    file_name = env['PATH_INFO']\n",
    "    # file_name = \"/index.py\"\n",
    "\n",
    "#     if file_name == \"/index.py\":\n",
    "#         return index()\n",
    "#     elif file_name == \"/center.py\":\n",
    "#         return center()\n",
    "#     else:\n",
    "#         return 'Hello World! 我爱你中国....'\n",
    "    return URL_NAME[file_name]()\n"
   ]
  },
  {
   "cell_type": "markdown",
   "metadata": {},
   "source": [
    "# 将str字符串转化为变量"
   ]
  },
  {
   "cell_type": "code",
   "execution_count": 36,
   "metadata": {},
   "outputs": [
    {
     "name": "stdout",
     "output_type": "stream",
     "text": [
      "{'x': 1, 'var': <function foo.<locals>.var at 0x1090a7e18>, 'args': 123}\n",
      "{'x': 1, 'var': <function foo.<locals>.var at 0x1090a7e18>, 'args': 123}\n",
      "<function foo.<locals>.var at 0x1090a7e18>\n",
      "None\n"
     ]
    }
   ],
   "source": [
    "def foo(args):\n",
    "    def var():\n",
    "        pass\n",
    "    x=1\n",
    "    print(locals())\n",
    "    print(vars()) \n",
    "    print(eval(\"var\"))\n",
    "    print(exec(\"var\"))\n",
    "foo(123)"
   ]
  },
  {
   "cell_type": "markdown",
   "metadata": {},
   "source": [
    "# 路由\n",
    "- 数据转发，中心分发功能\n",
    "- 将装饰器应用于web框架中的application()实现了路由功能"
   ]
  },
  {
   "cell_type": "markdown",
   "metadata": {},
   "source": [
    "# 静态，动态，伪静态\n",
    "- 静态：/a/b/c/abc.html,真实物理地址，SEO：搜索引擎优化\n",
    "- 动态：/a.php?id=12，逻辑地址\n",
    "- 伪静态：/a/b/ab.html,动态规则伪装成静态规则"
   ]
  }
 ],
 "metadata": {
  "kernelspec": {
   "display_name": "Python 2",
   "language": "python",
   "name": "python2"
  },
  "language_info": {
   "codemirror_mode": {
    "name": "ipython",
    "version": 3
   },
   "file_extension": ".py",
   "mimetype": "text/x-python",
   "name": "python",
   "nbconvert_exporter": "python",
   "pygments_lexer": "ipython3",
   "version": "3.6.5"
  }
 },
 "nbformat": 4,
 "nbformat_minor": 2
}
