{
 "cells": [
  {
   "cell_type": "markdown",
   "metadata": {},
   "source": [
    "# 定时器\n",
    "\n",
    "- 延迟：setTimeout(函数引用，时间);\n",
    "- 间隔：setInterval(函数引用，时间);\n",
    "- 取消延时：var id = setTimeout(函数引用，时间);clearTimeout(id);\n",
    "- 取消间隔：var id = setInterval(函数引用，时间);clearInterval(id);"
   ]
  }
 ],
 "metadata": {
  "kernelspec": {
   "display_name": "Python 3",
   "language": "python",
   "name": "python3"
  },
  "language_info": {
   "codemirror_mode": {
    "name": "ipython",
    "version": 3
   },
   "file_extension": ".py",
   "mimetype": "text/x-python",
   "name": "python",
   "nbconvert_exporter": "python",
   "pygments_lexer": "ipython3",
   "version": "3.6.4"
  }
 },
 "nbformat": 4,
 "nbformat_minor": 2
}
