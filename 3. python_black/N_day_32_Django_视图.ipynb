{
 "cells": [
  {
   "cell_type": "markdown",
   "metadata": {},
   "source": [
    "# 视图\n",
    "- 输出HttpResponse、重定向redirect"
   ]
  },
  {
   "cell_type": "markdown",
   "metadata": {},
   "source": [
    "### url匹配\n",
    "- 域名不参与匹配\n",
    "- ?及后面的参数不参加匹配\n",
    "- 第一个/不参与匹配"
   ]
  },
  {
   "cell_type": "markdown",
   "metadata": {},
   "source": [
    "### 404/500重定向\n",
    "- 在settings.py中关闭调试模式\n",
    "- DEBUG = False\n",
    "- ALLOW_HOST = ['*']\n",
    "- **404**\n",
    "- templates目录下自定义一个404.html，会传入一个参数request_path\n",
    "- **500**\n",
    "- templates目录下自定义一个500.html"
   ]
  },
  {
   "cell_type": "markdown",
   "metadata": {},
   "source": [
    "### 捕获url参数\n",
    "- 对url正则分组，分组匹配到的参数会传入函数调用\n",
    "- 关键字参数，给分组起名字(?P<组名>分组内容)，组名必须与函数参数名字一致"
   ]
  },
  {
   "cell_type": "markdown",
   "metadata": {},
   "source": [
    "### 301/302重定向与url斜线自动补全\n",
    "- APPEND_SLASH = False 不自动追加斜线，默认True\n",
    "- 当自动追加斜线时，会发送301重定向\n",
    "- 301：永久重定向，会保存在浏览器缓存中\n",
    "- 302：临时重定向，不保存在浏览器缓存中"
   ]
  },
  {
   "cell_type": "markdown",
   "metadata": {},
   "source": [
    "### request对象操作\n",
    "- request是HttpRequest类型对象\n",
    "- request.POST，提取POST参数，QueryDict对象\n",
    "- request.GET，提取GET参数，QueryDict对象\n",
    "- request.method 返回请求的方式，POST或GET\n",
    "- request.path 返回请求的路径，不含域名和参数\n",
    "- request.encoding 返回编码方式，None为默认值utf-8\n",
    "- request.FILES 返回类似字典，包含所有上传文件\n",
    "- request.COOKIES 返回标准字典，包含所有cookies，键值对为字符串\n",
    "- request.session 返回可读写的字典\n",
    "\n",
    "```\n",
    "q = QueryDict('a=1&b=2&b=22&b=222&c=3')\n",
    "q['a']\n",
    "q.get('a')\n",
    "q.getlist('b')  # 返回多个值组成的列表\n",
    "\n",
    "q['d']  # 报错\n",
    "q.get('d')  # 返回None\n",
    "```"
   ]
  },
  {
   "cell_type": "markdown",
   "metadata": {},
   "source": [
    "### AJAX\n",
    "- STATICFILES_DIRS = [] 配置静态文件目录\n",
    "- 静态文件导入src=/static/...\n",
    "- $.ajsx()\n",
    "- return JsonResponse({'res':1})"
   ]
  },
  {
   "cell_type": "markdown",
   "metadata": {},
   "source": [
    "### cookies\n",
    "- 键值对\n",
    "- request.COOKIES\n",
    "- 基于域名安全\n",
    "- 有时限，不设置时间则默认为关闭浏览器时删除\n",
    "- 对HttpResponse对象设置cookies,其子类HttpResponseRedirect,JsonResponse也可以设置\n",
    "- max_age=180，180秒后过期\n",
    "- expires=datetime.now()+timedelta(day=14)，设置具体时间过期\n",
    "\n",
    "```python\n",
    "response = HttpResponse(\"设置cookies\")\n",
    "response.set_cookie('num',1,max_age = 180)\n",
    "return response\n",
    "```\n",
    "\n",
    "```python\n",
    "cookies = request.COOKIES\n",
    "num = cookies['num']\n",
    "```"
   ]
  },
  {
   "cell_type": "markdown",
   "metadata": {},
   "source": [
    "### session\n",
    "- session存储在服务器端，数据表里\n",
    "- sessionid存储在浏览器，cookies中\n",
    "- 数据表结构：session_key,session_data,expire_data\n",
    "- 保存时间默认两周\n",
    "- Django中session获取和保存使用request.session，可读写字典\n",
    "- **属性**\n",
    "- request.get[键] 获取键，不会异常，但会返回None\n",
    "- request.has_key[键] 判断是否有记录\n",
    "- request.clear() 清除值\n",
    "- request.flush() 整条删除\n",
    "- del request.session[键] 删除指定信息\n",
    "- request.set_expiry(value) value单位秒，0时关闭浏览器过期，None时默认两周后过期"
   ]
  },
  {
   "cell_type": "markdown",
   "metadata": {},
   "source": []
  }
 ],
 "metadata": {
  "kernelspec": {
   "display_name": "Python 3",
   "language": "python",
   "name": "python3"
  },
  "language_info": {
   "codemirror_mode": {
    "name": "ipython",
    "version": 3
   },
   "file_extension": ".py",
   "mimetype": "text/x-python",
   "name": "python",
   "nbconvert_exporter": "python",
   "pygments_lexer": "ipython3",
   "version": "3.6.5"
  }
 },
 "nbformat": 4,
 "nbformat_minor": 2
}
