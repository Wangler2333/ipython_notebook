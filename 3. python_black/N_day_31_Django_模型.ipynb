{
 "cells": [
  {
   "cell_type": "markdown",
   "metadata": {},
   "source": [
    "# django-模型"
   ]
  },
  {
   "cell_type": "markdown",
   "metadata": {},
   "source": [
    "### 字段\n",
    "- AutoField（自动增长整型）\n",
    "- CharField（字符串）\n",
    "- BooleanField（True 或 False）\n",
    "- NullBooleanField（Null True，False）\n",
    "- TextField（大文本，4000字符以上）\n",
    "- IntegerField（整数）\n",
    "- DecimalField(max_digits=None,decimal_places=None)（十进制浮点数，精度高，参数：总位数、小数位数）\n",
    "- FloatField（浮点数，精度低，参数同上）\n",
    "- DateField([auto_now=False,auto_now_add=False])（日期，参数：最后一次修改时间、创建时间（参数互斥））\n",
    "- TimeField（时间）\n",
    "- DateTimeField（日期加时间）\n",
    "- FileField（上传文件）\n",
    "- ImageField（上传图片）"
   ]
  },
  {
   "cell_type": "markdown",
   "metadata": {},
   "source": [
    "### 选项\n",
    "- default（默认值）\n",
    "- primary_key（主键）\n",
    "- unique（禁止重复）\n",
    "- db_index（创建该字段索引）\n",
    "- db_column（创建字段名字，默认为属性名字）\n",
    "- null（是否允许字段为空）\n",
    "- blank（是否允许空白）"
   ]
  },
  {
   "cell_type": "markdown",
   "metadata": {},
   "source": [
    "#### 查询\n",
    "- get（返回符合条件的有且只有一条数据，返回值：类对象）\n",
    "- all（返回所有数据，返回值：QuerySet查询集）\n",
    "- filter（返回满足条件的所有数据，返回值：QuerySet查询集）\n",
    "- exclude（返回不满足条件的数据，返回值：QuerySet查询集）\n",
    "\n",
    "```\n",
    "相等查询\n",
    "__exact 完全相等\n",
    "__iexact 大小写不敏感\n",
    "\n",
    "模糊查询(=\"书\")\n",
    "__contains\n",
    "__endswith\n",
    "__startswith\n",
    "\n",
    "空查询(=False/True)\n",
    "__isnull\n",
    "\n",
    "范围查询(=[1,3,5]/(1,3,5))\n",
    "__in\n",
    "\n",
    "比较查询(=3)\n",
    "__gt 大于\n",
    "__lt 小于\n",
    "__gte 大于等于\n",
    "__lte 小于等于\n",
    "\n",
    "日期查询(=1980)\n",
    "__year 年\n",
    "__month 月\n",
    "__day 日\n",
    "__gt=date(1980,1,1) 查询1980年1月1日后\n",
    "```\n",
    "\n",
    "- order_by（对查询结果排序）\n",
    "\n",
    "```\n",
    "可传入多个字段，默认升序\n",
    "升序：BookInfo.object.all().order_by(\"id\",'bname')\n",
    "降序：BookInfo.object.all().order_by(\"-id\",'-bname')\n",
    "```"
   ]
  },
  {
   "cell_type": "markdown",
   "metadata": {},
   "source": [
    "#### F对象\n",
    "- 类属性之间的比较\n",
    "- from django.db.models import F\n",
    "\n",
    "```\n",
    "阅读量大于评论量\n",
    "BoolInfo.object.filter(bread__gt=F('bcomment'))\n",
    "阅读量大于2倍评论量\n",
    "BoolInfo.object.filter(bread__gt=F('bcomment')*2)\n",
    "```"
   ]
  },
  {
   "cell_type": "markdown",
   "metadata": {},
   "source": [
    "#### Q对象\n",
    "- 查询条件的逻辑组合，and、or、not，对应&、|、~\n",
    "- from django.db.models import Q\n",
    "\n",
    "```\n",
    "BoolInfo.object.filter(Q(id__gt=3)&Q(id__lt=10))\n",
    "```"
   ]
  },
  {
   "cell_type": "markdown",
   "metadata": {},
   "source": [
    "#### 聚合函数\n",
    "- aggregate()\n",
    "- from django.db.models import Sum,Count,Max,Min,Avg\n",
    "- Sum总和，Count总数，Max最大，Min最小，Avg平均\n",
    "\n",
    "```\n",
    "BoolInfo.object.all().aggregate(Count('id'))\n",
    "返回值：{'id__count':5}\n",
    "```\n",
    "\n",
    "#### count函数\n",
    "```\n",
    "BoolInfo.object.all().count()\n",
    "返回值：数字\n",
    "```"
   ]
  },
  {
   "cell_type": "markdown",
   "metadata": {},
   "source": []
  }
 ],
 "metadata": {
  "kernelspec": {
   "display_name": "Python 3",
   "language": "python",
   "name": "python3"
  },
  "language_info": {
   "codemirror_mode": {
    "name": "ipython",
    "version": 3
   },
   "file_extension": ".py",
   "mimetype": "text/x-python",
   "name": "python",
   "nbconvert_exporter": "python",
   "pygments_lexer": "ipython3",
   "version": "3.6.5"
  }
 },
 "nbformat": 4,
 "nbformat_minor": 2
}
