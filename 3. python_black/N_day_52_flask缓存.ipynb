{
 "cells": [
  {
   "cell_type": "markdown",
   "metadata": {},
   "source": [
    "# Flask数据缓存\n",
    "\n",
    "- 使用redis缓存数据\n",
    "- 先访问redis，若None则访问mysql\n",
    "- mysql数据取出后，先保存redis，后返回\n",
    "- 每次修改数据库时，先删除redis数据，再保存mysql\n",
    "- 并设置redis的有效期"
   ]
  }
 ],
 "metadata": {
  "kernelspec": {
   "display_name": "Python 2",
   "language": "python",
   "name": "python2"
  },
  "language_info": {
   "codemirror_mode": {
    "name": "ipython",
    "version": 3
   },
   "file_extension": ".py",
   "mimetype": "text/x-python",
   "name": "python",
   "nbconvert_exporter": "python",
   "pygments_lexer": "ipython3",
   "version": "3.6.5"
  }
 },
 "nbformat": 4,
 "nbformat_minor": 2
}
