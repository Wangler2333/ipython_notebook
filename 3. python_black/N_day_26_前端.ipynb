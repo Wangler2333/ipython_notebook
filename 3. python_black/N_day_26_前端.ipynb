{
 "cells": [
  {
   "cell_type": "markdown",
   "metadata": {},
   "source": [
    "# 表格"
   ]
  },
  {
   "cell_type": "markdown",
   "metadata": {},
   "source": [
    "- `<tr>`行\n",
    "- `<td>`列\n",
    "- `<th>`标题列，默认居中，粗体"
   ]
  },
  {
   "cell_type": "markdown",
   "metadata": {},
   "source": [
    "<table style=\"border-collapse:collapse;\">\n",
    "    <tr>\n",
    "        <th style=\"border:1px solid black;\">1</th>\n",
    "        <th style=\"border:1px solid black;\">2</th>\n",
    "        <th style=\"border:1px solid black;\">3</th>\n",
    "        <th style=\"border:1px solid black;\">4</th>\n",
    "        <th style=\"border:1px solid black;\">5</th>\n",
    "    </tr>\n",
    "    <tr>\n",
    "        <td colspan=\"3\" style=\"text-align:center;border:1px solid black;\">1</td>\n",
    "        <td style=\"border:1px solid black;\">4</td>\n",
    "        <td rowspan=\"4\" style=\"border:1px solid black;\">5</td>\n",
    "    </tr>\n",
    "    <tr>\n",
    "        <td style=\"border:1px solid black;\">1</td>\n",
    "        <td style=\"border:1px solid black;\">2</td>\n",
    "        <td style=\"border:1px solid black;\">3</td>\n",
    "        <td style=\"border:1px solid black;\">4</td>\n",
    "    </tr>\n",
    "    <tr>\n",
    "        <td colspan=\"2\" rowspan=\"2\" style=\"text-align:center;border:1px solid black;\">1</td>\n",
    "        <td style=\"border:1px solid black;\">3</td>\n",
    "        <td style=\"border:1px solid black;\">4</td>\n",
    "    </tr>\n",
    "    <tr>\n",
    "        <td style=\"border:1px solid black;\">3</td>\n",
    "        <td style=\"border:1px solid black;\">4</td>\n",
    "    </tr>\n",
    "</table>"
   ]
  },
  {
   "cell_type": "markdown",
   "metadata": {},
   "source": [
    "### 表格属性\n",
    "- border-collapse:collapse; 合并边框\n",
    "- text-align:center:文字居中\n",
    "- border:1px solid black;设定边框，有间隙，只有tr和th可以设置\n",
    "----------------------\n",
    "### 合并单元格\n",
    "- 合并原地为左上角\n",
    "- 标签属性操作：colspan=“3”合并三个列\n",
    "- 标签属性操作：rowspan=“3”合并三个行"
   ]
  },
  {
   "cell_type": "markdown",
   "metadata": {},
   "source": [
    "# 选择器权重\n",
    "- 无权重-----继承自祖先元素，浏览器默认\n",
    "- 00000-----*、>、+、空格\n",
    "- 00001-----标签选择器 \n",
    "- 00010-----类和伪类选择器\n",
    "- 00100-----id选择器\n",
    "- 01000-----行内式写法\n",
    "- 10000-----!important加载属性后面\n",
    "- 层级/后代选择时权重叠加计算（累加但不进位）。例如10个标签是0，0，0，0，10权重，比0，0，0，1，0权重小"
   ]
  },
  {
   "cell_type": "markdown",
   "metadata": {},
   "source": [
    "# 设置背景图片\n",
    "- background-img:url(\"./image.jpg\");图片路径\n",
    "- background-repeat:no-repeat/repeat-x/repeat-y;分别为不平铺/x方向平铺/y方向平铺\n",
    "- background-position:left top/right bottom/left center/.../10px 10px;偏移方向\n",
    "- background-position-x:10px;水平偏移\n",
    "- background-position-y:10px;垂直偏移\n",
    "- background:url(\"./xx.jpg\") no-repeat 100px 30px gold;路径、不平铺、水平偏移、垂直偏移、背景颜色"
   ]
  },
  {
   "cell_type": "markdown",
   "metadata": {},
   "source": [
    "# 精灵图\n",
    "- 将一个大图显示其局部图案"
   ]
  }
 ],
 "metadata": {
  "kernelspec": {
   "display_name": "Python 3",
   "language": "python",
   "name": "python3"
  },
  "language_info": {
   "codemirror_mode": {
    "name": "ipython",
    "version": 3
   },
   "file_extension": ".py",
   "mimetype": "text/x-python",
   "name": "python",
   "nbconvert_exporter": "python",
   "pygments_lexer": "ipython3",
   "version": "3.6.4"
  }
 },
 "nbformat": 4,
 "nbformat_minor": 2
}
