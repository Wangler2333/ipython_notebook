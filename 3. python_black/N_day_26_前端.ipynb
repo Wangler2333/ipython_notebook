{
 "cells": [
  {
   "cell_type": "markdown",
   "metadata": {},
   "source": [
    "# 表格"
   ]
  },
  {
   "cell_type": "markdown",
   "metadata": {},
   "source": [
    "- `<tr>`行\n",
    "- `<td>`列\n",
    "- `<th>`标题列，默认居中，粗体"
   ]
  },
  {
   "cell_type": "markdown",
   "metadata": {},
   "source": [
    "<table style=\"border-collapse:collapse;\">\n",
    "    <tr>\n",
    "        <th style=\"border:1px solid black;\">1</th>\n",
    "        <th style=\"border:1px solid black;\">2</th>\n",
    "        <th style=\"border:1px solid black;\">3</th>\n",
    "        <th style=\"border:1px solid black;\">4</th>\n",
    "        <th style=\"border:1px solid black;\">5</th>\n",
    "    </tr>\n",
    "    <tr>\n",
    "        <td colspan=\"3\" style=\"text-align:center;border:1px solid black;\">1</td>\n",
    "        <td style=\"border:1px solid black;\">4</td>\n",
    "        <td rowspan=\"4\" style=\"border:1px solid black;\">5</td>\n",
    "    </tr>\n",
    "    <tr>\n",
    "        <td style=\"border:1px solid black;\">1</td>\n",
    "        <td style=\"border:1px solid black;\">2</td>\n",
    "        <td style=\"border:1px solid black;\">3</td>\n",
    "        <td style=\"border:1px solid black;\">4</td>\n",
    "    </tr>\n",
    "    <tr>\n",
    "        <td colspan=\"2\" rowspan=\"2\" style=\"text-align:center;border:1px solid black;\">1</td>\n",
    "        <td style=\"border:1px solid black;\">3</td>\n",
    "        <td style=\"border:1px solid black;\">4</td>\n",
    "    </tr>\n",
    "    <tr>\n",
    "        <td style=\"border:1px solid black;\">3</td>\n",
    "        <td style=\"border:1px solid black;\">4</td>\n",
    "    </tr>\n",
    "</table>"
   ]
  },
  {
   "cell_type": "markdown",
   "metadata": {},
   "source": [
    "### 表格属性\n",
    "- border-collapse:collapse; 合并边框\n",
    "- text-align:center:文字居中\n",
    "- border:1px solid black;设定边框，有间隙，只有tr和th可以设置\n",
    "----------------------\n",
    "### 合并单元格\n",
    "- 合并原地为左上角\n",
    "- 标签属性操作：colspan=“3”合并三个列\n",
    "- 标签属性操作：rowspan=“3”合并三个行"
   ]
  },
  {
   "cell_type": "markdown",
   "metadata": {},
   "source": []
  }
 ],
 "metadata": {
  "kernelspec": {
   "display_name": "Python 3",
   "language": "python",
   "name": "python3"
  },
  "language_info": {
   "codemirror_mode": {
    "name": "ipython",
    "version": 3
   },
   "file_extension": ".py",
   "mimetype": "text/x-python",
   "name": "python",
   "nbconvert_exporter": "python",
   "pygments_lexer": "ipython3",
   "version": "3.6.4"
  }
 },
 "nbformat": 4,
 "nbformat_minor": 2
}
