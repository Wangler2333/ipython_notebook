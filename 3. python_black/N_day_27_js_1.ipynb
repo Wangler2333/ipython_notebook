{
 "cells": [
  {
   "cell_type": "markdown",
   "metadata": {},
   "source": [
    "# JavaScript\n",
    "- 1、行内式`<div onclick=\"alert('hello1')\">div</div>`\n",
    "- 2、嵌入式`<script>alert('see you!');</script>`\n",
    "- 3、外链式`<script src='./js/main.js'></script>`"
   ]
  },
  {
   "cell_type": "markdown",
   "metadata": {},
   "source": [
    "```javascript\n",
    "var num = 100;\n",
    "var iNum = 100;\n",
    "var sStr = 'abc'\n",
    "```"
   ]
  },
  {
   "cell_type": "markdown",
   "metadata": {},
   "source": [
    "## 类型\n",
    "- typeof()函数查看类型\n",
    "- number\n",
    "- string\n",
    "- bool\n",
    "- object\n",
    "- undefined\n",
    "- null"
   ]
  },
  {
   "cell_type": "markdown",
   "metadata": {},
   "source": [
    "- 严格区分大小写\n",
    "- 首字符：字母、下划线、$\n",
    "- 其他字符：字母、数字、下划线、$\n",
    "- 匈牙利命名规范（非强制）：第一个字母表示类型，o Object/a Array/s String/i Integer/b Boolean/f Float/fn Function/re RegExp"
   ]
  },
  {
   "cell_type": "markdown",
   "metadata": {},
   "source": [
    "## 定义函数\n",
    "```javascript\n",
    "function fnTest(a,b){\n",
    "    alert('Hello World1!');\n",
    "    return a + b;\n",
    "}\n",
    "\n",
    "var iNum = fnTest(1,2);\n",
    "```"
   ]
  },
  {
   "cell_type": "markdown",
   "metadata": {},
   "source": [
    "## 函数和变量预解析\n",
    "- 调用在上，定义在下\n",
    "- 解释执行时，当调用时发现没有定义，会向下搜索定义语句\n",
    "\n",
    "```javascript\n",
    "var iNum = fnTest(1,2);\n",
    "\n",
    "function fnTest(a,b){\n",
    "    alert('Hello World1!');\n",
    "    return a + b;\n",
    "}\n",
    "```\n",
    "\n",
    "- 使用变量在前，变量定义在后，也可执行，但变量类型是undefined且没有值"
   ]
  },
  {
   "cell_type": "markdown",
   "metadata": {},
   "source": [
    "## 条件运算符\n",
    "- ==：先转换为同一类型\n",
    "- ===：不转换类型，先判断类型是否相同\n",
    "- &&：and，与\n",
    "- ||：or，或\n",
    "- !：not，非"
   ]
  },
  {
   "cell_type": "markdown",
   "metadata": {},
   "source": [
    "## 获取样式\n",
    "- 使用内置对象document中的getElementById()方法\n",
    "- 获取的是对象\n",
    "- 对对象的style属性来操作样式，例如：oDiv.style.color = ‘red’\n",
    "- 如将script写在head标签的话，如下\n",
    "```javascript\n",
    "// window.onload会在加载完时执行\n",
    "window.onload = function(){\n",
    "// 代码\n",
    "}\n",
    "```"
   ]
  },
  {
   "cell_type": "markdown",
   "metadata": {},
   "source": [
    "## 获取内容\n",
    "- innerHTML属性，获取或修改内容"
   ]
  },
  {
   "cell_type": "markdown",
   "metadata": {},
   "source": [
    "## 匿名函数\n",
    "- 赋值给一个变量和函数\n",
    "```javascript\n",
    "oDiv.onclick = function(){\n",
    "    alert('Hello World')\n",
    "}\n",
    "```"
   ]
  },
  {
   "cell_type": "markdown",
   "metadata": {},
   "source": []
  }
 ],
 "metadata": {
  "kernelspec": {
   "display_name": "Python 3",
   "language": "python",
   "name": "python3"
  },
  "language_info": {
   "codemirror_mode": {
    "name": "ipython",
    "version": 3
   },
   "file_extension": ".py",
   "mimetype": "text/x-python",
   "name": "python",
   "nbconvert_exporter": "python",
   "pygments_lexer": "ipython3",
   "version": "3.6.4"
  }
 },
 "nbformat": 4,
 "nbformat_minor": 2
}
