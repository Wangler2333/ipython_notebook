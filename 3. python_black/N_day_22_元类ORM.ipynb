{
 "cells": [
  {
   "cell_type": "markdown",
   "metadata": {},
   "source": [
    "# 元类\n",
    "- 类是一组描述如何生成一个对象的代码断\n",
    "- 在python中，类也是一种对象\n",
    "- **创建类对象的类称为元类，即为type()**"
   ]
  },
  {
   "cell_type": "markdown",
   "metadata": {},
   "source": [
    "```\n",
    "- 内建模块builtins：默认加载（print...）\n",
    "- globals()：查看已定义的变量\n",
    "```"
   ]
  },
  {
   "cell_type": "code",
   "execution_count": 6,
   "metadata": {},
   "outputs": [
    {
     "name": "stdout",
     "output_type": "stream",
     "text": [
      "<class '__main__.Test'>\n"
     ]
    }
   ],
   "source": [
    "# 使用type()创建类,type(类名，继承/元组，方法属性/字典)\n",
    "# type()即为元类\n",
    "\n",
    "Test = type(\"Test\",(),{\"num\":100,\"num2\":200})\n",
    "print(Test)"
   ]
  },
  {
   "cell_type": "code",
   "execution_count": 15,
   "metadata": {},
   "outputs": [
    {
     "name": "stdout",
     "output_type": "stream",
     "text": [
      "这是实例方法1\n",
      "这是实例方法2\n"
     ]
    }
   ],
   "source": [
    "# 在type中添加方法，带装饰器的方法同理\n",
    "\n",
    "def test_1(self):\n",
    "    print(\"这是实例方法1\")\n",
    "\n",
    "@staticmethod\n",
    "def test_2():\n",
    "    print(\"这是实例方法2\")\n",
    "\n",
    "Test2 = type(\"Test2\",(),{\"test_1\":test_1,\"test_2\":test_2})\n",
    "\n",
    "t2 = Test2()\n",
    "t2.test_1()\n",
    "t2.test_2()"
   ]
  },
  {
   "cell_type": "code",
   "execution_count": 17,
   "metadata": {},
   "outputs": [
    {
     "name": "stdout",
     "output_type": "stream",
     "text": [
      "<class '__main__.T'>\n",
      "<class 'type'>\n",
      "<class 'type'>\n"
     ]
    }
   ],
   "source": [
    "# 查看是谁创建了类\n",
    "\n",
    "class T:\n",
    "    pass\n",
    "t = T()\n",
    "print(t.__class__)\n",
    "print(t.__class__.__class__)\n",
    "print(t.__class__.__class__.__class__)"
   ]
  },
  {
   "cell_type": "code",
   "execution_count": 31,
   "metadata": {},
   "outputs": [
    {
     "name": "stdout",
     "output_type": "stream",
     "text": [
      "False\n",
      "True\n",
      "bar\n"
     ]
    }
   ],
   "source": [
    "# 重写元类type()\n",
    "# 可以写为函数，也可写为类\n",
    "class Upper_attr(type):\n",
    "    def __new__(cls,class_name,class_parents,class_attr):\n",
    "        return type(class_name,class_parents,class_attr)\n",
    "\n",
    "def upper_attr(class_name,class_parents,class_attr):\n",
    "    new_attr = {}\n",
    "    for name,value in class_attr.items():\n",
    "        if not name.startswith(\"__\"):\n",
    "            new_attr[name.upper()] = value\n",
    "            \n",
    "    return type(class_name,class_parents,new_attr)\n",
    "\n",
    "# 程序运行初始化时，类的创建由type()进行，当指定metaclass参数时，使用指定的函数创建类\n",
    "class Foo(object, metaclass=upper_attr):\n",
    "    bar = \"bar\"\n",
    "    \n",
    "# # python2中，如下写法：   \n",
    "# class Foo2(object):\n",
    "#     __metaclass__ = upper_attr\n",
    "#     bar = \"bar\"\n",
    "    \n",
    "print(hasattr(Foo,\"bar\"))\n",
    "print(hasattr(Foo,\"BAR\"))\n",
    "\n",
    "f = Foo()\n",
    "print(f.BAR)"
   ]
  },
  {
   "cell_type": "markdown",
   "metadata": {},
   "source": [
    "# 元类实现ORM\n",
    "- orm：对象-关系映射\n",
    "- 创建一个实例对象，用创建它的类名当做数据表名，用创建它的类属性当做字段，对数据的操作直接调用对象的方法"
   ]
  },
  {
   "cell_type": "code",
   "execution_count": 33,
   "metadata": {},
   "outputs": [
    {
     "name": "stdout",
     "output_type": "stream",
     "text": [
      "Found mapping: uid ==> ('uid', 'int unsigned')\n",
      "Found mapping: name ==> ('username', 'varchar(30)')\n",
      "Found mapping: email ==> ('email', 'varchar(30)')\n",
      "Found mapping: password ==> ('password', 'varchar(30)')\n",
      "SQL: insert into User (uid,username,email,password) values (12345,'Michael','test@orm.org','my-pwd')\n"
     ]
    }
   ],
   "source": [
    "# 使用元类实现ORM\n",
    "# 实现save方法\n",
    "\n",
    "class ModelMetaclass(type):\n",
    "    def __new__(cls, name, bases, attrs):\n",
    "        mappings = dict()\n",
    "        # 判断是否需要保存\n",
    "        for k, v in attrs.items():\n",
    "            # 判断是否是指定的StringField或者IntegerField的实例对象\n",
    "            if isinstance(v, tuple):\n",
    "                print('Found mapping: %s ==> %s' % (k, v))\n",
    "                mappings[k] = v\n",
    "\n",
    "        # 删除这些已经在字典中存储的属性\n",
    "        for k in mappings.keys():\n",
    "            attrs.pop(k)\n",
    "\n",
    "        # 将之前的uid/name/email/password以及对应的对象引用、类名字\n",
    "        attrs['__mappings__'] = mappings  # 保存属性和列的映射关系\n",
    "        attrs['__table__'] = name  # 假设表名和类名一致\n",
    "        return type.__new__(cls, name, bases, attrs)\n",
    "\n",
    "\n",
    "class User(metaclass=ModelMetaclass):\n",
    "    uid = ('uid', \"int unsigned\")\n",
    "    name = ('username', \"varchar(30)\")\n",
    "    email = ('email', \"varchar(30)\")\n",
    "    password = ('password', \"varchar(30)\")\n",
    "    # 当指定元类之后，以上的类属性将不在类中，而是在__mappings__属性指定的字典中存储\n",
    "    # 以上User类中有 \n",
    "    # __mappings__ = {\n",
    "    #     \"uid\": ('uid', \"int unsigned\")\n",
    "    #     \"name\": ('username', \"varchar(30)\")\n",
    "    #     \"email\": ('email', \"varchar(30)\")\n",
    "    #     \"password\": ('password', \"varchar(30)\")\n",
    "    # }\n",
    "    # __table__ = \"User\"\n",
    "    def __init__(self, **kwargs):\n",
    "        for name, value in kwargs.items():\n",
    "            setattr(self, name, value)\n",
    "\n",
    "    def save(self):\n",
    "        fields = []\n",
    "        args = []\n",
    "        for k, v in self.__mappings__.items():\n",
    "            fields.append(v[0])\n",
    "            args.append(getattr(self, k, None))\n",
    "\n",
    "        args_temp = list()\n",
    "        for temp in args:\n",
    "            # 判断入如果是数字类型\n",
    "            if isinstance(temp, int):\n",
    "                args_temp.append(str(temp))\n",
    "            elif isinstance(temp, str):\n",
    "                args_temp.append(\"\"\"'%s'\"\"\" % temp)\n",
    "        sql = 'insert into %s (%s) values (%s)' % (self.__table__, ','.join(fields), ','.join(args_temp))\n",
    "        print('SQL: %s' % sql)\n",
    "\n",
    "\n",
    "u = User(uid=12345, name='Michael', email='test@orm.org', password='my-pwd')\n",
    "# print(u.__dict__)\n",
    "u.save()"
   ]
  },
  {
   "cell_type": "markdown",
   "metadata": {},
   "source": [
    "### 抽取基类"
   ]
  },
  {
   "cell_type": "code",
   "execution_count": 34,
   "metadata": {},
   "outputs": [
    {
     "name": "stdout",
     "output_type": "stream",
     "text": [
      "Found mapping: uid ==> ('uid', 'int unsigned')\n",
      "Found mapping: name ==> ('username', 'varchar(30)')\n",
      "Found mapping: email ==> ('email', 'varchar(30)')\n",
      "Found mapping: password ==> ('password', 'varchar(30)')\n",
      "SQL: insert into User (uid,username,email,password) values (12345,'Michael','test@orm.org','my-pwd')\n"
     ]
    }
   ],
   "source": [
    "class ModelMetaclass(type):\n",
    "    def __new__(cls, name, bases, attrs):\n",
    "        mappings = dict()\n",
    "        # 判断是否需要保存\n",
    "        for k, v in attrs.items():\n",
    "            # 判断是否是指定的StringField或者IntegerField的实例对象\n",
    "            if isinstance(v, tuple):\n",
    "                print('Found mapping: %s ==> %s' % (k, v))\n",
    "                mappings[k] = v\n",
    "\n",
    "        # 删除这些已经在字典中存储的属性\n",
    "        for k in mappings.keys():\n",
    "            attrs.pop(k)\n",
    "\n",
    "        # 将之前的uid/name/email/password以及对应的对象引用、类名字\n",
    "        attrs['__mappings__'] = mappings  # 保存属性和列的映射关系\n",
    "        attrs['__table__'] = name  # 假设表名和类名一致\n",
    "        return type.__new__(cls, name, bases, attrs)\n",
    "\n",
    "\n",
    "class Model(object, metaclass=ModelMetaclass):\n",
    "    def __init__(self, **kwargs):\n",
    "        for name, value in kwargs.items():\n",
    "            setattr(self, name, value)\n",
    "\n",
    "    def save(self):\n",
    "        fields = []\n",
    "        args = []\n",
    "        for k, v in self.__mappings__.items():\n",
    "            fields.append(v[0])\n",
    "            args.append(getattr(self, k, None))\n",
    "\n",
    "        args_temp = list()\n",
    "        for temp in args:\n",
    "            # 判断入如果是数字类型\n",
    "            if isinstance(temp, int):\n",
    "                args_temp.append(str(temp))\n",
    "            elif isinstance(temp, str):\n",
    "                args_temp.append(\"\"\"'%s'\"\"\" % temp)\n",
    "        sql = 'insert into %s (%s) values (%s)' % (self.__table__, ','.join(fields), ','.join(args_temp))\n",
    "        print('SQL: %s' % sql)\n",
    "\n",
    "\n",
    "class User(Model):\n",
    "    uid = ('uid', \"int unsigned\")\n",
    "    name = ('username', \"varchar(30)\")\n",
    "    email = ('email', \"varchar(30)\")\n",
    "    password = ('password', \"varchar(30)\")\n",
    "\n",
    "\n",
    "u = User(uid=12345, name='Michael', email='test@orm.org', password='my-pwd')\n",
    "# print(u.__dict__)\n",
    "u.save()"
   ]
  },
  {
   "cell_type": "code",
   "execution_count": null,
   "metadata": {},
   "outputs": [],
   "source": []
  }
 ],
 "metadata": {
  "kernelspec": {
   "display_name": "Python 3",
   "language": "python",
   "name": "python3"
  },
  "language_info": {
   "codemirror_mode": {
    "name": "ipython",
    "version": 3
   },
   "file_extension": ".py",
   "mimetype": "text/x-python",
   "name": "python",
   "nbconvert_exporter": "python",
   "pygments_lexer": "ipython3",
   "version": "3.6.5"
  }
 },
 "nbformat": 4,
 "nbformat_minor": 2
}
