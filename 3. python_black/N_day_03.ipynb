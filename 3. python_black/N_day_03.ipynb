{
 "cells": [
  {
   "cell_type": "markdown",
   "metadata": {},
   "source": [
    "## vim\n",
    "```\n",
    "命令行模式：\n",
    "yy：复制\n",
    "4yy：复制4行\n",
    "p：粘贴\n",
    "4p：粘贴4行\n",
    "dd：删除/剪切\n",
    "4dd：剪切三行\n",
    "u：撤销\n",
    "\n",
    "末行模式：\n",
    ":W：保存\n",
    ":q：退出\n",
    ":x/:wq：保存退出\n",
    "\n",
    "编辑模式：\n",
    "i/a：进入编辑模式\n",
    "\n",
    "```"
   ]
  },
  {
   "cell_type": "markdown",
   "metadata": {},
   "source": [
    "## socket(套接字)"
   ]
  },
  {
   "cell_type": "code",
   "execution_count": 3,
   "metadata": {},
   "outputs": [],
   "source": [
    "import socket\n",
    "# s = socket.socket(AddressFamily, Type)\n",
    "s_tcp = socket.socket(socket.AF_INET, socket.SOCK_STREAM)\n",
    "s_udp = socket.socket(socket.AF_INET, socket.SOCK_DGRAM)\n",
    "\n",
    "s_tcp.close()\n",
    "s_udp.close()"
   ]
  },
  {
   "cell_type": "code",
   "execution_count": 108,
   "metadata": {},
   "outputs": [],
   "source": [
    "import socket\n",
    "# s = socket.socket(AddressFamily, Type)\n",
    "s_udp = socket.socket(socket.AF_INET, socket.SOCK_DGRAM)\n",
    "\n",
    "s_udp.sendto(b\"liduo\",(\"127.0.0.1\",45454))\n",
    "\n",
    "s_udp.close()"
   ]
  }
 ],
 "metadata": {
  "kernelspec": {
   "display_name": "Python 3",
   "language": "python",
   "name": "python3"
  },
  "language_info": {
   "codemirror_mode": {
    "name": "ipython",
    "version": 3
   },
   "file_extension": ".py",
   "mimetype": "text/x-python",
   "name": "python",
   "nbconvert_exporter": "python",
   "pygments_lexer": "ipython3",
   "version": "3.6.4"
  }
 },
 "nbformat": 4,
 "nbformat_minor": 2
}
