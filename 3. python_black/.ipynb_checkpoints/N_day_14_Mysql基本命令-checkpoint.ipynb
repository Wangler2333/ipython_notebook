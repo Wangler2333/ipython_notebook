{
 "cells": [
  {
   "cell_type": "markdown",
   "metadata": {},
   "source": [
    "# Mysql基本命令"
   ]
  },
  {
   "cell_type": "markdown",
   "metadata": {},
   "source": [
    "### 数据类型\n",
    "- 整型：int，bit\n",
    "- 小数：decimal\n",
    "- 字符串：varchar（不填充空格），char（填充空格）\n",
    "- 日期事件：date，time，datetime\n",
    "- 枚举类型（enum）：选择答案，如男，女；真，假；对，错\n",
    "\n",
    "decimal(5,2)：整数5位，小数2位\n",
    "text：储存大文本，大于4000的文本\n"
   ]
  },
  {
   "cell_type": "markdown",
   "metadata": {},
   "source": [
    "### 约束\n",
    "- 主键：物理上存储的顺序\n",
    "- 外键：存储别的表的主键的键\n",
    "- 非空：不是空的\n",
    "- 唯一：不允许重复\n",
    "- 默认：不填写为默认"
   ]
  },
  {
   "cell_type": "markdown",
   "metadata": {},
   "source": [
    "### 数据库命令行操作\n",
    "- 连接数据库：mysql -uroot -p\n",
    "- 退出数据库：exit或\\q或quit或control+D\n",
    "- 查看所有数据库：show databases;（有分号）\n",
    "- 显示时间：select now();\n",
    "- 显示版本：select version();\n",
    "- 创建数据库：create database 名字;指定格式：create database 名字 charset=utf-8;\n",
    "- 查看创建数据库的过程：show create database 名字;\n",
    "- 删除数据库：drop database 名字;\n",
    "------\n",
    "- 查询当前数据库：select database();\n",
    "- 使用数据库：use 名字;\n",
    "------\n",
    "- 查看当前数据库所有的表：show tables;\n",
    "- 创建数据表:\n",
    "```\n",
    "create table 名字（字段）;\n",
    "create table xxx(id int,name varchar(20));\n",
    "create table xxx(id int primary key not null auto_increment,name varchar(20));\n",
    "```\n",
    "- 查看数据表结构：desc 名字;\n",
    "- 插入数据：insert into xxx values(0,\"老王\"，)\n",
    "- 查看数据：select * from xxx\n",
    "------"
   ]
  },
  {
   "cell_type": "markdown",
   "metadata": {},
   "source": [
    "- 无符号范围：unsigned\n",
    "- 非空：not null\n",
    "- 主键：primary key\n",
    "- 自动增长：auto_increment\n",
    "- 枚举：enum(\"男\",\"女\",\"中\",\"保密\")\n",
    "- 默认：default “保密”\n",
    "- 小数：decimal(5,2)五位整数，两位小数\n",
    "------ \n",
    "- 创建一个表：\n",
    "```mysql\n",
    "create table student(\n",
    "    id int unsigned primary key auto_increment not null,\n",
    "    name varchar(20),\n",
    "    age tinyint unsigned default 0,\n",
    "    high decimal(5,2),\n",
    "    gender enum(\"男\",\"女\",\"保密\") default \"保密\",\n",
    "    cls_id int unsigned\n",
    ");\n",
    "```"
   ]
  },
  {
   "cell_type": "markdown",
   "metadata": {},
   "source": [
    "### 修改表结构\n",
    "- 添加字段：alter table student add birthday datetime;\n",
    "- 修改字段-不重命名：alter table student modify birthday date;\n",
    "- 修改字段-重命名：alter table student change birthday birth date default “2000-01-01”;\n",
    "- 删除字段：alter table student drop birth\n",
    "- 删除表：drop table xxx"
   ]
  },
  {
   "cell_type": "markdown",
   "metadata": {},
   "source": [
    "## 数据增删改查\n",
    "- 增加：\n",
    "\n",
    "```\n",
    "全列增加：\n",
    "insert into student values(0,\"老李\",19,153,\"男\"，1);\n",
    "\n",
    "部分插入：\n",
    "insert into student (name, gender) values(\"小乔\",2);\n",
    "\n",
    "多行插入：\n",
    "insert into student (name，gender) values (\"小乔\",2),(\"貂蝉\",2);\n",
    "insert into student values(...),(...);\n",
    "```\n",
    "\n",
    "----------\n",
    "- 修改：\n",
    "\n",
    "```\n",
    "修改单个：\n",
    "update student set gender=1 where id=1（修改student表的id=1的gender，使其等于1）\n",
    "\n",
    "修改多个：\n",
    "update student set age=22,gender=1 where id=2\n",
    "```\n",
    "\n",
    "----------\n",
    "- 查询：\n",
    "\n",
    "```\n",
    "定条件查询：\n",
    "select * from student where name=\"小乔\";\n",
    "select * from student where id<6;\n",
    "\n",
    "定列查询\n",
    "select name,gender from student;\n",
    "select name as 姓名,gender as 性别 from student;\n",
    "select gender as 性别,name as 姓名 from student;\n",
    "```\n",
    "\n",
    "---------\n",
    "- 删除：\n",
    "\n",
    "```\n",
    "删除整个表：\n",
    "delete from student;\n",
    "\n",
    "定条件删除：\n",
    "delete from student where name=“小乔”;\n",
    "\n",
    "逻辑删除：添加一列作为标记，表示是否被删除\n",
    "alter table student add is_delete bit default 0;\n",
    "update student set is_delete=1 where name=\"小乔\";\n",
    "```"
   ]
  }
 ],
 "metadata": {
  "kernelspec": {
   "display_name": "Python 3",
   "language": "python",
   "name": "python3"
  },
  "language_info": {
   "codemirror_mode": {
    "name": "ipython",
    "version": 3
   },
   "file_extension": ".py",
   "mimetype": "text/x-python",
   "name": "python",
   "nbconvert_exporter": "python",
   "pygments_lexer": "ipython3",
   "version": "3.6.4"
  }
 },
 "nbformat": 4,
 "nbformat_minor": 2
}
