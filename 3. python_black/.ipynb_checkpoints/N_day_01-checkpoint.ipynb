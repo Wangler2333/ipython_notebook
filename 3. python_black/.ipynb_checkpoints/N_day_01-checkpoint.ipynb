{
 "cells": [
  {
   "cell_type": "markdown",
   "metadata": {},
   "source": [
    "day-01\n",
    "# Linux命令"
   ]
  },
  {
   "cell_type": "markdown",
   "metadata": {},
   "source": [
    "```\n",
    "cd：进入目录\n",
    "ls：查看当前路径下的文件及文件夹\n",
    "pwd：查看当前路径\n",
    "clear：清理屏幕\n",
    "touch ***：创建文件\n",
    "mkdir：创建文件夹\n",
    "mkdir -p:递归创建文件夹\n",
    "rm：删除文件\n",
    "rm -r：删除文件夹（可以递归删除）\n",
    "rmdir：删除文件夹（无法删除非空目录）\n",
    "cp 文件 目录：复制文件到目录里\n",
    "cp -r 目录1 目录2：复制目录1到目录2\n",
    "mv 文件或目录1 目录2：移动文件到目录里（当目录2不存在则创建）\n",
    "tree 目录：显示目录结构\n",
    "history：命令行记录\n",
    "```"
   ]
  },
  {
   "cell_type": "markdown",
   "metadata": {},
   "source": [
    "### ls\n",
    "```\n",
    "ls -a：显示隐藏文件\n",
    "ls -l：显示详细信息\n",
    "ls -h：文件大小转换\n",
    "ls -lh\n",
    "```"
   ]
  },
  {
   "cell_type": "markdown",
   "metadata": {},
   "source": [
    "### cd\n",
    "```\n",
    "cd ..：返回上级目录（..表示上层路径，.表示当前目录）\n",
    "cd ../..：返回上级的上级目录\n",
    "cd -：返回上次路径\n",
    "cd 目录：进入相对目录\n",
    "cd ./目录：进入相对目录\n",
    "cd ~：快速回家(/home/用户)\n",
    "cd /目录/目录：进入绝对目录\n",
    "```"
   ]
  },
  {
   "cell_type": "markdown",
   "metadata": {},
   "source": []
  }
 ],
 "metadata": {
  "kernelspec": {
   "display_name": "Python 3",
   "language": "python",
   "name": "python3"
  },
  "language_info": {
   "codemirror_mode": {
    "name": "ipython",
    "version": 3
   },
   "file_extension": ".py",
   "mimetype": "text/x-python",
   "name": "python",
   "nbconvert_exporter": "python",
   "pygments_lexer": "ipython3",
   "version": "3.6.4"
  }
 },
 "nbformat": 4,
 "nbformat_minor": 2
}
