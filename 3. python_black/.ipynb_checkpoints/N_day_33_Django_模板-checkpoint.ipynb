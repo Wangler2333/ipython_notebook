{
 "cells": [
  {
   "cell_type": "markdown",
   "metadata": {},
   "source": [
    "# 模板\n",
    "- 静态内容，css/js/html\n",
    "- 动态内容，模板语言"
   ]
  },
  {
   "cell_type": "markdown",
   "metadata": {},
   "source": [
    "### 模板文件加载顺序\n",
    "- 首先加载TEMPLATES中加载的文件夹，其次查找INSTALLED_APPS中各个app中的templates文件夹\n",
    "- 1.templates目录\n",
    "- 2.admin/templates目录\n",
    "- 3.auth/templates目录"
   ]
  },
  {
   "cell_type": "markdown",
   "metadata": {},
   "source": [
    "### 模板变量\n",
    "- 变量解析顺序\n",
    "\n",
    "```\n",
    "{{ book.btitle }}\n",
    "1.book作为字典，相当于book['btitle']\n",
    "2.book作为对象，btitle作为属性\n",
    "3.book作为对象，btitle作为方法\n",
    "\n",
    "{{ book.1 }}\n",
    "1.book作为字典，数字作为键名，相当于book[1]\n",
    "2.book作为列表，数字作为下标，相当于book[1]\n",
    "```"
   ]
  },
  {
   "cell_type": "markdown",
   "metadata": {},
   "source": [
    "### 模板标签\n",
    "#### {% 代码段 %}\n",
    "```python\n",
    "{% for ... in ... %}\n",
    "{% empty %}  # 空时动作\n",
    "{% endfor %}\n",
    "{{ forloop.counter }} 记录for循环次数，如：第一次\n",
    "\n",
    "{% if ... %}\n",
    "{% elif %}\n",
    "{% else %}\n",
    "{% endif %}\n",
    "# 比较运算符前后必须空格\n",
    "```"
   ]
  },
  {
   "cell_type": "markdown",
   "metadata": {},
   "source": [
    "### 模板过滤器\n",
    "- {{ 模板变量|过滤器:参数 }}，冒号前后不可有空格\n",
    "- 原理为Linux中的管道，模板变量传给过滤器函数作为第一个参数\n",
    "- **过滤器**\n",
    "- date：时间格式化输出  bpub_date|date:\"Y年m月d日\"\n",
    "- length：返回长度(字符串、列表)\n",
    "- default：如果模板变量判断为False，则使用参数作为默认值"
   ]
  },
  {
   "cell_type": "markdown",
   "metadata": {},
   "source": [
    "### 自定义过滤器\n",
    "- 应用下新建templatetags包（__init__.py文件夹），与viwes.py平级\n",
    "- 目录下新建.py文件，名字随意，推荐filters.py\n",
    "- 使用装饰器对函数装饰\n",
    "- 自定义过滤器的函数至少有一个，最多两个参数\n",
    "\n",
    "```python\n",
    "from django.template import Library\n",
    "\n",
    "register = Library\n",
    "\n",
    "@register.filter\n",
    "def mod(num):\n",
    "    return num % 2 == 0\n",
    "\n",
    "@register.filter\n",
    "def mod_val(num, val):\n",
    "    return num % val == 0\n",
    "\n",
    "# 第二种写法\n",
    "def mod_val(num, val):\n",
    "    return num % val == 0\n",
    "register.filter(\"mod_val\",mod_val)  # 第一个参数为使用的名字，第二个参数为函数引用\n",
    "```\n",
    "\n",
    "- 在.html中加载\n",
    "- 加载{% load .py文件名字 %}\n",
    "- 使用{{ book.id|mod }}\n",
    "- 使用{{ book.id|mod_val:2 }},变量作为第一个形参，参数作为第二个参数"
   ]
  },
  {
   "cell_type": "markdown",
   "metadata": {},
   "source": [
    "### 模板注释\n",
    "- 单行注释{# 注释 #}\n",
    "- 多行注释{% comment %}。。。{% endcomment %}"
   ]
  },
  {
   "cell_type": "markdown",
   "metadata": {},
   "source": [
    "## 模板继承\n",
    "- 父模板文件，例如base.html\n",
    "- 子文件{% extends ‘booktest/base.html’ %}继承父模板，必须第一行\n",
    "- **预留块**\n",
    "- 父模板，需要预留位置{% block 块名 %}...{% endblock 块名 %}\n",
    "- 子模板，重写预留块{% block 块名 %}...{% endblock 块名 %}\n",
    "- 子模板，继承预留块{% block 块名 %}...{{ block.super }}...{% endblock 块名 %}"
   ]
  },
  {
   "cell_type": "markdown",
   "metadata": {},
   "source": [
    "### HTML转义\n",
    "- views.py视图传入标签`<h1></h1>`时会被转义，浏览器显示为字符串\n",
    "- 1.使用safe过滤器关闭转义 {{ 模板变量|safe }}\n",
    "- 2.使用标签关闭转义 {% autoescape off %}...{% endautoescape %}\n",
    "- 3.{{ test|default:`<h1></h1>` }}这种为模板硬编码，不会转义"
   ]
  },
  {
   "cell_type": "markdown",
   "metadata": {},
   "source": [
    "### 使用装饰器进行登录验证\n",
    "\n",
    "```python\n",
    "def login_request(func):\n",
    "    def judge(request,*args,**kwargs):\n",
    "        if request.session.has_key(\"is_on\"):\n",
    "            return func(request,*args,**kwargs)\n",
    "        else:\n",
    "            return redirect('/login')\n",
    "    return judge\n",
    "    \n",
    "@login_request\n",
    "def index(request):\n",
    "    pass\n",
    "```"
   ]
  },
  {
   "cell_type": "markdown",
   "metadata": {},
   "source": [
    "## csrf攻击（跨站请求伪造）\n",
    "- 利用浏览器保存的sessionid，第三方网站发起伪造的表单提交\n",
    "- 使用csrf`中间件`\n",
    "- Django默认开启csrf防护，只保护POST提交\n",
    "- **{% csrf_token %}**\n",
    "- csrf_token在POST标签中生成一个csrfmiddlewaretoken的隐藏域，包含随机生成的token和value；同时response一个cookie，包含value。\n",
    "- 表单提交时对比请求中的cookie中的value和POST中的value，一样则通过，不同返回403错误"
   ]
  },
  {
   "cell_type": "markdown",
   "metadata": {},
   "source": [
    "### 验证码\n",
    "- from django.utils.six import BytesIO\n",
    "- BytesIO进行文件操作\n",
    "```python\n",
    "# 内存文件操作\n",
    "buf = BytesIO()\n",
    "# 将图片保存在内存中，文件类型为png\n",
    "im.save(buf, 'png')\n",
    "# 将内存中的图片数据返回给客户端，MIME类型为图片png\n",
    "return HttpResponse(buf.getvalue(), 'image/png')\n",
    "```\n",
    "##### 验证码生成代码\n",
    "```\n",
    "def verify_code(request):\n",
    "    # 引入随机函数模块\n",
    "    import random\n",
    "    # 定义变量，用于画面的背景色、宽、高 RGB\n",
    "    bgcolor = (random.randrange(20, 100), random.randrange(\n",
    "        20, 100), 255)\n",
    "    width = 100\n",
    "    height = 25\n",
    "    # 创建画面对象\n",
    "    im = Image.new('RGB', (width, height), bgcolor)\n",
    "    # 创建画笔对象\n",
    "    draw = ImageDraw.Draw(im)\n",
    "    # 调用画笔的point()函数绘制噪点\n",
    "    for i in range(0, 100):\n",
    "        xy = (random.randrange(0, width), random.randrange(0, height))\n",
    "        fill = (random.randrange(0, 255), 255, random.randrange(0, 255))\n",
    "        draw.point(xy, fill=fill)\n",
    "\n",
    "    # 定义验证码的备选值\n",
    "    str1 = 'ABCD123EFGHIJK456LMNOPQRS789TUVWXYZ0'\n",
    "    # 随机选取4个值作为验证码\n",
    "    rand_str = ''\n",
    "    for i in range(0, 4):\n",
    "        rand_str += str1[random.randrange(0, len(str1))]\n",
    "\n",
    "    # 构造字体对象，ubuntu的字体路径为“/usr/share/fonts/truetype/freefont”\n",
    "    font = ImageFont.truetype('FreeMono.ttf', 23)\n",
    "    # 构造字体颜色\n",
    "    fontcolor = (255, random.randrange(0, 255), random.randrange(0, 255))\n",
    "    # 绘制4个字\n",
    "    draw.text((5, 2), rand_str[0], font=font, fill=fontcolor)\n",
    "    draw.text((25, 2), rand_str[1], font=font, fill=fontcolor)\n",
    "    draw.text((50, 2), rand_str[2], font=font, fill=fontcolor)\n",
    "    draw.text((75, 2), rand_str[3], font=font, fill=fontcolor)\n",
    "    # 释放画笔\n",
    "    del draw\n",
    "    # 存入session，用于做进一步验证\n",
    "    request.session['verifycode'] = rand_str\n",
    "    # 内存文件操作\n",
    "    buf = BytesIO()\n",
    "    # 将图片保存在内存中，文件类型为png\n",
    "    im.save(buf, 'png')\n",
    "    # 将内存中的图片数据返回给客户端，MIME类型为图片png\n",
    "    return HttpResponse(buf.getvalue(), 'image/png')\n",
    "```"
   ]
  },
  {
   "cell_type": "markdown",
   "metadata": {},
   "source": [
    "## url反向解析--urls\n",
    "- 在项目的urls中 include( ,namespace='应用名称')\n",
    "- 在应用的urls中加入name参数\n",
    "- url(r'^index', views.index, name='index')\n",
    "- 模板中使用连接时{% url 'namespace:name' %}\n",
    "- 如`<a href = \"{% url 'booktest:index' %}\">连接</a>`\n",
    "\n",
    "---\n",
    "\n",
    "- url(r'^index/(\\d+)/(\\d+)', views.index, name='index')\n",
    "- {% url 'namespace:name' 1 2 %}\n",
    "\n",
    "- ----\n",
    "\n",
    "- url(r'^index/(?P<c>\\d+)/(?P<d>\\d+)', views.index, name='index')\n",
    "- {% url 'namespace:name' c=1 d=2 %}"
   ]
  },
  {
   "cell_type": "markdown",
   "metadata": {},
   "source": [
    "## url反向解析--views\n",
    "- 使用reverse函数+redirect重定向\n",
    "- from django.core.urlresolvers import reverse\n",
    "- url = reverse('namespace:name')\n",
    "- url = reverse('namespace:name', args=(1,2))\n",
    "- url = reverse('namespace:name', kwargs=(c=1,d=2))\n",
    "- return redirect(url)"
   ]
  },
  {
   "cell_type": "markdown",
   "metadata": {},
   "source": []
  }
 ],
 "metadata": {
  "kernelspec": {
   "display_name": "Python 3",
   "language": "python",
   "name": "python3"
  },
  "language_info": {
   "codemirror_mode": {
    "name": "ipython",
    "version": 3
   },
   "file_extension": ".py",
   "mimetype": "text/x-python",
   "name": "python",
   "nbconvert_exporter": "python",
   "pygments_lexer": "ipython3",
   "version": "3.6.5"
  }
 },
 "nbformat": 4,
 "nbformat_minor": 2
}
