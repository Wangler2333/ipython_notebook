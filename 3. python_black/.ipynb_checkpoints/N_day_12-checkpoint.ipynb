{
 "cells": [
  {
   "cell_type": "markdown",
   "metadata": {},
   "source": [
    "# GIL(全局解释锁)\n",
    "- 对python虚拟机（解释器）的访问有全局解释锁（GIL）来控制，GIL保证同时只有一个线程在运行（无论在几核的电脑上运行）\n",
    "```\n",
    "1.设置GIL\n",
    "2.切换到一个线程去执行\n",
    "3.运行\n",
    "4.把线程设置为睡眠状态\n",
    "5.解锁GIL\n",
    "6.重复1步骤\n",
    "```\n",
    "- 对于计算密集型程序，GIL对其有影响，使用多进程\n",
    "- 对于IO密集型程序(如网络请求，硬盘读写等有阻塞的程序)，GIL对其无影响，使用多线程"
   ]
  },
  {
   "cell_type": "markdown",
   "metadata": {},
   "source": [
    "# 使用c语言解决GIL问题"
   ]
  },
  {
   "cell_type": "markdown",
   "metadata": {},
   "source": [
    "```\n",
    "1.编译成动态库lib\n",
    "gcc xxx.c -shared -o libxxx.so(c代码中定义一个死循环Deadloop)\n",
    "2.from ctypes import *\n",
    "3.lib = ctypes.cdll.LoadLibrary(\"./libxxx.so\")\n",
    "4.h1 = threading.Thread(target = lib.Deadloop)\n",
    "5.h1.start\n",
    "```"
   ]
  },
  {
   "cell_type": "markdown",
   "metadata": {},
   "source": [
    "# 深拷贝，浅拷贝\n",
    "简单定义：\n",
    "- 浅拷贝：拷贝引用\n",
    "- 深拷贝：拷贝数据"
   ]
  },
  {
   "cell_type": "code",
   "execution_count": 1,
   "metadata": {},
   "outputs": [
    {
     "name": "stdout",
     "output_type": "stream",
     "text": [
      "4438110664 4438110664 4438861192\n"
     ]
    }
   ],
   "source": [
    "import copy\n",
    "a = [11, 22]\n",
    "b = a  # 浅拷贝\n",
    "c = copy.deepcopy(a)  # 深拷贝\n",
    "print(id(a),id(b),id(c))"
   ]
  },
  {
   "cell_type": "code",
   "execution_count": 13,
   "metadata": {},
   "outputs": [
    {
     "name": "stdout",
     "output_type": "stream",
     "text": [
      "a    = 4439111624 c[0] = 4439111624\n",
      "c    = 4438966792 e    = 4438097288\n",
      "c[0] = 4439111624 e[0] = 4439111624\n",
      "c    = 4438966792 f    = 4436770504\n",
      "c[0] = 4439111624 f[0] = 4439014856\n"
     ]
    }
   ],
   "source": [
    "a = [11, 22]\n",
    "b = [33, 44]\n",
    "\n",
    "# 将引用添加到列表，引用指向a，b指向的空间\n",
    "c = [a, b]  \n",
    "print(\"a    =\",id(a), \"c[0] =\",id(c[0]))\n",
    "\n",
    "# d是c指向的空间的引用\n",
    "d = c  \n",
    "\n",
    "# 浅拷贝，只拷贝了第一层\n",
    "e = copy.copy(c)   \n",
    "\n",
    "# e指向了一个新的列表list\n",
    "print(\"c    =\",id(c), \"e    =\",id(e))  \n",
    "\n",
    "# list元素是引用\n",
    "print(\"c[0] =\",id(c[0]), \"e[0] =\",id(e[0]))\n",
    "# 深拷贝，拷贝到底层\n",
    "f = copy.deepcopy(c）\n",
    "\n",
    "print(\"c    =\",id(c), \"f    =\",id(f))  \n",
    "\n",
    "# 新列表拷贝了所有数据\n",
    "print(\"c[0] =\",id(c[0]), \"f[0] =\",id(f[0]))  "
   ]
  },
  {
   "cell_type": "markdown",
   "metadata": {},
   "source": [
    "- copy.copy()列表时，id不同；元组时，id不变\n",
    "- 对于不可变类型，copy.copy()只改变引用\n",
    "- deepcopy()特性与copy()特性相同，但deepcopy需要考虑到底层，copy()只考虑第一层"
   ]
  },
  {
   "cell_type": "code",
   "execution_count": 14,
   "metadata": {},
   "outputs": [
    {
     "name": "stdout",
     "output_type": "stream",
     "text": [
      "4438960456 4438960456 4438630472\n"
     ]
    }
   ],
   "source": [
    "a = [1,2]\n",
    "b = [3,4]\n",
    "c = (a,b)\n",
    "d = copy.copy(c)\n",
    "e = copy.deepcopy(c)\n",
    "print(id(c),id(d),id(e))"
   ]
  },
  {
   "cell_type": "code",
   "execution_count": 15,
   "metadata": {},
   "outputs": [
    {
     "name": "stdout",
     "output_type": "stream",
     "text": [
      "4438944072 4438944072 4438944072\n"
     ]
    }
   ],
   "source": [
    "a = (1,2)\n",
    "b = (3,4)\n",
    "c = (a,b)\n",
    "d = copy.copy(c)\n",
    "e = copy.deepcopy(c)\n",
    "print(id(c),id(d),id(e))"
   ]
  },
  {
   "cell_type": "markdown",
   "metadata": {},
   "source": [
    "- 切片为浅拷贝"
   ]
  },
  {
   "cell_type": "code",
   "execution_count": 16,
   "metadata": {},
   "outputs": [
    {
     "name": "stdout",
     "output_type": "stream",
     "text": [
      "[1]\n",
      "[1]\n"
     ]
    }
   ],
   "source": [
    "a = [1,2]\n",
    "b = a[ :1]\n",
    "print(b)\n",
    "a[0] = 2\n",
    "print(b)"
   ]
  },
  {
   "cell_type": "code",
   "execution_count": 17,
   "metadata": {},
   "outputs": [
    {
     "name": "stdout",
     "output_type": "stream",
     "text": [
      "[[1, 2]]\n",
      "[[1, 2, 3]]\n"
     ]
    }
   ],
   "source": [
    "a = [1,2]\n",
    "b = [3,4]\n",
    "c = [a,b]\n",
    "d = c[:1]\n",
    "print(d)\n",
    "a.append(3)\n",
    "print(d)"
   ]
  },
  {
   "cell_type": "markdown",
   "metadata": {},
   "source": [
    "# 私有化\n",
    "```\n",
    "xx：公有变量\n",
    "_xx：私有化属性或方法，import无法导入，类对象和子类可以访问\n",
    "__xx：避免与子类中属性名冲突，无法在外部直接访问\n",
    "__xx__：用户名字空间的魔法对象或属性，不要自己发明\n",
    "xx_：避免与python关键字冲突\n",
    "```"
   ]
  },
  {
   "cell_type": "markdown",
   "metadata": {},
   "source": [
    "# import导入模块\n",
    "```\n",
    "import xx\n",
    "import xx, zz\n",
    "import xx.yy\n",
    "form xx import *\n",
    "from xx import yy\n",
    "import xx as zz\n",
    "```\n",
    "- sys.path:查看import搜索路径及顺序"
   ]
  },
  {
   "cell_type": "code",
   "execution_count": 18,
   "metadata": {},
   "outputs": [
    {
     "name": "stdout",
     "output_type": "stream",
     "text": [
      "['', '/Library/Frameworks/Python.framework/Versions/3.6/lib/python36.zip', '/Library/Frameworks/Python.framework/Versions/3.6/lib/python3.6', '/Library/Frameworks/Python.framework/Versions/3.6/lib/python3.6/lib-dynload', '/Library/Frameworks/Python.framework/Versions/3.6/lib/python3.6/site-packages', '/Library/Frameworks/Python.framework/Versions/3.6/lib/python3.6/site-packages/IPython/extensions', '/Users/liduo/.ipython']\n"
     ]
    }
   ],
   "source": [
    "import sys\n",
    "print(sys.path)"
   ]
  },
  {
   "cell_type": "code",
   "execution_count": 19,
   "metadata": {},
   "outputs": [
    {
     "name": "stdout",
     "output_type": "stream",
     "text": [
      "['xx', '', '/Library/Frameworks/Python.framework/Versions/3.6/lib/python36.zip', '/Library/Frameworks/Python.framework/Versions/3.6/lib/python3.6', '/Library/Frameworks/Python.framework/Versions/3.6/lib/python3.6/lib-dynload', '/Library/Frameworks/Python.framework/Versions/3.6/lib/python3.6/site-packages', '/Library/Frameworks/Python.framework/Versions/3.6/lib/python3.6/site-packages/IPython/extensions', '/Users/liduo/.ipython', 'xx/xx']\n"
     ]
    }
   ],
   "source": [
    "# 添加路径\n",
    "sys.path.append(\"xx/xx\")\n",
    "# 插入路径\n",
    "sys.path.insert(0, \"xx\")\n",
    "print(sys.path)"
   ]
  },
  {
   "cell_type": "markdown",
   "metadata": {},
   "source": [
    "- import可以避免重复导入\n",
    "- 如果需要重新导入：(只能重新导入import xx导入的模块，from xx import yy不可以重新导入)\n",
    "```\n",
    "from imp import reload\n",
    "reload(模块名)\n",
    "```"
   ]
  }
 ],
 "metadata": {
  "kernelspec": {
   "display_name": "Python 3",
   "language": "python",
   "name": "python3"
  },
  "language_info": {
   "codemirror_mode": {
    "name": "ipython",
    "version": 3
   },
   "file_extension": ".py",
   "mimetype": "text/x-python",
   "name": "python",
   "nbconvert_exporter": "python",
   "pygments_lexer": "ipython3",
   "version": "3.6.4"
  }
 },
 "nbformat": 4,
 "nbformat_minor": 2
}
