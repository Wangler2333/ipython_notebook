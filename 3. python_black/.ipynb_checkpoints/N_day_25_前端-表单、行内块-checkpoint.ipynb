{
 "cells": [
  {
   "cell_type": "markdown",
   "metadata": {},
   "source": [
    "# 表单"
   ]
  },
  {
   "cell_type": "markdown",
   "metadata": {},
   "source": [
    "<!--action属性填写提交的网址，默认本页面网址-->\n",
    "<!--method属性填写提交的方法，默认get-->\n",
    "<!--提交时以name属性为键，value属性为值进行发送-->\n",
    "<form action=\"\" method=\"\">\n",
    "    <p>查看HTML源码请双击此处</p>\n",
    "    <p>\n",
    "        <!--文字输入框-->\n",
    "        <label for=\"\">用户名:</label>\n",
    "        <input type=\"text\" name=\"user\">\n",
    "    </p>\n",
    "<!-------------------------------------------------->\n",
    "    <p>\n",
    "        <!--密码输入框-->\n",
    "        <label for=\"\">密&nbsp;&nbsp;&nbsp;&nbsp;码:</label>\n",
    "        <input type=\"password\" name=\"passwd\">\n",
    "    </p>\n",
    "<!-------------------------------------------------->\n",
    "    <p>\n",
    "        <label for=\"\">性&nbsp;&nbsp;&nbsp;&nbsp;别:</label>\n",
    "        <!--单选框，name属性相同时，才可单选，-->\n",
    "        <input type=\"radio\" name=\"sex\" id=\"male\" value=\"mela\"><label for=\"male\">男</label>\n",
    "        <input type=\"radio\" name=\"sex\" checked value=\"femela\">女\n",
    "    </p>\n",
    "<!-------------------------------------------------->\n",
    "    <p>\n",
    "        <label for=\"\">爱&nbsp;&nbsp;&nbsp;&nbsp;好:</label>\n",
    "        <!--多选框-->\n",
    "        <input type=\"checkbox\" checked>美女\n",
    "        <input type=\"checkbox\">帅哥\n",
    "    </p>\n",
    "<!-------------------------------------------------->\n",
    "    <p>\n",
    "        <!--文件选择框-->\n",
    "        <label for=\"\">上传文件:</label>\n",
    "        <input type=\"file\">\n",
    "    </p>\n",
    "<!-------------------------------------------------->\n",
    "    <p>\n",
    "        <!--选择框-->\n",
    "        <label for=\"\">籍&nbsp;&nbsp;&nbsp;&nbsp;贯:</label>\n",
    "        <select>\n",
    "            <option values=\"\">北京</option>\n",
    "            <option values=\"\">上海</option>\n",
    "            <option values=\"\">武汉</option>\n",
    "            <option values=\"\">长春</option>\n",
    "        </select>\n",
    "    </p>\n",
    "<!-------------------------------------------------->\n",
    "    <p>\n",
    "        <!--多行文字输入框-->\n",
    "        <label for=\"\">个人简介:</label>\n",
    "        <textarea rows=\"2\" cols=\"10\"></textarea>\n",
    "    </p>\n",
    "<!-------------------------------------------------->\n",
    "    <p>\n",
    "        <!--按钮，value未设浏览器会根据语言自动显示-->\n",
    "        <!--按钮只会对同一个form标签起作用-->\n",
    "        <input type=\"submit\">\n",
    "        <input type=\"reset\" value=\"这是重置\">\n",
    "        <input type=\"button\" value=\"普通按钮\">\n",
    "    </p>\n",
    "</form>"
   ]
  },
  {
   "cell_type": "markdown",
   "metadata": {},
   "source": [
    "<html lang=\"en\">\n",
    "\n",
    "<head>\n",
    "    <meta charset=\"UTF-8\">\n",
    "    <meta name=\"viewport\" content=\"width=device-width, initial-scale=1.0\">\n",
    "    <meta http-equiv=\"X-UA-Compatible\" content=\"ie=edge\">\n",
    "    <title>Document</title>\n",
    "    <style>\n",
    "        .searchbar {\n",
    "            width: 602px;\n",
    "            height: 40px;\n",
    "            margin: 10px auto;\n",
    "        }\n",
    "\n",
    "        .input_text {\n",
    "            width: 500px;\n",
    "            height: 40px;\n",
    "            padding: 0;\n",
    "            border: 1px solid green;\n",
    "            text-indent: 10px;\n",
    "            font-size: 12px;\n",
    "            font-family: 'Microsoft YaHei';\n",
    "            color: #757575;\n",
    "            outline: none;\n",
    "            float: left;\n",
    "        }\n",
    "\n",
    "        .input_sub {\n",
    "            width: 100px;\n",
    "            height: 42px;\n",
    "            font-size: 18px;\n",
    "            color: #ffffff;\n",
    "            font-family: 'Microsoft YaHei';\n",
    "            background-color: green;\n",
    "            border: 0;\n",
    "            outline: none;\n",
    "            float: left;\n",
    "            cursor: pointer;\n",
    "        }\n",
    "    </style>\n",
    "</head>\n",
    "\n",
    "<body>\n",
    "    <form class=\"searchbar\">\n",
    "        <input type=\"text\" class='input_text' placeholder=\"请输入要搜索的内容\">\n",
    "        <input type=\"submit\" value=\"搜&nbsp;索\" class='input_sub'>\n",
    "    </form>\n",
    "</body>\n",
    "\n",
    "</html>"
   ]
  },
  {
   "cell_type": "markdown",
   "metadata": {},
   "source": [
    "# 元素类型\n",
    "- 块元素：也称行元素，div、h1、p、ul、form等\n",
    "\n",
    "> 1、独霸一行\n",
    "\n",
    "> 2、支持所有样式，宽高、margin、padding等\n",
    "\n",
    "> 3、宽度默认和父元素一样"
   ]
  },
  {
   "cell_type": "markdown",
   "metadata": {},
   "source": [
    "### 块元素样式重置：\n",
    "- p：含有默认外边距\n",
    "- ul：默认含有内边距、外边距、条目符号\n",
    "- h1-h6：外边距、字体样式\n",
    "- body：外边距"
   ]
  },
  {
   "cell_type": "markdown",
   "metadata": {},
   "source": [
    "### 行内元素：\n",
    "> 1、宽高默认和内容一样\n",
    "\n",
    "> 2、排列在一起，遇到父元素边界自动换行\n",
    "\n",
    "> 3、不支持宽高，margin上下和padding上下有问题\n",
    "\n",
    "> 4、行内元素换行后有间距，但可设置父元素font-size实现\n",
    "\n",
    "> 5、行内元素文字无法设置水平对齐，但可通过设置父元素的text-align使其水平对齐"
   ]
  },
  {
   "cell_type": "markdown",
   "metadata": {},
   "source": [
    "### 行内元素样式重置：\n",
    "- a：下划线，颜色\n",
    "- em语气强调词：斜体\n",
    "- i专业词汇：斜体\n",
    "- b关键字：粗体\n",
    "- strong重点内容：粗体"
   ]
  },
  {
   "cell_type": "markdown",
   "metadata": {},
   "source": [
    "# 行内块：\n",
    "- 对行内元素和块元素设置display属性\n",
    "- display:inline-black;"
   ]
  },
  {
   "cell_type": "markdown",
   "metadata": {},
   "source": [
    "### display属性：\n",
    "- none 元素隐藏切不占位置\n",
    "- block 元素以块元素显示\n",
    "- inline 元素以内联元素显示\n",
    "- inline-block 元素以内联块元素显示"
   ]
  },
  {
   "cell_type": "markdown",
   "metadata": {},
   "source": [
    "# 浮动元素\n",
    "- 开始主要为了实现文字环绕\n",
    "- 如果为了实现居中，不能使用浮动\n",
    "- 1、只能左浮动或右浮动\n",
    "- 2、浮动元素遇到父元素或其他同类元素都会停下\n",
    "- 3、浮动后块元素会排在一行，宽度由内容决定，会自动换行\n",
    "- 4、自动转换为带浮动属性的行内块元素\n",
    "\n",
    "- 可以解决行内元素间距问题、垂直外边距不再合并、margin-top塌陷"
   ]
  },
  {
   "cell_type": "markdown",
   "metadata": {},
   "source": [
    "### 清除浮动\n",
    "- 当子元素全部浮动后，父元素就相当于没有空间，无法自动计算高度\n",
    "- 1、父元素overflow:hidden;\n",
    "- 2、子元素结尾添加空的div，设置属性clear:both\n",
    "- 3、伪元素.clearfix::after{content:\"\";display:table;clear:both;}\n"
   ]
  },
  {
   "cell_type": "markdown",
   "metadata": {},
   "source": [
    "```\n",
    "# 清除塌陷\n",
    ".clearfix::before{content:\"\";display:table;}\n",
    "# 清除浮动\n",
    ".clearfix::after{content:\"\";display:table;clear:both;}\n",
    "# 适配IE浏览器\n",
    ".clear{zoom:1;}\n",
    "```"
   ]
  },
  {
   "cell_type": "markdown",
   "metadata": {},
   "source": [
    "# 定位\n",
    "- position属性，默认static\n",
    "- left、top、right、bottom属性在设置position时有效果\n",
    "-------------\n",
    "- relative：相对定位，参照点为原有位置，移动后原有位置还在\n",
    "- absolute：绝对定位，参照点为设置了定位的父元素，找不到则参照body定位\n",
    "- fixed：固定定位，脱离文档流，固定于浏览器的相对位置\n",
    "-------------\n",
    "- z-index属性可以设置层级"
   ]
  },
  {
   "cell_type": "markdown",
   "metadata": {},
   "source": [
    "border-redius:设置圆角"
   ]
  },
  {
   "cell_type": "markdown",
   "metadata": {},
   "source": [
    "# 提示框\n",
    "- 使用定位，水平垂直居中。\n",
    "- position:fix;\n",
    "- left:50%;margin-left:-150px;\n",
    "- top:50%;margin-top:-150px;"
   ]
  }
 ],
 "metadata": {
  "kernelspec": {
   "display_name": "Python 3",
   "language": "python",
   "name": "python3"
  },
  "language_info": {
   "codemirror_mode": {
    "name": "ipython",
    "version": 3
   },
   "file_extension": ".py",
   "mimetype": "text/x-python",
   "name": "python",
   "nbconvert_exporter": "python",
   "pygments_lexer": "ipython3",
   "version": "3.6.4"
  }
 },
 "nbformat": 4,
 "nbformat_minor": 2
}
