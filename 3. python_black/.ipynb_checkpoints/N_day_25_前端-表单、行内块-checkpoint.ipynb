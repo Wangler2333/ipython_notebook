{
 "cells": [
  {
   "cell_type": "markdown",
   "metadata": {},
   "source": [
    "# 表单"
   ]
  },
  {
   "cell_type": "markdown",
   "metadata": {},
   "source": [
    "<!--action属性填写提交的网址，默认本页面网址-->\n",
    "<!--method属性填写提交的方法，默认get-->\n",
    "<!--提交时以name属性为键，value属性为值进行发送-->\n",
    "<form action=\"\" method=\"\">\n",
    "    <p>查看HTML源码请双击此处</p>\n",
    "    <p>\n",
    "        <!--文字输入框-->\n",
    "        <label for=\"\">用户名:</label>\n",
    "        <input type=\"text\" name=\"user\">\n",
    "    </p>\n",
    "<!-------------------------------------------------->\n",
    "    <p>\n",
    "        <!--密码输入框-->\n",
    "        <label for=\"\">密&nbsp;&nbsp;&nbsp;&nbsp;码:</label>\n",
    "        <input type=\"password\" name=\"passwd\">\n",
    "    </p>\n",
    "<!-------------------------------------------------->\n",
    "    <p>\n",
    "        <label for=\"\">性&nbsp;&nbsp;&nbsp;&nbsp;别:</label>\n",
    "        <!--单选框，name属性相同时，才可单选，-->\n",
    "        <input type=\"radio\" name=\"sex\" id=\"male\" value=\"mela\"><label for=\"male\">男</label>\n",
    "        <input type=\"radio\" name=\"sex\" checked value=\"femela\">女\n",
    "    </p>\n",
    "<!-------------------------------------------------->\n",
    "    <p>\n",
    "        <label for=\"\">爱&nbsp;&nbsp;&nbsp;&nbsp;好:</label>\n",
    "        <!--多选框-->\n",
    "        <input type=\"checkbox\" checked>美女\n",
    "        <input type=\"checkbox\">帅哥\n",
    "    </p>\n",
    "<!-------------------------------------------------->\n",
    "    <p>\n",
    "        <!--文件选择框-->\n",
    "        <label for=\"\">上传文件:</label>\n",
    "        <input type=\"file\">\n",
    "    </p>\n",
    "<!-------------------------------------------------->\n",
    "    <p>\n",
    "        <!--选择框-->\n",
    "        <label for=\"\">籍&nbsp;&nbsp;&nbsp;&nbsp;贯:</label>\n",
    "        <select>\n",
    "            <option values=\"\">北京</option>\n",
    "            <option values=\"\">上海</option>\n",
    "            <option values=\"\">武汉</option>\n",
    "            <option values=\"\">长春</option>\n",
    "        </select>\n",
    "    </p>\n",
    "<!-------------------------------------------------->\n",
    "    <p>\n",
    "        <!--多行文字输入框-->\n",
    "        <label for=\"\">个人简介:</label>\n",
    "        <textarea rows=\"2\" cols=\"10\"></textarea>\n",
    "    </p>\n",
    "<!-------------------------------------------------->\n",
    "    <p>\n",
    "        <!--按钮，value未设浏览器会根据语言自动显示-->\n",
    "        <!--按钮只会对同一个form标签起作用-->\n",
    "        <input type=\"submit\">\n",
    "        <input type=\"reset\" value=\"这是重置\">\n",
    "        <input type=\"button\" value=\"普通按钮\">\n",
    "    </p>\n",
    "</form>"
   ]
  },
  {
   "cell_type": "code",
   "execution_count": null,
   "metadata": {},
   "outputs": [],
   "source": []
  },
  {
   "cell_type": "markdown",
   "metadata": {},
   "source": [
    "<head>\n",
    "    <style>\n",
    "        .searchbar{\n",
    "        width:600px;\n",
    "        height:40px;\n",
    "        margin:10px auto;\n",
    "        }\n",
    "        input_text{\n",
    "        width:500px;\n",
    "        height:40px;\n",
    "        border:1px solid green;\n",
    "        text-indent:10px\n",
    "        font-size:12px;\n",
    "        color:#757575\n",
    "        }\n",
    "    </style>\n",
    "</head>\n",
    "<body>\n",
    "    <form class=\"searchbar\">\n",
    "        <input type=\"text\" class='input_text' placeholder=\"请输入\">\n",
    "        <input type=\"submit\" value=\"搜索\">\n",
    "    </form>\n",
    "<body>"
   ]
  },
  {
   "cell_type": "code",
   "execution_count": null,
   "metadata": {},
   "outputs": [],
   "source": []
  }
 ],
 "metadata": {
  "kernelspec": {
   "display_name": "Python 3",
   "language": "python",
   "name": "python3"
  },
  "language_info": {
   "codemirror_mode": {
    "name": "ipython",
    "version": 3
   },
   "file_extension": ".py",
   "mimetype": "text/x-python",
   "name": "python",
   "nbconvert_exporter": "python",
   "pygments_lexer": "ipython3",
   "version": "3.6.4"
  }
 },
 "nbformat": 4,
 "nbformat_minor": 2
}
