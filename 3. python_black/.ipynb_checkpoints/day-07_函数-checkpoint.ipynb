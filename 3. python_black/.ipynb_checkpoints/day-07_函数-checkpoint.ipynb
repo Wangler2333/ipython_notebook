{
 "cells": [
  {
   "cell_type": "code",
   "execution_count": 1,
   "metadata": {},
   "outputs": [
    {
     "name": "stdout",
     "output_type": "stream",
     "text": [
      "         *\n",
      "       \n",
      "       * * *\n",
      "     \n",
      "     * * * * *\n",
      "   \n",
      "   * * * * * * *\n",
      " \n",
      " * * * * * * * * *\n",
      " \n",
      "   * * * * * * *\n",
      "   \n",
      "     * * * * *\n",
      "     \n",
      "       * * *\n",
      "       \n",
      "         *\n"
     ]
    }
   ],
   "source": [
    "# 4、使用while，完成以下图形的输出\n",
    "\n",
    "#     *\n",
    "#    ***\n",
    "#   *****\n",
    "#  *******\n",
    "# *********\n",
    "#  *******\n",
    "#   *****\n",
    "#    ***\n",
    "#     *\n",
    "i = 1\n",
    "while i <= 9:\n",
    "    print(\" \" * (9 - i), end=\"\")\n",
    "    j = 1\n",
    "    if i % 2 == 1:\n",
    "        while j <= i:\n",
    "            print(\" *\", end=\"\")\n",
    "            j += 1\n",
    "    print(\"\")\n",
    "    i += 1\n",
    "\n",
    "a = 8\n",
    "while a >= 1:\n",
    "    print(\" \" * (9 - a), end=\"\")\n",
    "    b = 8\n",
    "    if a % 2 == 1:\n",
    "        while b >= (9 - a):\n",
    "            print(\" *\", end=\"\")\n",
    "            b -= 1\n",
    "    print(\"\")\n",
    "    a -= 1"
   ]
  },
  {
   "cell_type": "code",
   "execution_count": 5,
   "metadata": {},
   "outputs": [
    {
     "name": "stdout",
     "output_type": "stream",
     "text": [
      "    *\n",
      "   ***\n",
      "  *****\n",
      " *******\n",
      "*********\n",
      " *******\n",
      "  *****\n",
      "   ***\n",
      "    *\n"
     ]
    }
   ],
   "source": [
    "# 上一题的优化，可以def diamonds(max_row)实现菱形可变\n",
    "row = 1\n",
    "col = 1\n",
    "max_row = 9\n",
    "max_x = (max_row + 1) // 2\n",
    "\n",
    "while row <= max_row:\n",
    "    \n",
    "    if row <= max_x:                                  # 控制空格\n",
    "        print(\" \" * (max_x - row), end=\"\")\n",
    "    else:\n",
    "        print(\" \" * (row - max_x), end=\"\")\n",
    "        \n",
    "    if row != 1 and row <= max_x:                     # 控制每行星号\n",
    "        col += 2\n",
    "    elif row > max_x:\n",
    "        col -= 2\n",
    "        \n",
    "    i = 1\n",
    "    while i <= col:                                   # 循环星号\n",
    "        print(\"*\", end=\"\")\n",
    "        i += 1\n",
    "    print(\"\")\n",
    "    row += 1"
   ]
  },
  {
   "cell_type": "markdown",
   "metadata": {},
   "source": [
    "## 函数"
   ]
  },
  {
   "cell_type": "code",
   "execution_count": 1,
   "metadata": {},
   "outputs": [
    {
     "name": "stdout",
     "output_type": "stream",
     "text": [
      "----------\n"
     ]
    }
   ],
   "source": [
    "# 定义一个函数\n",
    "def pr(char,times):\n",
    "    print(char * times)\n",
    "    \n",
    "pr(\"-\" , 10)"
   ]
  },
  {
   "cell_type": "code",
   "execution_count": 3,
   "metadata": {},
   "outputs": [
    {
     "name": "stdout",
     "output_type": "stream",
     "text": [
      "**********\n",
      "**********\n",
      "**********\n",
      "**********\n",
      "**********\n"
     ]
    }
   ],
   "source": [
    "# 定义的函数调用函数\n",
    "def pp(row,char,times):\n",
    "    i = 0\n",
    "    while i < row:\n",
    "        pr(char,times)\n",
    "        i += 1\n",
    "\n",
    "pp(5,\"*\",10)"
   ]
  },
  {
   "cell_type": "markdown",
   "metadata": {},
   "source": [
    "## 高级变量类型\n",
    "- 字符串\n",
    "- 列表\n",
    "- 元组\n",
    "- 字典"
   ]
  },
  {
   "cell_type": "code",
   "execution_count": null,
   "metadata": {
    "collapsed": true
   },
   "outputs": [],
   "source": []
  }
 ],
 "metadata": {
  "kernelspec": {
   "display_name": "Python 3",
   "language": "python",
   "name": "python3"
  },
  "language_info": {
   "codemirror_mode": {
    "name": "ipython",
    "version": 3
   },
   "file_extension": ".py",
   "mimetype": "text/x-python",
   "name": "python",
   "nbconvert_exporter": "python",
   "pygments_lexer": "ipython3",
   "version": "3.6.5"
  }
 },
 "nbformat": 4,
 "nbformat_minor": 2
}
