{
 "cells": [
  {
   "cell_type": "markdown",
   "metadata": {},
   "source": [
    "# redis数据库\n",
    "- value最大长度512m\n",
    "- select index：切换不同的数据库"
   ]
  },
  {
   "cell_type": "markdown",
   "metadata": {},
   "source": [
    "## 数据类型\n",
    "- string：字符串\n",
    "- hash：哈希\n",
    "- list：列表\n",
    "- set：集合\n",
    "- zset：有序集合"
   ]
  },
  {
   "cell_type": "markdown",
   "metadata": {},
   "source": [
    "## string命令\n",
    "- key:value value--string\n",
    "### 添加\n",
    "- set key value：新增或修改KV\n",
    "- setex key seconds value：设置过期时间（针对string类型值）\n",
    "- mset key1 value1 key2 value2：设置多个\n",
    "- append key value：追加值\n",
    "### 获取\n",
    "- get key：获取值\n",
    "- mget key1 key2：获取多个值\n",
    "### 其他通用\n",
    "- keys pattern：查看键，支持通配符\n",
    "- exists key：判断键是否存在\n",
    "- type key：查看值的类型\n",
    "- del key1 key2：删除KV\n",
    "- expire key seconds：设置过期时间（适用所有类型数据，针对键设置）\n",
    "- ttl key：查看键的过期时间"
   ]
  },
  {
   "cell_type": "markdown",
   "metadata": {},
   "source": [
    "## hash命令\n",
    "- key:{key:value}  value--string\n",
    "### 添加\n",
    "- hset key field value：设置单个属性（键、属性、值）\n",
    "- hmset key field1 value1 field2 value2:设置多个属性\n",
    "### 获取\n",
    "- hkeys key：获取键的属性\n",
    "- hget key field：获取键里属性的值\n",
    "- hmget key field1 field2：获取多个属性的值\n",
    "- hvals key：获取所有属性的值\n",
    "### 删除\n",
    "- del key1 key2：删除键值对\n",
    "- hdel key field1 field2：删除属性"
   ]
  },
  {
   "cell_type": "markdown",
   "metadata": {},
   "source": [
    "## list命令\n",
    "- key:[value]  value--string\n",
    "### 添加\n",
    "- lpush key value1 value2：列表左侧插入数据\n",
    "- rpush key value1 value2：列表右侧插入数据\n",
    "- linsert key before或after value newvalue：在列表的value前或后插入newvalue\n",
    "- lset key index value：设置指定索引元素，支持负数索引\n",
    "### 获取\n",
    "- lrange key start stop：查看列表元素，左闭右闭，支持负数索引\n",
    "### 删除\n",
    "- lrem key count value：删除元素count次，count>0左到右；count<0右到左；count=0所有"
   ]
  },
  {
   "cell_type": "markdown",
   "metadata": {},
   "source": [
    "## set命令\n",
    "- key:{value}  value--string\n",
    "### 添加\n",
    "- sadd key member1 member2：添加元素\n",
    "### 获取\n",
    "- smembers key：获取所有元素\n",
    "### 删除\n",
    "- srem key member1 member2：删除元素"
   ]
  },
  {
   "cell_type": "markdown",
   "metadata": {},
   "source": [
    "## zset命令\n",
    "- key:{score:value}  score--double，value--string\n",
    "### 添加\n",
    "- 关联double类型的score，权重自小到大排列\n",
    "- zadd key score1 member1 score2 member：添加元素\n",
    "### 获取\n",
    "- zrange key start stop：获取元素，左闭右闭，支持负数索引\n",
    "- zrangebyscore key min max：获取权值在min到max之间的元素\n",
    "- zscore key member：获取元素权重值\n",
    "### 删除\n",
    "- zrem key member1 member2：删除元素\n",
    "- zremrangebyscore key min max：删除权值min到max之间的元素"
   ]
  },
  {
   "cell_type": "markdown",
   "metadata": {},
   "source": [
    "# redis_python\n",
    "- pip install redis\n",
    "- 创建StrictRedis对象：st=StrictRedis(host=\"localhost\",port=6379,db=0)\n",
    "- 通过对象的方法操作数据库，例如：st.set('li','duo')"
   ]
  },
  {
   "cell_type": "markdown",
   "metadata": {},
   "source": [
    "## redis存储django的session信息\n",
    "```python\n",
    "SESSION_ENGINE = 'redis_sessions.session'\n",
    "SESSION_REDIS_HOST = 'localhost'\n",
    "SESSION_REDIS_PORT = 'port'\n",
    "SESSION_REDIS_DB = '2'\n",
    "SESSION_REDIS_PASSWORD = ''\n",
    "# 唯一标识码的前缀  key=“session:唯一标示吗” value:“base64编码格式”\n",
    "SESSION_REDIS_PREFIX= 'session'\n",
    "```"
   ]
  },
  {
   "cell_type": "markdown",
   "metadata": {},
   "source": [
    "## redis主从\n",
    "- 备份数据\n",
    "- 可多级主从：master-->slave-->slave\n",
    "- master和slave都是redis实例（redis服务），一个实例就是一个进程\n",
    "- redis.conf修改\n",
    "```\n",
    "bind 192.168.26.128\n",
    "slaveof 192.168.26.128 6379\n",
    "port 6378\n",
    "```\n",
    "\n",
    "- sudo redis-server slave.conf\n",
    "- redis-cli -h 192.168.26.128 -p 6379 info Replication ：查看主从信息"
   ]
  },
  {
   "cell_type": "markdown",
   "metadata": {},
   "source": [
    "## redis集群\n",
    "- 软件层面：一台服务器启动多个\n",
    "- 硬件层面：多个服务器启动多个\n",
    "- 使用redis-trib.rb，创建集群\n",
    "- --replicas 1 ：表示所有主节点的从节点数量\n",
    "\n",
    "```ruby\n",
    "redis-trib.rb  create  --replicas  1  192.168.31.245:7000 192.168.31.245:7001  192.168.31.245:7002 192.168.31.210:7003  192.168.31.210:7004  192.168.31.210:7005\n",
    "```\n",
    "\n",
    "- redis.conf\n",
    "\n",
    "```python\n",
    "port  7000  # 端口7000,7002,7003        \n",
    "bind 本机ip  # 默认ip为127.0.0.1 需要改为其他节点机器可访问的ip 否则创建集群时无法访问对应的端口，无法创建集群\n",
    "daemonize yes  # redis后台运行\n",
    "pidfile /var/run/redis_7000.pid  # pidfile文件对应7000,7001,7002\n",
    "cluster-enabled yes  # 开启集群  把注释#去掉\n",
    "cluster-config-file nodes_7000.conf  # 集群的配置  配置文件首次启动自动生成 7000,7001,7002\n",
    "cluster-node-timeout 15000  # 请求超时  默认15秒，可自行设置\n",
    "appendonly yes  # aof日志开启  有需要就开启，它会每次写操作都记录一条日志\n",
    "```\n",
    "\n",
    "- 哈希槽(hash slot)16384个节点平均分配给所有主节点\n",
    "- 存储数据时使用CRC16(key) % 16384得到余数决定存储节点"
   ]
  },
  {
   "cell_type": "markdown",
   "metadata": {},
   "source": [
    "## 使用python对集群操作"
   ]
  },
  {
   "cell_type": "code",
   "execution_count": null,
   "metadata": {},
   "outputs": [],
   "source": [
    "from rediscluster import *\n",
    "if __name__ == '__main__':\n",
    "  try:\n",
    "      # 构建所有的节点，Redis会使⽤CRC16算法，将键和值写到某个节点上\n",
    "      startup_nodes = [\n",
    "          {'host': '192.168.26.128', 'port': '7000'},\n",
    "          {'host': '192.168.26.130', 'port': '7003'},\n",
    "          {'host': '192.168.26.128', 'port': '7001'},\n",
    "      ]\n",
    "      # 构建StrictRedisCluster对象\n",
    "      src=StrictRedisCluster(startup_nodes=startup_nodes,decode_responses=True)\n",
    "      # 设置键为name、值为itheima的数据\n",
    "      result=src.set('name','itheima')\n",
    "      print(result)\n",
    "      # 获取键为name\n",
    "      name = src.get('name')\n",
    "      print(name)\n",
    "  except Exception as e:\n",
    "      print(e)"
   ]
  }
 ],
 "metadata": {
  "kernelspec": {
   "display_name": "Python 3",
   "language": "python",
   "name": "python3"
  },
  "language_info": {
   "codemirror_mode": {
    "name": "ipython",
    "version": 3
   },
   "file_extension": ".py",
   "mimetype": "text/x-python",
   "name": "python",
   "nbconvert_exporter": "python",
   "pygments_lexer": "ipython3",
   "version": "3.6.5"
  }
 },
 "nbformat": 4,
 "nbformat_minor": 2
}
