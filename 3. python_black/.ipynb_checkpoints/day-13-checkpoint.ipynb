{
 "cells": [
  {
   "cell_type": "markdown",
   "metadata": {},
   "source": [
    "- 2018年1月21号 传智黑马\n",
    "- 昨晚下雨了，好冷不想起床\n",
    "- 从今天开始每天早上煮咖啡了～\n",
    "- GitHub地址：https://github.com/Wangler2333/ipython_notebook/tree/master/python_black\n",
    "- 浏览地址：https://nbviewer.jupyter.org/github/Wangler2333/ipython_notebook/blob/master/python_black/day-13.ipynb"
   ]
  },
  {
   "cell_type": "markdown",
   "metadata": {},
   "source": [
    "## 继承"
   ]
  },
  {
   "cell_type": "code",
   "execution_count": 7,
   "metadata": {},
   "outputs": [
    {
     "name": "stdout",
     "output_type": "stream",
     "text": [
      "A\n",
      "B\n",
      "c\n"
     ]
    }
   ],
   "source": [
    "class A :\n",
    "    def ap(self):\n",
    "        print(\"A\")\n",
    "    \n",
    "class B(A):\n",
    "    def bp(self):\n",
    "        print(\"B\")\n",
    "    \n",
    "class C(B):\n",
    "    def cp(self):\n",
    "        print(\"c\")\n",
    "    \n",
    "c = C()\n",
    "c.ap()\n",
    "c.bp()\n",
    "c.cp()"
   ]
  },
  {
   "cell_type": "markdown",
   "metadata": {},
   "source": [
    "### 父类重写及扩展"
   ]
  },
  {
   "cell_type": "code",
   "execution_count": 12,
   "metadata": {},
   "outputs": [
    {
     "name": "stdout",
     "output_type": "stream",
     "text": [
      "bp\n",
      "super调用开始\n",
      "B\n",
      "A\n",
      "super调用完成\n"
     ]
    }
   ],
   "source": [
    "# super(父类中传入的参数).bp(父类方法中传入的参数)\n",
    "# super()代指父类 super().bp()相当于调用父类方法\n",
    "class A :\n",
    "    def ap(self):\n",
    "        print(\"A\")\n",
    "    \n",
    "class B(A):\n",
    "    def bp(self):\n",
    "        print(\"B\")\n",
    "    \n",
    "class C(B):\n",
    "    def cp(self):\n",
    "        print(\"C\")\n",
    "    def bp(self):\n",
    "        print(\"bp\")\n",
    "        print(\"super调用开始\")\n",
    "        super().bp()\n",
    "        super().ap()\n",
    "        print(\"super调用完成\")\n",
    "c = C()\n",
    "c.bp()"
   ]
  },
  {
   "cell_type": "markdown",
   "metadata": {},
   "source": [
    "### 隐藏属性和方法的子类调用"
   ]
  },
  {
   "cell_type": "code",
   "execution_count": 16,
   "metadata": {},
   "outputs": [
    {
     "name": "stdout",
     "output_type": "stream",
     "text": [
      "B\n"
     ]
    }
   ],
   "source": [
    "class A :\n",
    "    def ap(self):\n",
    "        print(\"A\")\n",
    "    \n",
    "class B(A):\n",
    "    def __bp(self):\n",
    "        print(\"B\")\n",
    "    \n",
    "class C(B):\n",
    "    def cp(self):\n",
    "        print(\"c\")\n",
    "        \n",
    "c = C()\n",
    "c._B__bp()"
   ]
  },
  {
   "cell_type": "markdown",
   "metadata": {},
   "source": [
    "## 多继承"
   ]
  },
  {
   "cell_type": "code",
   "execution_count": 17,
   "metadata": {
    "scrolled": true
   },
   "outputs": [
    {
     "name": "stdout",
     "output_type": "stream",
     "text": [
      "A\n",
      "B\n"
     ]
    }
   ],
   "source": [
    "class A :\n",
    "    def ap(self):\n",
    "        print(\"A\")\n",
    "    \n",
    "class B :\n",
    "    def bp(self):\n",
    "        print(\"B\")\n",
    "    \n",
    "class C(A, B):\n",
    "    pass\n",
    "\n",
    "c = C()\n",
    "c.ap()\n",
    "c.bp()"
   ]
  },
  {
   "cell_type": "code",
   "execution_count": 22,
   "metadata": {},
   "outputs": [
    {
     "name": "stdout",
     "output_type": "stream",
     "text": [
      "A\n",
      "(<class '__main__.C'>, <class '__main__.A'>, <class '__main__.B'>, <class 'object'>)\n"
     ]
    }
   ],
   "source": [
    "class A :\n",
    "    def ap(self):\n",
    "        print(\"A\")\n",
    "    \n",
    "class B :\n",
    "    def ap(self):   # 与A类中相同\n",
    "        print(\"B\")\n",
    "    \n",
    "class C(A, B): # 继承顺序决定调用时采用的方法\n",
    "    pass\n",
    "\n",
    "c = C()\n",
    "c.ap()\n",
    "print(C.__mro__) # 查看继承执行顺序"
   ]
  },
  {
   "cell_type": "code",
   "execution_count": 23,
   "metadata": {},
   "outputs": [
    {
     "name": "stdout",
     "output_type": "stream",
     "text": [
      "['__class__', '__delattr__', '__dict__', '__dir__', '__doc__', '__eq__', '__format__', '__ge__', '__getattribute__', '__gt__', '__hash__', '__init__', '__init_subclass__', '__le__', '__lt__', '__module__', '__ne__', '__new__', '__reduce__', '__reduce_ex__', '__repr__', '__setattr__', '__sizeof__', '__str__', '__subclasshook__', '__weakref__', 'ap']\n"
     ]
    }
   ],
   "source": [
    "print(dir(C())) # 查看类的内置函数dir()"
   ]
  },
  {
   "attachments": {
    "%E5%B1%8F%E5%B9%95%E5%BF%AB%E7%85%A7%202018-01-21%20%E4%B8%8B%E5%8D%882.36.15.png": {
     "image/png": "[encoded data removed]"
    }
   },
   "cell_type": "markdown",
   "metadata": {},
   "source": [
    "# 多态\n",
    "- 封装\n",
    "- 继承\n",
    "- 多态：不同的子类对象调用相同的父类方法，产生不同的执行结果（继承+重写），即调用技巧\n",
    "![%E5%B1%8F%E5%B9%95%E5%BF%AB%E7%85%A7%202018-01-21%20%E4%B8%8B%E5%8D%882.36.15.png](attachment:%E5%B1%8F%E5%B9%95%E5%BF%AB%E7%85%A7%202018-01-21%20%E4%B8%8B%E5%8D%882.36.15.png)"
   ]
  },
  {
   "cell_type": "code",
   "execution_count": 31,
   "metadata": {},
   "outputs": [
    {
     "name": "stdout",
     "output_type": "stream",
     "text": [
      "小明和旺财一起玩，旺财在地上玩耍\n",
      "小明和飞天旺财一起玩，飞天旺财飞到天上..玩耍\n"
     ]
    }
   ],
   "source": [
    "class Dog(object):\n",
    "    def __init__(self, name):\n",
    "        self.name = name\n",
    "    def game(self):\n",
    "        print(\"%s在地上玩耍\"% self.name)\n",
    "        \n",
    "class XiaoTianDog(Dog):\n",
    "    def game(self):\n",
    "        print(\"%s飞到天上..玩耍\"% self.name)\n",
    "        \n",
    "class Person(object):\n",
    "    def __init__(self, name):\n",
    "        self.name = name\n",
    "    def game_with_dog(self, dog):\n",
    "        print(\"%s和%s一起玩，\"%(self.name,dog.name),end=\"\")\n",
    "        dog.game()\n",
    "        \n",
    "xiaoming = Person(\"小明\")\n",
    "wangwang = Dog(\"旺财\")\n",
    "feiwangcai = XiaoTianDog(\"飞天旺财\")\n",
    "\n",
    "xiaoming.game_with_dog(wangwang)  # 多态用法\n",
    "xiaoming.game_with_dog(feiwangcai)"
   ]
  },
  {
   "cell_type": "markdown",
   "metadata": {},
   "source": [
    "## 实例\n",
    "\n",
    "**dog = Dog() 中Dog()为实例，dog为变量，Dog为类**\n",
    "- 实例：创建的对象就是实例\n",
    "- 实例化：类创建对象的动作\n",
    "- 实例属性：各个对象各一份\n",
    "- 实例方法：内存只保存一份"
   ]
  },
  {
   "cell_type": "markdown",
   "metadata": {},
   "source": [
    "## 类是一个特殊的对象\n",
    "- 类对象：定义的类\n",
    "- 实例对象：类创建的对象\n",
    "- 类属性：\n",
    "- 类方法：\n",
    "\n",
    "- **类名.XX 可以调用类属性和类方法**"
   ]
  },
  {
   "cell_type": "markdown",
   "metadata": {},
   "source": [
    "### 类属性"
   ]
  },
  {
   "cell_type": "code",
   "execution_count": 32,
   "metadata": {},
   "outputs": [
    {
     "name": "stdout",
     "output_type": "stream",
     "text": [
      "1\n",
      "2\n",
      "3\n",
      "4\n"
     ]
    }
   ],
   "source": [
    "class A(object):\n",
    "    num = 0                # 变量num即为类属性\n",
    "    def __init__(self):\n",
    "        A.num += 1\n",
    "        \n",
    "a = A()\n",
    "print(A.num)\n",
    "b = A()\n",
    "print(A.num)\n",
    "c = A()\n",
    "print(A.num)\n",
    "d = A()\n",
    "print(A.num)"
   ]
  },
  {
   "cell_type": "markdown",
   "metadata": {},
   "source": [
    "### 类方法\n",
    "- @classmethod\n",
    "- def 方法名(cls)：\n",
    "- ...\n",
    "\n",
    "**cls.属性/cls.方法，可以访问类属性/方法**"
   ]
  },
  {
   "cell_type": "code",
   "execution_count": 33,
   "metadata": {},
   "outputs": [
    {
     "name": "stdout",
     "output_type": "stream",
     "text": [
      "这是个类方法\n"
     ]
    }
   ],
   "source": [
    "class B(object):\n",
    "    \n",
    "    @classmethod\n",
    "    def bp(cls):\n",
    "        print(\"这是个类方法\")\n",
    "        \n",
    "B.bp()"
   ]
  },
  {
   "cell_type": "code",
   "execution_count": 35,
   "metadata": {},
   "outputs": [
    {
     "name": "stdout",
     "output_type": "stream",
     "text": [
      "这是个类属性\n",
      "这是类方法，调用了'这是个类属性'\n"
     ]
    }
   ],
   "source": [
    "class BB(object):\n",
    "    aa = \"这是个类属性\"\n",
    "    @classmethod\n",
    "    def cc(cls):\n",
    "        print(\"这是类方法，调用了'%s'\" % cls.aa)\n",
    "\n",
    "print(BB.aa)\n",
    "BB.cc()"
   ]
  },
  {
   "cell_type": "markdown",
   "metadata": {},
   "source": [
    "### 静态方法\n",
    "- 适用范围：不需要访问实例方法/属性，不需要访问类方法/属性\n",
    "- @staticmethod\n",
    "- def 方法名：\n",
    "- ..."
   ]
  },
  {
   "cell_type": "code",
   "execution_count": 36,
   "metadata": {},
   "outputs": [
    {
     "name": "stdout",
     "output_type": "stream",
     "text": [
      "这是个静态方法\n"
     ]
    }
   ],
   "source": [
    "class D(object):\n",
    "    \n",
    "    @staticmethod\n",
    "    def p():\n",
    "        print(\"这是个静态方法\")\n",
    "        \n",
    "D.p()"
   ]
  },
  {
   "cell_type": "code",
   "execution_count": null,
   "metadata": {
    "collapsed": true
   },
   "outputs": [],
   "source": []
  }
 ],
 "metadata": {
  "kernelspec": {
   "display_name": "Python 3",
   "language": "python",
   "name": "python3"
  },
  "language_info": {
   "codemirror_mode": {
    "name": "ipython",
    "version": 3
   },
   "file_extension": ".py",
   "mimetype": "text/x-python",
   "name": "python",
   "nbconvert_exporter": "python",
   "pygments_lexer": "ipython3",
   "version": "3.6.3"
  }
 },
 "nbformat": 4,
 "nbformat_minor": 2
}
