{
 "cells": [
  {
   "cell_type": "markdown",
   "metadata": {},
   "source": [
    "- 2018年1月21号 传智黑马\n",
    "- 昨晚下雨了，好冷不想起床\n",
    "- 从今天开始每天早上煮咖啡了～\n",
    "- GitHub地址：https://github.com/Wangler2333/ipython_notebook/tree/master/python_black\n",
    "- 浏览地址：https://nbviewer.jupyter.org/github/Wangler2333/ipython_notebook/blob/master/python_black/day-13.ipynb"
   ]
  }
 ],
 "metadata": {
  "kernelspec": {
   "display_name": "Python 3",
   "language": "python",
   "name": "python3"
  },
  "language_info": {
   "codemirror_mode": {
    "name": "ipython",
    "version": 3
   },
   "file_extension": ".py",
   "mimetype": "text/x-python",
   "name": "python",
   "nbconvert_exporter": "python",
   "pygments_lexer": "ipython3",
   "version": "3.6.3"
  }
 },
 "nbformat": 4,
 "nbformat_minor": 2
}
