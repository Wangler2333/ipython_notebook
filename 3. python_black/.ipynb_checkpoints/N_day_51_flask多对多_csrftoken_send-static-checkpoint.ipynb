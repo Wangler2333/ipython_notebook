{
 "cells": [
  {
   "cell_type": "markdown",
   "metadata": {},
   "source": [
    "# Flask 数据库多对多\n",
    "\n",
    "- 数据库多对多关系，至少需要三张表，其中一张表用于存储关系\n",
    "\n",
    "```python\n",
    "registrations = db.Table(\n",
    "    'registrations',\n",
    "    db.Column('student_id', db.Integer, db.ForeignKey('students.id')),\n",
    "    db.Column('class_id', db.Integer, db.ForeignKey('classes.id'))\n",
    ")\n",
    "\n",
    "\n",
    "class Student(db.Model):\n",
    "    id = db.Column(db.Integer, primary_key=True)\n",
    "    name = db.Column(db.String)\n",
    "    classes = db.relationship('Class',secondary=registrations,backref=db.backref('students', lazy='dynamic'),lazy='dynamic')\n",
    "\n",
    "\n",
    "class Class(db.Model):\n",
    "    id = db.Column(db.Integer, primary_key = True)\n",
    "    name = db.Column(db.String)\n",
    "```"
   ]
  },
  {
   "cell_type": "markdown",
   "metadata": {},
   "source": [
    "# Flask 数据库一对多\n",
    "\n",
    "- 使用relationship建立关系\n",
    "\n",
    "```python\n",
    "class Student(db.Model):\n",
    "    __tablename__ = 'students'\n",
    "    id = db.Column(db.Integer, primary_key=True)\n",
    "    name = db.Column(db.String(64))\n",
    "    class_id = db.Column(db.Integer, db.ForeignKey('classes.id'))\n",
    "    def __repr__(self):\n",
    "        return '<Student: %r>' %self.name\n",
    "\n",
    "class Class(db.Model):\n",
    "    __tablename__ = 'classes'\n",
    "    id = db.Column(db.Integer, primary_key=True)\n",
    "    students = db.relationship('Student', backref='_class', lazy=\"select\")\n",
    "    name = db.Column(db.String(64))\n",
    "    def __repr__(self):\n",
    "        return '<Class: %r>' %self.name\n",
    "```"
   ]
  },
  {
   "cell_type": "markdown",
   "metadata": {},
   "source": [
    "# app.send_static_file()方法\n",
    "\n",
    "- 发送静态文件\n",
    "- 用于视图返回静态文件"
   ]
  },
  {
   "cell_type": "markdown",
   "metadata": {},
   "source": [
    "# 手动设置csrf到cookie,body\n",
    "\n",
    "- from flask_wtf.csrf import generate_csrf\n",
    "- csrf_token = generate_csrf()\n",
    "- resp = make_response(current_app.send_static_file(file_name))\n",
    "- resp.set_cookie(\"csrf_token\", csrf_token)"
   ]
  },
  {
   "cell_type": "markdown",
   "metadata": {},
   "source": []
  }
 ],
 "metadata": {
  "kernelspec": {
   "display_name": "Python 3",
   "language": "python",
   "name": "python3"
  },
  "language_info": {
   "codemirror_mode": {
    "name": "ipython",
    "version": 3
   },
   "file_extension": ".py",
   "mimetype": "text/x-python",
   "name": "python",
   "nbconvert_exporter": "python",
   "pygments_lexer": "ipython3",
   "version": "3.6.5"
  }
 },
 "nbformat": 4,
 "nbformat_minor": 2
}
