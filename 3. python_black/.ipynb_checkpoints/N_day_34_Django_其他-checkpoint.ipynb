{
 "cells": [
  {
   "cell_type": "markdown",
   "metadata": {},
   "source": [
    "## 静态文件\n",
    "- 新建static文件夹\n",
    "- STATIC_URL = '/static/' 设置静态文件url地址\n",
    "- STATICFILES_DIRS = [os.path.join(BASE_DIR, 'static')]\n",
    "- 加载目录：STATICFILES_FINDERS = (...)，首先查找settings中的文件夹；之后加载app目录下的static文件夹\n",
    "\n",
    "---\n",
    "\n",
    "##### 动态获取静态文件夹路径\n",
    "- {% load staticfiles %}\n",
    "- src = \"{% static 'images/mm.jpg' %}\" 拼接路径\n",
    "- {% static ... %}获取到静态文件夹路径"
   ]
  },
  {
   "cell_type": "markdown",
   "metadata": {},
   "source": [
    "## 中间件\n",
    "- 中间件：django预留的函数接口，用来干预请求和应答过程\n",
    "- request.META['REMOTE_ADDR'] 获取浏览器端ip地址\n",
    "- "
   ]
  }
 ],
 "metadata": {
  "kernelspec": {
   "display_name": "Python 3",
   "language": "python",
   "name": "python3"
  },
  "language_info": {
   "codemirror_mode": {
    "name": "ipython",
    "version": 3
   },
   "file_extension": ".py",
   "mimetype": "text/x-python",
   "name": "python",
   "nbconvert_exporter": "python",
   "pygments_lexer": "ipython3",
   "version": "3.6.5"
  }
 },
 "nbformat": 4,
 "nbformat_minor": 2
}
