{
 "cells": [
  {
   "cell_type": "markdown",
   "metadata": {},
   "source": [
    "# 闭包"
   ]
  },
  {
   "cell_type": "code",
   "execution_count": 1,
   "metadata": {},
   "outputs": [
    {
     "name": "stdout",
     "output_type": "stream",
     "text": [
      "3\n",
      "4\n",
      "5\n"
     ]
    }
   ],
   "source": [
    "def line(k,b):\n",
    "    def create(x):\n",
    "        print(k*x+b)\n",
    "    return create\n",
    "\n",
    "line_1 = line(1,2)  # 此时line_1是create()的引用\n",
    "line_1(1)\n",
    "line_1(2)\n",
    "line_1(3)"
   ]
  },
  {
   "cell_type": "markdown",
   "metadata": {},
   "source": [
    "# 装饰器"
   ]
  },
  {
   "cell_type": "code",
   "execution_count": 2,
   "metadata": {},
   "outputs": [
    {
     "name": "stdout",
     "output_type": "stream",
     "text": [
      "3\n"
     ]
    }
   ],
   "source": [
    "### 匿名函数\n",
    "fnc = lambda x: x+1\n",
    "print(fnc(2))"
   ]
  },
  {
   "cell_type": "markdown",
   "metadata": {},
   "source": [
    "- 开放封闭原则"
   ]
  },
  {
   "cell_type": "code",
   "execution_count": 10,
   "metadata": {},
   "outputs": [
    {
     "name": "stdout",
     "output_type": "stream",
     "text": [
      "-----1-----\n"
     ]
    }
   ],
   "source": [
    "def set_func(func):\n",
    "    def call_func():\n",
    "        print(\"这是附加功能\")\n",
    "        func()\n",
    "    return call_func\n",
    "\n",
    "# @set_func\n",
    "def test():\n",
    "    print(\"-----1-----\")\n",
    "    \n",
    "test()"
   ]
  },
  {
   "cell_type": "code",
   "execution_count": 13,
   "metadata": {},
   "outputs": [
    {
     "name": "stdout",
     "output_type": "stream",
     "text": [
      "这是附加功能\n",
      "-----1-----\n"
     ]
    }
   ],
   "source": [
    "def set_func(func):\n",
    "    def call_func():\n",
    "        print(\"这是附加功能\")\n",
    "        func()\n",
    "    return call_func\n",
    "\n",
    "# @set_func\n",
    "def test():\n",
    "    print(\"-----1-----\")\n",
    "    \n",
    "test = set_func(test)\n",
    "test()\n",
    "# set_func(test)()"
   ]
  },
  {
   "cell_type": "code",
   "execution_count": 16,
   "metadata": {},
   "outputs": [
    {
     "name": "stdout",
     "output_type": "stream",
     "text": [
      "这是附加功能\n",
      "-----1-----\n"
     ]
    }
   ],
   "source": [
    "def set_func(func):\n",
    "    def call_func():\n",
    "        print(\"这是附加功能\")\n",
    "        func()\n",
    "    return call_func\n",
    "\n",
    "@set_func\n",
    "def test():\n",
    "    print(\"-----1-----\")\n",
    "    \n",
    "test()"
   ]
  },
  {
   "cell_type": "markdown",
   "metadata": {},
   "source": [
    "- 定义A(),B()               \n",
    "- @A 等于 B = A(B)\n",
    "```\n",
    "@set_func\n",
    "test()\n",
    "相当于\n",
    "test = set_func(test)\n",
    "test()\n",
    "即\n",
    "set_func(test)()\n",
    "```"
   ]
  },
  {
   "cell_type": "code",
   "execution_count": 19,
   "metadata": {},
   "outputs": [
    {
     "name": "stdout",
     "output_type": "stream",
     "text": [
      "这是附加功能2\n",
      "这是附加功能1\n",
      "-----1-----\n"
     ]
    }
   ],
   "source": [
    "def set_func2(func):\n",
    "    def call_func2():\n",
    "        print(\"这是附加功能2\")\n",
    "        func()\n",
    "    return call_func2\n",
    "\n",
    "def set_func(func):\n",
    "    @set_func2\n",
    "    def call_func():\n",
    "        print(\"这是附加功能1\")\n",
    "        func()\n",
    "    return call_func\n",
    "\n",
    "@set_func\n",
    "def test():\n",
    "    print(\"-----1-----\")\n",
    "    \n",
    "test()"
   ]
  },
  {
   "cell_type": "code",
   "execution_count": 23,
   "metadata": {},
   "outputs": [
    {
     "name": "stdout",
     "output_type": "stream",
     "text": [
      "这是附加功能2\n",
      "这是附加功能1\n",
      "-----1-----\n"
     ]
    }
   ],
   "source": [
    "def set_func2(func):\n",
    "    def call_func2():\n",
    "        print(\"这是附加功能2\")\n",
    "        func()\n",
    "    return call_func2\n",
    "\n",
    "def set_func(func):\n",
    "    def call_func():\n",
    "        print(\"这是附加功能1\")\n",
    "        func()\n",
    "    return call_func\n",
    "\n",
    "@set_func2\n",
    "@set_func\n",
    "def test():\n",
    "    print(\"-----1-----\")\n",
    "    \n",
    "test()"
   ]
  },
  {
   "cell_type": "code",
   "execution_count": 25,
   "metadata": {},
   "outputs": [
    {
     "name": "stdout",
     "output_type": "stream",
     "text": [
      "这是附加功能2\n",
      "这是附加功能1\n",
      "-----10-----\n"
     ]
    }
   ],
   "source": [
    "# 带参数的函数的装饰器定义\n",
    "# 优化，加入return，防止被装饰的函数有return\n",
    "\n",
    "def set_func2(func):\n",
    "    def call_func2(num):\n",
    "        print(\"这是附加功能2\")\n",
    "        return func(num)\n",
    "    return call_func2\n",
    "\n",
    "def set_func(func):\n",
    "    def call_func(num):\n",
    "        print(\"这是附加功能1\")\n",
    "        return func(num)\n",
    "    return call_func\n",
    "\n",
    "@set_func2\n",
    "@set_func\n",
    "def test(num):\n",
    "    print(\"-----{}-----\".format(num))\n",
    "    \n",
    "test(10)"
   ]
  },
  {
   "cell_type": "code",
   "execution_count": 31,
   "metadata": {},
   "outputs": [
    {
     "data": {
      "text/plain": [
       "1"
      ]
     },
     "execution_count": 31,
     "metadata": {},
     "output_type": "execute_result"
    }
   ],
   "source": [
    "# 加入return的原理\n",
    "\n",
    "def a():\n",
    "    return 1\n",
    "\n",
    "def b():\n",
    "    return a()\n",
    "\n",
    "b()"
   ]
  },
  {
   "cell_type": "code",
   "execution_count": null,
   "metadata": {},
   "outputs": [],
   "source": []
  }
 ],
 "metadata": {
  "kernelspec": {
   "display_name": "Python 3",
   "language": "python",
   "name": "python3"
  },
  "language_info": {
   "codemirror_mode": {
    "name": "ipython",
    "version": 3
   },
   "file_extension": ".py",
   "mimetype": "text/x-python",
   "name": "python",
   "nbconvert_exporter": "python",
   "pygments_lexer": "ipython3",
   "version": "3.6.4"
  }
 },
 "nbformat": 4,
 "nbformat_minor": 2
}
