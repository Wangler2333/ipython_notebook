{
 "cells": [
  {
   "cell_type": "markdown",
   "metadata": {},
   "source": [
    "# Redis存储session\n",
    "- 1、django-redis-sessions==0.5.6包\n",
    "- 2、django-redis==4.4.0包\n",
    "\n",
    "```python\n",
    "# django-redis包的配置\n",
    "# setting.py\n",
    "# Django的缓存配置\n",
    "CACHES = {\n",
    "    \"default\": {\n",
    "        \"BACKEND\": \"django_redis.cache.RedisCache\",\n",
    "        \"LOCATION\": \"redis://127.0.0.1:6379/9\",\n",
    "        \"OPTIONS\": {\n",
    "            \"CLIENT_CLASS\": \"django_redis.client.DefaultClient\",\n",
    "        }\n",
    "    }\n",
    "}\n",
    "\n",
    "# 配置session存储\n",
    "SESSION_ENGINE = \"django.contrib.sessions.backends.cache\"\n",
    "SESSION_CACHE_ALIAS = \"default\"\n",
    "```"
   ]
  },
  {
   "cell_type": "markdown",
   "metadata": {},
   "source": [
    "# 登录装饰器\n",
    "\n",
    "- login_required自带装饰器\n",
    "- settings.LOGIN_URL 配置登录界面地址\n",
    "- ?next=/跳转前的url/\n",
    "\n",
    "```python\n",
    "from django.contrib.auth.decorators import login_required\n",
    "\n",
    "# urls.py\n",
    "login_required(IndexView.as_view())\n",
    "```"
   ]
  },
  {
   "cell_type": "markdown",
   "metadata": {},
   "source": [
    "# 视图类继承实现登录装饰\n",
    "\n",
    "- 新建文件夹util/mixin.py\n",
    "\n",
    "```python\n",
    "from django.contrib.auth.decorators import login_required\n",
    "\n",
    "\n",
    "class LoginRequiredMixin(object):\n",
    "    @classmethod\n",
    "    def as_view(cls, **initkwargs):\n",
    "        # 调用父类的as_view\n",
    "        view = super(LoginRequiredMixin, cls).as_view(**initkwargs)\n",
    "        return login_required(view)\n",
    "```\n",
    "\n",
    "- 视图类直接继承LoginRequiredMixin，注意继承顺序\n",
    "\n",
    "```python\n",
    "class IndexView(LoginRequiredMixin, View):\n",
    "    pass\n",
    "\n",
    "# Django会给request对象添加一个属性request.user\n",
    "# 如果用户未登录->user是AnonymousUser类的一个实例对象\n",
    "# 如果用户登录->user是User类的一个实例对象\n",
    "# request.user.is_authenticated()用于判断是否登录，登录为True\n",
    "# user属性会自动传入模板中\n",
    "# 模板中可以通过user.is_authenticated判断是否登录，也可以通过use来取值\n",
    "```"
   ]
  },
  {
   "cell_type": "markdown",
   "metadata": {},
   "source": [
    "# 退出登录\n",
    "- logout()：所有会话session信息会被清除"
   ]
  },
  {
   "cell_type": "markdown",
   "metadata": {},
   "source": []
  }
 ],
 "metadata": {
  "kernelspec": {
   "display_name": "Python 3",
   "language": "python",
   "name": "python3"
  },
  "language_info": {
   "codemirror_mode": {
    "name": "ipython",
    "version": 3
   },
   "file_extension": ".py",
   "mimetype": "text/x-python",
   "name": "python",
   "nbconvert_exporter": "python",
   "pygments_lexer": "ipython3",
   "version": "3.6.5"
  }
 },
 "nbformat": 4,
 "nbformat_minor": 2
}
