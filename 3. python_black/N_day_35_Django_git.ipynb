{
 "cells": [
  {
   "cell_type": "markdown",
   "metadata": {},
   "source": [
    "# GIT\n",
    "- 分布式\n",
    "- 版本控制"
   ]
  },
  {
   "attachments": {},
   "cell_type": "markdown",
   "metadata": {},
   "source": [
    "- git init： 创建版本库\n",
    "- git add code.txt： 添加文件\n",
    "- git add -A：添加全部\n",
    "- git commit -m '版本1'： 创建一个版本\n",
    "- git log： 查看版本记录，--pretty=oneline参数，紧凑格式；--graph，图形化查看提交记录，可查看冲突提交\n",
    "- git status： 查看文件修改状态，-s参数，紧凑格式\n",
    "- git checkout -- 文件名： 丢弃工作区的改动\n",
    "\n",
    "---\n",
    "\n",
    "### 回退版本\n",
    "- git reset --hard HEAD^： 退回上一个版本，一个`^`一个版本\n",
    "- git reset --hard HEAD~2： 回退两个版本，`~数字`表示回退几个版本\n",
    "- git reset --hard 版本号： 版本号--commit：后面的编码\n",
    "- git reset HEAD 文件名： 取消暂存，之后可以checkout丢弃\n",
    "- git reflog： 查看历史记录，第一列为版本号\n",
    "\n",
    "---\n",
    "\n",
    "### 对比不同\n",
    "- git diff HEAD -- 文件名： 工作区与版本库对比\n",
    "- git diff HEAD HEAD^ -- 文件名：当前版本与上一版本对比\n",
    "- git diff HEAD^ HEAD -- 文件名：上一版本与当前版本对比\n",
    "- git diff：暂存区，工作区\n",
    "- git diff HEAD：HEAD，工作区\n",
    "- git diff --cached：HEAD，暂存区"
   ]
  },
  {
   "cell_type": "markdown",
   "metadata": {},
   "source": [
    "## git工作区、暂存区\n",
    "- 工作区：本地目录\n",
    "- 版本库：本地目录下的.git文件夹\n",
    "- 暂存区：.git目录下\n",
    "\n",
    "---\n",
    "\n",
    "- git add：添加修改到暂存区\n",
    "- git commit：为暂存区的数据创建版本记录，添加到版本库\n",
    "\n",
    "---\n",
    "\n",
    "#### 文件状态\n",
    "- 未追踪\n",
    "- 已暂存\n",
    "- 已修改\n",
    "- 未修改\n",
    "\n",
    "---\n",
    "\n",
    "#### git的对象\n",
    "- blob：文件，只保存内容\n",
    "- tree：文件夹，保存文件的名字、日期、权限等\n",
    "- commit：提交\n",
    "- commit包含tree包含blob\n",
    "- 保存在.git/objects文件夹中\n",
    "- 目录命名与版本号有关\n",
    "- sha1校验相同时，只保存一个文件\n",
    "- .git/HEAD文件指向ref: refs/heads/master，master保存一个commit文件地址"
   ]
  },
  {
   "cell_type": "markdown",
   "metadata": {},
   "source": [
    "## 分支\n",
    "- master：默认主分支\n",
    "- 创建分支：创建一个新的指针，例如dev\n",
    "- git branch：查看分支及当前分支\n",
    "- git branch 分支名：创建分支\n",
    "- git checkout -b 分支名：创建新的分支并进入\n",
    "- git checkout 分支名：切换分支\n",
    "- git merge 分支名：将一个分支合并到现在的分支（Fast-forward快速合并）\n",
    "- **git merge --no-ff -m '版本号' dev**\n",
    "- git branch -d 分支名：删除分支\n",
    "\n",
    "#### 分支合并冲突\n",
    "- 两个分支同时对一个文件进行修改，合并时冲突\n",
    "- 冲突发生后，需手动修改文件合并冲突\n",
    "- 文件内冲突位置被标记\n",
    "- 修改后：git add 文件名；git commit -m '冲突版本'\n",
    "\n",
    "#### 分支管理策略\n",
    "- 两个分支同时修改了不冲突的内容时，无法快速合并\n",
    "- 合并命令执行后，输入合并信息\n",
    "- 合并完成"
   ]
  },
  {
   "cell_type": "markdown",
   "metadata": {},
   "source": [
    "### bug分支\n",
    "- git stash save：将工作区保存\n",
    "- 新建分支修复bug\n",
    "- 提交\n",
    "- 合并bug分支（不使用快速合并）\n",
    "- 删除\n",
    "- git stash pop：恢复工作区"
   ]
  },
  {
   "cell_type": "markdown",
   "metadata": {},
   "source": [
    "## 推送\n",
    "- GitHub添加公钥\n",
    "- git clone xxxx\n",
    "- 创建分支\n",
    "- git push origin 本地分支\n",
    "- git branch --set-upstream-to=origin/远程分支 本地分支：跟踪远程分支\n",
    "- git pull orign 远程分支：拉取远程分支"
   ]
  }
 ],
 "metadata": {
  "kernelspec": {
   "display_name": "Python 3",
   "language": "python",
   "name": "python3"
  },
  "language_info": {
   "codemirror_mode": {
    "name": "ipython",
    "version": 3
   },
   "file_extension": ".py",
   "mimetype": "text/x-python",
   "name": "python",
   "nbconvert_exporter": "python",
   "pygments_lexer": "ipython3",
   "version": "3.6.5"
  }
 },
 "nbformat": 4,
 "nbformat_minor": 2
}
