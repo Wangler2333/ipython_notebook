{
 "cells": [
  {
   "cell_type": "markdown",
   "metadata": {
    "collapsed": true
   },
   "source": [
    "- 2018年1月6日，传智黑马day02\n",
    "- 阴天伴小雨\n",
    "- 还好，不太冷"
   ]
  },
  {
   "cell_type": "markdown",
   "metadata": {},
   "source": [
    "- 面向对象：先考虑由谁（库，模块）完成，不考虑实现过程\n",
    "- 面向过程：考虑实现的过程"
   ]
  },
  {
   "cell_type": "code",
   "execution_count": 1,
   "metadata": {},
   "outputs": [
    {
     "name": "stdout",
     "output_type": "stream",
     "text": [
      "          *\n",
      "         * *\n",
      "        * * *\n",
      "       * * * *\n",
      "      * * * * *\n",
      "     * * * * * *\n",
      "    * * * * * * *\n",
      "   * * * * * * * *\n",
      "  * * * * * * * * *\n"
     ]
    }
   ],
   "source": [
    "for i in range(1,10):\n",
    "    print(\" \"*(10-i),end=\"\")\n",
    "    print(\" *\"*i)\n",
    "# 中午测试了代码，结合昨晚拜读的关于算法的时间复杂度文章，优化了结构，由O(n^2)降为O(n)，即由双重嵌套优化为单个循环\n",
    "# 这套优化后的代码可读性强，算法的时间效率更高。\n",
    "# 改进前代码参照下面（不忍直视。。。）"
   ]
  },
  {
   "cell_type": "code",
   "execution_count": 6,
   "metadata": {},
   "outputs": [
    {
     "name": "stdout",
     "output_type": "stream",
     "text": [
      "         \n",
      "         *\n",
      "        * *\n",
      "       * * *\n",
      "      * * * *\n",
      "     * * * * *\n",
      "    * * * * * *\n",
      "   * * * * * * *\n",
      "  * * * * * * * *\n"
     ]
    }
   ],
   "source": [
    "for i in range(1, 10):\n",
    "    print(\" \" * (10 - i), end=\"\")\n",
    "    for j in range(1, i):\n",
    "        print(\" *\", end=\"\")\n",
    "    print()\n",
    "# 这是旧代码，为了实现连续打印“*”而采用了循环表达，根据时间复杂度最优化，显然上一行代码更高效\n",
    "# 且这套代码没有实现今天老师所讲的python编程的哲学思想：优雅，简单，高效\n",
    "# 其实最初的代码我嵌套了三个循环，即行数循环/空格循环/*号循环（简直效率低下，可读性差。。。）"
   ]
  },
  {
   "cell_type": "markdown",
   "metadata": {},
   "source": [
    "- linux命令：ls,cd,mkdir,rmdir,touch,rm"
   ]
  },
  {
   "cell_type": "code",
   "execution_count": 7,
   "metadata": {},
   "outputs": [
    {
     "name": "stdout",
     "output_type": "stream",
     "text": [
      "Hello World\n"
     ]
    }
   ],
   "source": [
    "# 第一个程序\n",
    "print(\"Hello World\")"
   ]
  },
  {
   "cell_type": "markdown",
   "metadata": {},
   "source": [
    "- indentation 缩进\n",
    "- syntax 语法\n",
    "- invalid 违法的\n",
    "- unexpected 不期望的\n",
    "- define 定义\n",
    "- integrated 集成"
   ]
  }
 ],
 "metadata": {
  "kernelspec": {
   "display_name": "Python 3",
   "language": "python",
   "name": "python3"
  },
  "language_info": {
   "codemirror_mode": {
    "name": "ipython",
    "version": 3
   },
   "file_extension": ".py",
   "mimetype": "text/x-python",
   "name": "python",
   "nbconvert_exporter": "python",
   "pygments_lexer": "ipython3",
   "version": "3.6.3"
  }
 },
 "nbformat": 4,
 "nbformat_minor": 2
}
