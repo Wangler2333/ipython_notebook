{
 "cells": [
  {
   "cell_type": "markdown",
   "metadata": {
    "collapsed": true
   },
   "source": [
    "2018年1月5号，传智黑马day01，知乐楼\n",
    "小雪（很小。。。）\n",
    "冷～"
   ]
  },
  {
   "cell_type": "code",
   "execution_count": 2,
   "metadata": {},
   "outputs": [
    {
     "name": "stdout",
     "output_type": "stream",
     "text": [
      "Hello world\n"
     ]
    }
   ],
   "source": [
    "print(\"Hello world\")"
   ]
  },
  {
   "cell_type": "markdown",
   "metadata": {
    "collapsed": true
   },
   "source": [
    "老师们自我介绍，都是很有趣的人，第一印象感觉来黑马还是不错的\n",
    "拍了python4期开班典礼照片，稍后有机会传上来"
   ]
  },
  {
   "cell_type": "markdown",
   "metadata": {},
   "source": [
    "下午签了一下午合同，老师一句一句解释。。。"
   ]
  },
  {
   "cell_type": "markdown",
   "metadata": {},
   "source": [
    "晚上回去，收到了京东定的《数据结构》，很开心，研究了两章，收获很大，学习了计算算法的复杂度及优化"
   ]
  },
  {
   "cell_type": "markdown",
   "metadata": {},
   "source": [
    "关于《数据结构原理》这本书的研究笔记将会记录在 /ipython_notebook/data_structure_notes目录下"
   ]
  }
 ],
 "metadata": {
  "kernelspec": {
   "display_name": "Python 3",
   "language": "python",
   "name": "python3"
  },
  "language_info": {
   "codemirror_mode": {
    "name": "ipython",
    "version": 3
   },
   "file_extension": ".py",
   "mimetype": "text/x-python",
   "name": "python",
   "nbconvert_exporter": "python",
   "pygments_lexer": "ipython3",
   "version": "3.6.3"
  }
 },
 "nbformat": 4,
 "nbformat_minor": 2
}
