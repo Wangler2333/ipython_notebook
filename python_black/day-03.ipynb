{
 "cells": [
  {
   "cell_type": "markdown",
   "metadata": {},
   "source": [
    "- 2018年1月7号 传智黑马\n",
    "- 小雨，大阴天\n",
    "- 冷～不想起床。。。"
   ]
  },
  {
   "cell_type": "markdown",
   "metadata": {
    "collapsed": true
   },
   "source": [
    "上午：讲解pycharm用法，感觉。。。"
   ]
  },
  {
   "cell_type": "markdown",
   "metadata": {},
   "source": [
    "下午：\n",
    "- 1.注释用法：# 单行注释 “”“(\\n)多行注释(\\n)”“”\n",
    "- 2.shift + alt + 方向键（移动整行代码）\n",
    "- 3.alt + 鼠标左键（多行统一编辑）\n",
    "- 4.command + alt + l（自动整理代码）"
   ]
  },
  {
   "cell_type": "markdown",
   "metadata": {},
   "source": [
    "算数运算符：\n",
    "    - 1.+ - * /     //整除 %取余 **幂\n",
    "    - 2.字符串*用于拼接字符串"
   ]
  },
  {
   "cell_type": "code",
   "execution_count": 1,
   "metadata": {},
   "outputs": [
    {
     "name": "stdout",
     "output_type": "stream",
     "text": [
      "----------\n"
     ]
    }
   ],
   "source": [
    "print(\"-\"*10)  # 字符串乘号拼接"
   ]
  },
  {
   "cell_type": "markdown",
   "metadata": {},
   "source": [
    "运算符优先级：\n",
    "- 1.高：幂 中：* / // %   低：+ -\n",
    "- 2.（）调整优先级\n",
    "- 3.同级自左向右"
   ]
  },
  {
   "cell_type": "markdown",
   "metadata": {},
   "source": []
  }
 ],
 "metadata": {
  "kernelspec": {
   "display_name": "Python 3",
   "language": "python",
   "name": "python3"
  },
  "language_info": {
   "codemirror_mode": {
    "name": "ipython",
    "version": 3
   },
   "file_extension": ".py",
   "mimetype": "text/x-python",
   "name": "python",
   "nbconvert_exporter": "python",
   "pygments_lexer": "ipython3",
   "version": "3.6.3"
  }
 },
 "nbformat": 4,
 "nbformat_minor": 2
}
