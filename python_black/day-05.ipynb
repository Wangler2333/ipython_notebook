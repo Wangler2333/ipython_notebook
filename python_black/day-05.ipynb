{
 "cells": [
  {
   "cell_type": "markdown",
   "metadata": {},
   "source": [
    "- 2018年1月9号 传智黑马\n",
    "- 大晴天 很棒～\n",
    "- 终于开始写代码了～\n",
    "- GitHub地址：https://github.com/Wangler2333/ipython_notebook/tree/master/python_black\n",
    "- 浏览地址：https://nbviewer.jupyter.org/github/Wangler2333/ipython_notebook/blob/master/python_black/day-05.ipynb"
   ]
  },
  {
   "cell_type": "markdown",
   "metadata": {
    "collapsed": true
   },
   "source": [
    "## 上午"
   ]
  },
  {
   "cell_type": "code",
   "execution_count": 1,
   "metadata": {},
   "outputs": [
    {
     "name": "stdout",
     "output_type": "stream",
     "text": [
      "输入数字：10\n",
      "10\n"
     ]
    }
   ],
   "source": [
    "# input函数\n",
    "a = input(\"输入数字：\")\n",
    "print(a)"
   ]
  },
  {
   "cell_type": "code",
   "execution_count": 2,
   "metadata": {},
   "outputs": [
    {
     "name": "stdout",
     "output_type": "stream",
     "text": [
      "输入数字：8\n",
      "a*2=16\n"
     ]
    }
   ],
   "source": [
    "# int()，float()转化\n",
    "a = int(input(\"输入数字：\"))\n",
    "b = a * 2\n",
    "print(\"a*2=%d\" % b)"
   ]
  },
  {
   "cell_type": "code",
   "execution_count": 5,
   "metadata": {},
   "outputs": [
    {
     "name": "stdout",
     "output_type": "stream",
     "text": [
      "1.0 1.0 1\n"
     ]
    }
   ],
   "source": [
    "a = \"1.0\"\n",
    "b = float(a)\n",
    "#c = int(a) #报警，无法直接转换\n",
    "d = int(b)\n",
    "print(a,b,d)"
   ]
  },
  {
   "cell_type": "code",
   "execution_count": 6,
   "metadata": {},
   "outputs": [
    {
     "name": "stdout",
     "output_type": "stream",
     "text": [
      "True or False:False\n",
      "true\n"
     ]
    }
   ],
   "source": [
    "a = input(\"True or False:\")\n",
    "if a :                        #字符串判断，非空即真\n",
    "    print(\"true\")\n",
    "else:\n",
    "    print(\"false\")"
   ]
  },
  {
   "cell_type": "markdown",
   "metadata": {},
   "source": [
    "## 中午\n",
    "#### 空心菱形"
   ]
  },
  {
   "cell_type": "code",
   "execution_count": 7,
   "metadata": {},
   "outputs": [
    {
     "name": "stdout",
     "output_type": "stream",
     "text": [
      "       *\n",
      "      * *\n",
      "     *   *\n",
      "    *     *\n",
      "   *       *\n",
      "  *         *\n",
      " *           *\n",
      "  *         *\n",
      "   *       *\n",
      "    *     *\n",
      "     *   *\n",
      "      * *\n",
      "       *\n"
     ]
    }
   ],
   "source": [
    "# 初版\n",
    "print(\" \" * 7 + \"*\")\n",
    "for i in range(1, 7):\n",
    "    print(\" \" * (7 - i), end=\"\")\n",
    "    print(\"*\", end=\"\")\n",
    "    print(\"  \" * (i - 1), end=\"\")\n",
    "    print(\" *\")\n",
    "for j in range(1, 6):\n",
    "    print(\" \" * (j + 1), end=\"\")\n",
    "    print(\"*\", end=\"\")\n",
    "    print(\"  \" * (5 - j), end=\"\")\n",
    "    print(\" *\")\n",
    "print(\" \" * 7 + \"*\")"
   ]
  },
  {
   "cell_type": "code",
   "execution_count": 8,
   "metadata": {},
   "outputs": [
    {
     "name": "stdout",
     "output_type": "stream",
     "text": [
      "       *\n",
      "      * *\n",
      "     *   *\n",
      "    *     *\n",
      "   *       *\n",
      "  *         *\n",
      " *           *\n",
      "  *         *\n",
      "   *       *\n",
      "    *     *\n",
      "     *   *\n",
      "      * *\n",
      "       *\n"
     ]
    }
   ],
   "source": [
    "# 二版（合并print）\n",
    "print(\" \" * 7 + \"*\")\n",
    "for i in range(1, 7):\n",
    "    print(\" \" * (7 - i) + \"*\" + \"  \" * (i - 1) + \" *\")\n",
    "for j in range(1, 6):\n",
    "    print(\" \" * (j + 1) + \"*\" + \"  \" * (5 - j) + \" *\")\n",
    "print(\" \" * 7 + \"*\")"
   ]
  },
  {
   "cell_type": "code",
   "execution_count": 9,
   "metadata": {},
   "outputs": [
    {
     "name": "stdout",
     "output_type": "stream",
     "text": [
      "    *\n",
      "   * *\n",
      "  *   *\n",
      " *     *\n",
      "  *   *\n",
      "   * *\n",
      "    *\n"
     ]
    }
   ],
   "source": [
    "# 第三版（制成通用函数）\n",
    "def diamond(size):\n",
    "    print(\" \" * size + \"*\")\n",
    "    for i in range(1, size):\n",
    "        print(\" \" * (size - i) + \"*\" + \"  \" * (i - 1) + \" *\")\n",
    "    for j in range(1, size - 1):\n",
    "        print(\" \" * (j + 1) + \"*\" + \"  \" * (size - 2 - j) + \" *\")\n",
    "    print(\" \" * size + \"*\")\n",
    "\n",
    "\n",
    "diamond(4)"
   ]
  },
  {
   "cell_type": "code",
   "execution_count": 10,
   "metadata": {},
   "outputs": [
    {
     "name": "stdout",
     "output_type": "stream",
     "text": [
      "   *\n",
      "  * *\n",
      " *   *\n",
      "  * *\n",
      "   *\n"
     ]
    }
   ],
   "source": [
    "diamond(3)"
   ]
  },
  {
   "cell_type": "code",
   "execution_count": 11,
   "metadata": {},
   "outputs": [
    {
     "name": "stdout",
     "output_type": "stream",
     "text": [
      "  *\n",
      " * *\n",
      "  *\n"
     ]
    }
   ],
   "source": [
    "diamond(2)"
   ]
  },
  {
   "cell_type": "code",
   "execution_count": 12,
   "metadata": {},
   "outputs": [
    {
     "name": "stdout",
     "output_type": "stream",
     "text": [
      " *\n",
      " *\n"
     ]
    }
   ],
   "source": [
    "diamond(1)"
   ]
  },
  {
   "cell_type": "code",
   "execution_count": 13,
   "metadata": {},
   "outputs": [
    {
     "name": "stdout",
     "output_type": "stream",
     "text": [
      "*\n",
      "*\n"
     ]
    }
   ],
   "source": [
    "diamond(0)"
   ]
  },
  {
   "cell_type": "markdown",
   "metadata": {},
   "source": [
    "## 下午"
   ]
  },
  {
   "cell_type": "markdown",
   "metadata": {},
   "source": [
    "#### 字符串格式化输出\n",
    "- %s    字符串 (采用str()的显示)\n",
    "- %r    字符串 (采用repr()的显示)\n",
    "- %c    单个字符\n",
    "- %b    二进制整数\n",
    "- %d    十进制整数\n",
    "- %i    十进制整数\n",
    "- %o    八进制整数\n",
    "- %x    十六进制整数\n",
    "- %e    指数 (基底写为e)\n",
    "- %E    指数 (基底写为E)\n",
    "- %f    浮点数\n",
    "- %F    浮点数，与上相同\n",
    "- %g    指数(e)或浮点数 (根据显示长度)\n",
    "- %G    指数(E)或浮点数 (根据显示长度)\n",
    "\n",
    "- %%    字符\"%\""
   ]
  },
  {
   "cell_type": "markdown",
   "metadata": {},
   "source": [
    "### 逻辑判断"
   ]
  },
  {
   "cell_type": "code",
   "execution_count": 2,
   "metadata": {},
   "outputs": [
    {
     "name": "stdout",
     "output_type": "stream",
     "text": [
      "True\n"
     ]
    }
   ],
   "source": [
    "a = True  #False\n",
    "if a:\n",
    "    print(\"True\")\n",
    "else:\n",
    "    print(\"False\")"
   ]
  },
  {
   "cell_type": "code",
   "execution_count": 4,
   "metadata": {},
   "outputs": [
    {
     "name": "stdout",
     "output_type": "stream",
     "text": [
      "3\n"
     ]
    }
   ],
   "source": [
    "a = 1\n",
    "if a > 1:\n",
    "    print(1)\n",
    "elif a < 1:\n",
    "    print(2)\n",
    "else:\n",
    "    print(3)"
   ]
  },
  {
   "cell_type": "markdown",
   "metadata": {},
   "source": [
    "### 逻辑运算符\n",
    "- and，or，not"
   ]
  }
 ],
 "metadata": {
  "kernelspec": {
   "display_name": "Python 3",
   "language": "python",
   "name": "python3"
  },
  "language_info": {
   "codemirror_mode": {
    "name": "ipython",
    "version": 3
   },
   "file_extension": ".py",
   "mimetype": "text/x-python",
   "name": "python",
   "nbconvert_exporter": "python",
   "pygments_lexer": "ipython3",
   "version": "3.6.3"
  }
 },
 "nbformat": 4,
 "nbformat_minor": 2
}
