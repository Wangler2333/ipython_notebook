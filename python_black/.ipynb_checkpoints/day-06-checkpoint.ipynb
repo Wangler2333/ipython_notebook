{
 "cells": [
  {
   "cell_type": "markdown",
   "metadata": {},
   "source": [
    "- 2018年1月10号 传智黑马\n",
    "- 大晴天 非常棒～\n",
    "- 终于开始学重点了。。\n",
    "- GitHub地址：https://github.com/Wangler2333/ipython_notebook/tree/master/python_black\n",
    "- 浏览地址：https://nbviewer.jupyter.org/github/Wangler2333/ipython_notebook/blob/master/python_black/day-06.ipynb"
   ]
  },
  {
   "cell_type": "markdown",
   "metadata": {
    "collapsed": true
   },
   "source": [
    "### 循环（顺序，分支，循环）\n",
    "- while循环"
   ]
  },
  {
   "cell_type": "code",
   "execution_count": 1,
   "metadata": {},
   "outputs": [
    {
     "name": "stdout",
     "output_type": "stream",
     "text": [
      "Hello Python\n",
      "Hello Python\n",
      "Hello Python\n",
      "Hello Python\n",
      "Hello Python\n",
      "end\n"
     ]
    }
   ],
   "source": [
    "i = 1\n",
    "while i <= 5:\n",
    "    print(\"Hello Python\")\n",
    "    i += 1\n",
    "print(\"end\")"
   ]
  },
  {
   "cell_type": "code",
   "execution_count": 5,
   "metadata": {},
   "outputs": [
    {
     "data": {
      "text/plain": [
       "6"
      ]
     },
     "execution_count": 5,
     "metadata": {},
     "output_type": "execute_result"
    }
   ],
   "source": [
    "i"
   ]
  },
  {
   "cell_type": "code",
   "execution_count": 1,
   "metadata": {},
   "outputs": [
    {
     "name": "stdout",
     "output_type": "stream",
     "text": [
      "       *\n",
      "      * *\n",
      "     * * *\n",
      "    * * * *\n",
      "   * * * * *\n",
      "  * * * * * *\n",
      " * * * * * * *\n"
     ]
    }
   ],
   "source": [
    "i = 1\n",
    "while i <= 7:\n",
    "    print(\" \" * (7 - i) + \" *\" * i)\n",
    "    i += 1"
   ]
  },
  {
   "cell_type": "code",
   "execution_count": 15,
   "metadata": {},
   "outputs": [
    {
     "name": "stdout",
     "output_type": "stream",
     "text": [
      "        *\n",
      "       * *\n",
      "      *   *\n",
      "     *     *\n",
      "    *       *\n",
      "   *         *\n",
      "  *           *\n",
      " *             *\n",
      "* * * * * * * * * \n"
     ]
    }
   ],
   "source": [
    "i = 1\n",
    "print(\" \" * 8 + \"*\")\n",
    "while i <= 7:\n",
    "    print(\" \" * (7 - i) + \" *\" + \"  \" * (i - 1) + \" *\")\n",
    "    i += 1\n",
    "print(\"* \" * 9)"
   ]
  },
  {
   "cell_type": "markdown",
   "metadata": {
    "collapsed": true
   },
   "source": [
    "## break和continue\n",
    "- break:退出整个循环，不再循环\n",
    "- continue:退出本次循环，循环继续\n",
    "- break和continue只对一层循环有效"
   ]
  },
  {
   "cell_type": "markdown",
   "metadata": {},
   "source": [
    "# python标准异常（来源网络）\n",
    "异常名称\t       描述\n",
    "- BaseException\t所有异常的基类\n",
    "- SystemExit\t解释器请求退出\n",
    "- KeyboardInterrupt\t用户中断执行(通常是输入^C)\n",
    "- Exception\t常规错误的基类\n",
    "- StopIteration\t迭代器没有更多的值\n",
    "- GeneratorExit\t生成器(generator)发生异常来通知退出\n",
    "- StandardError\t所有的内建标准异常的基类\n",
    "- ArithmeticError\t所有数值计算错误的基类\n",
    "- FloatingPointError\t浮点计算错误\n",
    "- OverflowError\t数值运算超出最大限制\n",
    "- ZeroDivisionError\t除(或取模)零 (所有数据类型)\n",
    "- AssertionError\t断言语句失败\n",
    "- AttributeError\t对象没有这个属性\n",
    "- EOFError\t没有内建输入,到达EOF 标记\n",
    "- EnvironmentError\t操作系统错误的基类\n",
    "- IOError\t输入/输出操作失败\n",
    "- OSError\t操作系统错误\n",
    "- WindowsError\t系统调用失败\n",
    "- ImportError\t导入模块/对象失败\n",
    "- LookupError\t无效数据查询的基类\n",
    "- IndexError\t序列中没有此索引(index)\n",
    "- KeyError\t映射中没有这个键\n",
    "- MemoryError\t内存溢出错误(对于Python 解释器不是致命的)\n",
    "- NameError\t未声明/初始化对象 (没有属性)\n",
    "- UnboundLocalError\t访问未初始化的本地变量\n",
    "- ReferenceError\t弱引用(Weak reference)试图访问已经垃圾回收了的对象\n",
    "- RuntimeError\t一般的运行时错误\n",
    "- NotImplementedError\t尚未实现的方法\n",
    "- SyntaxError\tPython 语法错误\n",
    "- IndentationError\t缩进错误\n",
    "- TabError\tTab 和空格混用\n",
    "- SystemError\t一般的解释器系统错误\n",
    "- TypeError\t对类型无效的操作\n",
    "- ValueError\t传入无效的参数\n",
    "- UnicodeError\tUnicode 相关的错误\n",
    "- UnicodeDecodeError\tUnicode 解码时的错误\n",
    "- UnicodeEncodeError\tUnicode 编码时错误\n",
    "- UnicodeTranslateError\tUnicode 转换时错误\n",
    "- Warning\t警告的基类\n",
    "- DeprecationWarning\t关于被弃用的特征的警告\n",
    "- FutureWarning\t关于构造将来语义会有改变的警告\n",
    "- OverflowWarning\t旧的关于自动提升为长整型(long)的警告\n",
    "- PendingDeprecationWarning\t关于特性将会被废弃的警告\n",
    "- RuntimeWarning\t可疑的运行时行为(runtime behavior)的警告\n",
    "- SyntaxWarning\t可疑的语法的警告\n",
    "- UserWarning\t用户代码生成的警告"
   ]
  }
 ],
 "metadata": {
  "kernelspec": {
   "display_name": "Python 3",
   "language": "python",
   "name": "python3"
  },
  "language_info": {
   "codemirror_mode": {
    "name": "ipython",
    "version": 3
   },
   "file_extension": ".py",
   "mimetype": "text/x-python",
   "name": "python",
   "nbconvert_exporter": "python",
   "pygments_lexer": "ipython3",
   "version": "3.6.3"
  }
 },
 "nbformat": 4,
 "nbformat_minor": 2
}
