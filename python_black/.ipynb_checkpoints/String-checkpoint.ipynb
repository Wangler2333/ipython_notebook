{
 "cells": [
  {
   "cell_type": "markdown",
   "metadata": {},
   "source": [
    "### 4.2 字符串的常用操作\n",
    "\n",
    "* 在 `ipython3` 中定义一个 **字符串**，例如：`hello_str = \"\"`\n",
    "* 输入 `hello_str.` 按下 `TAB` 键，`ipython` 会提示 **字符串** 能够使用的 **方法** 如下：\n",
    "\n",
    "```\n",
    "In [1]: hello_str.\n",
    "hello_str.capitalize    hello_str.isidentifier  hello_str.rindex\n",
    "hello_str.casefold      hello_str.islower       hello_str.rjust\n",
    "hello_str.center        hello_str.isnumeric     hello_str.rpartition\n",
    "hello_str.count         hello_str.isprintable   hello_str.rsplit\n",
    "hello_str.encode        hello_str.isspace       hello_str.rstrip\n",
    "hello_str.endswith      hello_str.istitle       hello_str.split\n",
    "hello_str.expandtabs    hello_str.isupper       hello_str.splitlines\n",
    "hello_str.find          hello_str.join          hello_str.startswith\n",
    "hello_str.format        hello_str.ljust         hello_str.strip\n",
    "hello_str.format_map    hello_str.lower         hello_str.swapcase\n",
    "hello_str.index         hello_str.lstrip        hello_str.title\n",
    "hello_str.isalnum       hello_str.maketrans     hello_str.translate\n",
    "hello_str.isalpha       hello_str.partition     hello_str.upper\n",
    "hello_str.isdecimal     hello_str.replace       hello_str.zfill\n",
    "hello_str.isdigit       hello_str.rfind\n",
    "```\n",
    "\n",
    "> 提示：正是因为 python 内置提供的方法足够多，才使得在开发时，能够针对字符串进行更加灵活的操作！应对更多的开发需求！"
   ]
  },
  {
   "cell_type": "markdown",
   "metadata": {},
   "source": [
    "#### 1) 判断类型 - 9\n",
    "\n",
    "| 方法 | 说明 |\n",
    "| --- | --- |\n",
    "| string.isspace() | 如果 string 中只包含空格，则返回 True | \n",
    "| string.isalnum() | 如果 string 至少有一个字符并且所有字符都是字母或数字则返回 True |\n",
    "| string.isalpha() | 如果 string 至少有一个字符并且所有字符都是字母则返回 True |\n",
    "| string.isdecimal() | 如果 string 只包含数字则返回 True，`全角数字` | \n",
    "| string.isdigit() | 如果 string 只包含数字则返回 True，`全角数字`、`⑴`、`\\u00b2` |\n",
    "| string.isnumeric() | 如果 string 只包含数字则返回 True，`全角数字`，`汉字数字` |  \n",
    "| string.istitle() | 如果 string 是标题化的(每个单词的首字母大写)则返回 True | \n",
    "| string.islower() | 如果 string 中包含至少一个区分大小写的字符，并且所有这些(区分大小写的)字符都是小写，则返回 True | \n",
    "| string.isupper() | 如果 string 中包含至少一个区分大小写的字符，并且所有这些(区分大小写的)字符都是大写，则返回 True |"
   ]
  },
  {
   "cell_type": "markdown",
   "metadata": {},
   "source": [
    "#### 2) 查找和替换 - 7\n",
    "\n",
    "| 方法 | 说明 |\n",
    "| --- | --- |\n",
    "| string.startswith(str) | 检查字符串是否是以 str 开头，是则返回 True |\n",
    "| string.endswith(str) | 检查字符串是否是以 str 结束，是则返回 True |\n",
    "| string.find(str, start=0, end=len(string)) | 检测 str 是否包含在 string 中，如果 start 和 end 指定范围，则检查是否包含在指定范围内，如果是返回开始的索引值，否则返回 `-1` |\n",
    "| string.rfind(str, start=0, end=len(string)) | 类似于 find()，不过是从右边开始查找 | \n",
    "| string.index(str, start=0, end=len(string)) | 跟 find() 方法类似，不过如果 str 不在 string 会报错 |\n",
    "| string.rindex(str, start=0, end=len(string)) | 类似于 index()，不过是从右边开始 |\n",
    "| string.replace(old_str, new_str, num=string.count(old)) | 把 string 中的 old_str 替换成 new_str，如果 num 指定，则替换不超过 num 次 |"
   ]
  },
  {
   "cell_type": "markdown",
   "metadata": {},
   "source": [
    "#### 3) 大小写转换 - 5\n",
    "\n",
    "| 方法 | 说明 |\n",
    "| --- | --- |\n",
    "| string.capitalize() | 把字符串的第一个字符大写 |\n",
    "| string.title() | 把字符串的每个单词首字母大写 |\n",
    "| string.lower() | 转换 string 中所有大写字符为小写 |\n",
    "| string.upper() | 转换 string 中的小写字母为大写 |\n",
    "| string.swapcase() | 翻转 string 中的大小写 |"
   ]
  },
  {
   "cell_type": "markdown",
   "metadata": {},
   "source": [
    "#### 4) 文本对齐 - 3\n",
    "\n",
    "| 方法 | 说明 |\n",
    "| --- | --- |\n",
    "| string.ljust(width) | 返回一个原字符串左对齐，并使用空格填充至长度 width 的新字符串 |\n",
    "| string.rjust(width) | 返回一个原字符串右对齐，并使用空格填充至长度 width 的新字符串 |\n",
    "| string.center(width) | 返回一个原字符串居中，并使用空格填充至长度 width 的新字符串 |"
   ]
  },
  {
   "cell_type": "markdown",
   "metadata": {},
   "source": [
    "#### 5) 去除空白字符 - 3\n",
    "\n",
    "| 方法 | 说明 |\n",
    "| --- | --- |\n",
    "| string.lstrip() | 截掉 string 左边（开始）的空白字符 |\n",
    "| string.rstrip() | 截掉 string 右边（末尾）的空白字符 |\n",
    "| string.strip() | 截掉 string 左右两边的空白字符 |"
   ]
  },
  {
   "cell_type": "markdown",
   "metadata": {},
   "source": [
    "#### 6) 拆分和连接 - 5\n",
    "\n",
    "| 方法 | 说明 |\n",
    "| --- | --- |\n",
    "| string.partition(str) | 把字符串 string 分成一个 3 元素的元组 (str前面, str, str后面) |\n",
    "| string.rpartition(str) | 类似于 partition() 方法，不过是从右边开始查找 |\n",
    "| string.split(str=\"\", num) | 以 str 为分隔符拆分 string，如果 num 有指定值，则仅分隔 num + 1 个子字符串，str 默认包含 '\\r', '\\t', '\\n' 和空格 |\n",
    "| string.splitlines() | 按照行('\\r', '\\n', '\\r\\n')分隔，返回一个包含各行作为元素的列表 |\n",
    "| string.join(seq) | 以 string 作为分隔符，将 seq 中所有的元素（的字符串表示）合并为一个新的字符串 |"
   ]
  }
 ],
 "metadata": {
  "kernelspec": {
   "display_name": "Python 3",
   "language": "python",
   "name": "python3"
  },
  "language_info": {
   "codemirror_mode": {
    "name": "ipython",
    "version": 3
   },
   "file_extension": ".py",
   "mimetype": "text/x-python",
   "name": "python",
   "nbconvert_exporter": "python",
   "pygments_lexer": "ipython3",
   "version": "3.6.3"
  }
 },
 "nbformat": 4,
 "nbformat_minor": 2
}
