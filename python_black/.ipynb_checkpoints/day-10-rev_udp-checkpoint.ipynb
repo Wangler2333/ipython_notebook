{
 "cells": [
  {
   "cell_type": "markdown",
   "metadata": {},
   "source": [
    "- 2018年1月16号 传智黑马\n",
    "- 阴天小雨，还好～\n",
    "- 实现PyQt-udp聊天室\n",
    "- GitHub地址：https://github.com/Wangler2333/ipython_notebook/tree/master/python_black\n",
    "- 浏览地址：https://nbviewer.jupyter.org/github/Wangler2333/ipython_notebook/blob/master/python_black/day-10-rev_udp.ipynb"
   ]
  },
  {
   "cell_type": "markdown",
   "metadata": {
    "collapsed": true
   },
   "source": [
    "- 以下代码实现接收udp信息，但发送还未实现"
   ]
  },
  {
   "cell_type": "code",
   "execution_count": null,
   "metadata": {
    "collapsed": true
   },
   "outputs": [],
   "source": [
    "from PyQt5 import QtCore, QtWidgets\n",
    "from PyQt5.QtWidgets import (QDialog, QLabel,\n",
    "                             QPushButton, QVBoxLayout)\n",
    "from PyQt5.QtNetwork import QUdpSocket, QHostAddress\n",
    "\n",
    "\n",
    "class Ui_mainWindow(QDialog):\n",
    "    def __init__(self, parent=None):\n",
    "        super(Ui_mainWindow, self).__init__(parent)\n",
    "\n",
    "    def receiveui(self, MainWindow):\n",
    "        MainWindow.setObjectName(\"MainWindow\")\n",
    "        MainWindow.resize(1024, 720)\n",
    "        self.centralWidget = QtWidgets.QWidget(MainWindow)\n",
    "        self.centralWidget.setObjectName(\"centralWidget\")\n",
    "        self.text_view = QtWidgets.QTextBrowser(self.centralWidget)\n",
    "        self.text_view.setGeometry(QtCore.QRect(12, 12, 720, 440))\n",
    "        self.text_view.setObjectName(\"text_view\")\n",
    "        self.text_edit = QtWidgets.QTextEdit(self.centralWidget)\n",
    "        self.text_edit.setGeometry(QtCore.QRect(12, 500, 720, 150))\n",
    "        self.text_edit.setObjectName(\"text_edit\")\n",
    "        self.send = QtWidgets.QPushButton(self.centralWidget)\n",
    "        self.send.setGeometry(QtCore.QRect(780, 580, 180, 60))\n",
    "        self.send.setObjectName(\"send\")\n",
    "        self.receive = QtWidgets.QPushButton(self.centralWidget)\n",
    "        self.receive.setGeometry(QtCore.QRect(810, 60, 113, 32))\n",
    "        self.receive.setObjectName(\"receive\")\n",
    "        MainWindow.setCentralWidget(self.centralWidget)\n",
    "        self.statusBar = QtWidgets.QStatusBar(MainWindow)\n",
    "        self.statusBar.setObjectName(\"statusBar\")\n",
    "        MainWindow.setStatusBar(self.statusBar)\n",
    "\n",
    "        self.udpSocket = QUdpSocket(self)\n",
    "        self.udpSocket.bind(45454)\n",
    "        self.udpSocket.readyRead.connect(self.processPendingDatagrams)\n",
    "\n",
    "        self.retranslateUi(MainWindow)\n",
    "        # self.receive.clicked.connect(self.receive_udp)\n",
    "        # self.send.clicked.connect(self.broadcastDatagramm())\n",
    "        QtCore.QMetaObject.connectSlotsByName(MainWindow)\n",
    "\n",
    "    def retranslateUi(self, MainWindow):\n",
    "        _translate = QtCore.QCoreApplication.translate\n",
    "        MainWindow.setWindowTitle(_translate(\"MainWindow\", \"局域网传输测试\"))\n",
    "        self.send.setText(_translate(\"MainWindow\", \"发送(send)\"))\n",
    "        self.receive.setText(_translate(\"MainWindow\", \"接收(receive)\"))\n",
    "\n",
    "    # def broadcastDatagramm(self):\n",
    "    #     datagram_send = self.text_edit.toPlainText()\n",
    "    #     self.udpSocket.writeDatagram(datagram_send.encode(\"utf-8\"), QHostAddress(QHostAddress.Broadcast), 45454)\n",
    "\n",
    "    def processPendingDatagrams(self):\n",
    "        while self.udpSocket.hasPendingDatagrams():\n",
    "            datagram_rev, host, port = self.udpSocket.readDatagram(self.udpSocket.pendingDatagramSize())\n",
    "\n",
    "            try:\n",
    "                # Python v3.\n",
    "                datagram = str(datagram_rev, encoding='utf-8')\n",
    "            except TypeError:\n",
    "                # Python v2.\n",
    "                pass\n",
    "\n",
    "            self.text_view.insertPlainText(\"%s \\n\" % datagram)"
   ]
  },
  {
   "cell_type": "markdown",
   "metadata": {},
   "source": [
    "- 上述部分代码还未理解"
   ]
  }
 ],
 "metadata": {
  "kernelspec": {
   "display_name": "Python 3",
   "language": "python",
   "name": "python3"
  },
  "language_info": {
   "codemirror_mode": {
    "name": "ipython",
    "version": 3
   },
   "file_extension": ".py",
   "mimetype": "text/x-python",
   "name": "python",
   "nbconvert_exporter": "python",
   "pygments_lexer": "ipython3",
   "version": "3.6.3"
  }
 },
 "nbformat": 4,
 "nbformat_minor": 2
}
